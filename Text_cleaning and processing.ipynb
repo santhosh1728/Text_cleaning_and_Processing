{
 "cells": [
  {
   "cell_type": "code",
   "execution_count": 1,
   "id": "e1005e1e",
   "metadata": {},
   "outputs": [],
   "source": [
    "import pandas as pd\n",
    "import numpy as np\n",
    "import spacy"
   ]
  },
  {
   "cell_type": "code",
   "execution_count": 2,
   "id": "a85ef201",
   "metadata": {
    "scrolled": true
   },
   "outputs": [
    {
     "name": "stdout",
     "output_type": "stream",
     "text": [
      "Requirement already satisfied: spacy in c:\\users\\santh\\virtualbox vms\\linux\\snapshots\\lib\\site-packages (3.6.1)\n",
      "Requirement already satisfied: spacy-legacy<3.1.0,>=3.0.11 in c:\\users\\santh\\virtualbox vms\\linux\\snapshots\\lib\\site-packages (from spacy) (3.0.12)\n",
      "Requirement already satisfied: spacy-loggers<2.0.0,>=1.0.0 in c:\\users\\santh\\virtualbox vms\\linux\\snapshots\\lib\\site-packages (from spacy) (1.0.5)\n",
      "Requirement already satisfied: murmurhash<1.1.0,>=0.28.0 in c:\\users\\santh\\virtualbox vms\\linux\\snapshots\\lib\\site-packages (from spacy) (1.0.10)\n",
      "Requirement already satisfied: cymem<2.1.0,>=2.0.2 in c:\\users\\santh\\virtualbox vms\\linux\\snapshots\\lib\\site-packages (from spacy) (2.0.8)\n",
      "Requirement already satisfied: preshed<3.1.0,>=3.0.2 in c:\\users\\santh\\virtualbox vms\\linux\\snapshots\\lib\\site-packages (from spacy) (3.0.9)\n",
      "Requirement already satisfied: thinc<8.2.0,>=8.1.8 in c:\\users\\santh\\virtualbox vms\\linux\\snapshots\\lib\\site-packages (from spacy) (8.1.12)\n",
      "Requirement already satisfied: wasabi<1.2.0,>=0.9.1 in c:\\users\\santh\\virtualbox vms\\linux\\snapshots\\lib\\site-packages (from spacy) (1.1.2)\n",
      "Requirement already satisfied: srsly<3.0.0,>=2.4.3 in c:\\users\\santh\\virtualbox vms\\linux\\snapshots\\lib\\site-packages (from spacy) (2.4.7)\n",
      "Requirement already satisfied: catalogue<2.1.0,>=2.0.6 in c:\\users\\santh\\virtualbox vms\\linux\\snapshots\\lib\\site-packages (from spacy) (2.0.9)\n",
      "Requirement already satisfied: typer<0.10.0,>=0.3.0 in c:\\users\\santh\\virtualbox vms\\linux\\snapshots\\lib\\site-packages (from spacy) (0.9.0)\n",
      "Requirement already satisfied: pathy>=0.10.0 in c:\\users\\santh\\virtualbox vms\\linux\\snapshots\\lib\\site-packages (from spacy) (0.10.2)\n",
      "Requirement already satisfied: smart-open<7.0.0,>=5.2.1 in c:\\users\\santh\\virtualbox vms\\linux\\snapshots\\lib\\site-packages (from spacy) (5.2.1)\n",
      "Requirement already satisfied: tqdm<5.0.0,>=4.38.0 in c:\\users\\santh\\virtualbox vms\\linux\\snapshots\\lib\\site-packages (from spacy) (4.65.0)\n",
      "Requirement already satisfied: numpy>=1.15.0 in c:\\users\\santh\\virtualbox vms\\linux\\snapshots\\lib\\site-packages (from spacy) (1.24.3)\n",
      "Requirement already satisfied: requests<3.0.0,>=2.13.0 in c:\\users\\santh\\virtualbox vms\\linux\\snapshots\\lib\\site-packages (from spacy) (2.31.0)\n",
      "Requirement already satisfied: pydantic!=1.8,!=1.8.1,<3.0.0,>=1.7.4 in c:\\users\\santh\\virtualbox vms\\linux\\snapshots\\lib\\site-packages (from spacy) (2.3.0)\n",
      "Requirement already satisfied: jinja2 in c:\\users\\santh\\virtualbox vms\\linux\\snapshots\\lib\\site-packages (from spacy) (3.1.2)\n",
      "Requirement already satisfied: setuptools in c:\\users\\santh\\virtualbox vms\\linux\\snapshots\\lib\\site-packages (from spacy) (68.2.2)\n",
      "Requirement already satisfied: packaging>=20.0 in c:\\users\\santh\\virtualbox vms\\linux\\snapshots\\lib\\site-packages (from spacy) (23.1)\n",
      "Requirement already satisfied: langcodes<4.0.0,>=3.2.0 in c:\\users\\santh\\virtualbox vms\\linux\\snapshots\\lib\\site-packages (from spacy) (3.3.0)\n",
      "Requirement already satisfied: annotated-types>=0.4.0 in c:\\users\\santh\\virtualbox vms\\linux\\snapshots\\lib\\site-packages (from pydantic!=1.8,!=1.8.1,<3.0.0,>=1.7.4->spacy) (0.5.0)\n",
      "Requirement already satisfied: pydantic-core==2.6.3 in c:\\users\\santh\\virtualbox vms\\linux\\snapshots\\lib\\site-packages (from pydantic!=1.8,!=1.8.1,<3.0.0,>=1.7.4->spacy) (2.6.3)\n",
      "Requirement already satisfied: typing-extensions>=4.6.1 in c:\\users\\santh\\virtualbox vms\\linux\\snapshots\\lib\\site-packages (from pydantic!=1.8,!=1.8.1,<3.0.0,>=1.7.4->spacy) (4.7.1)\n",
      "Requirement already satisfied: charset-normalizer<4,>=2 in c:\\users\\santh\\virtualbox vms\\linux\\snapshots\\lib\\site-packages (from requests<3.0.0,>=2.13.0->spacy) (2.0.4)\n",
      "Requirement already satisfied: idna<4,>=2.5 in c:\\users\\santh\\virtualbox vms\\linux\\snapshots\\lib\\site-packages (from requests<3.0.0,>=2.13.0->spacy) (3.4)\n",
      "Requirement already satisfied: urllib3<3,>=1.21.1 in c:\\users\\santh\\virtualbox vms\\linux\\snapshots\\lib\\site-packages (from requests<3.0.0,>=2.13.0->spacy) (1.26.16)\n",
      "Requirement already satisfied: certifi>=2017.4.17 in c:\\users\\santh\\virtualbox vms\\linux\\snapshots\\lib\\site-packages (from requests<3.0.0,>=2.13.0->spacy) (2023.7.22)\n",
      "Requirement already satisfied: blis<0.8.0,>=0.7.8 in c:\\users\\santh\\virtualbox vms\\linux\\snapshots\\lib\\site-packages (from thinc<8.2.0,>=8.1.8->spacy) (0.7.10)\n",
      "Requirement already satisfied: confection<1.0.0,>=0.0.1 in c:\\users\\santh\\virtualbox vms\\linux\\snapshots\\lib\\site-packages (from thinc<8.2.0,>=8.1.8->spacy) (0.1.3)\n",
      "Requirement already satisfied: colorama in c:\\users\\santh\\virtualbox vms\\linux\\snapshots\\lib\\site-packages (from tqdm<5.0.0,>=4.38.0->spacy) (0.4.6)\n",
      "Requirement already satisfied: click<9.0.0,>=7.1.1 in c:\\users\\santh\\virtualbox vms\\linux\\snapshots\\lib\\site-packages (from typer<0.10.0,>=0.3.0->spacy) (8.0.4)\n",
      "Requirement already satisfied: MarkupSafe>=2.0 in c:\\users\\santh\\virtualbox vms\\linux\\snapshots\\lib\\site-packages (from jinja2->spacy) (2.1.1)\n",
      "Note: you may need to restart the kernel to use updated packages.\n"
     ]
    }
   ],
   "source": [
    "pip install spacy"
   ]
  },
  {
   "cell_type": "code",
   "execution_count": 3,
   "id": "c42f7444",
   "metadata": {},
   "outputs": [],
   "source": [
    "from spacy.lang.en.stop_words import STOP_WORDS as stopwords"
   ]
  },
  {
   "cell_type": "code",
   "execution_count": 4,
   "id": "67cd8f52",
   "metadata": {},
   "outputs": [],
   "source": [
    "df = pd.read_csv(\"https://raw.githubusercontent.com/laxmimerit/twitter-data/101ebe28367c65359a61b9f54ac446932cc401d9/twitter4000.csv\")"
   ]
  },
  {
   "cell_type": "code",
   "execution_count": 5,
   "id": "f4b6c240",
   "metadata": {},
   "outputs": [
    {
     "data": {
      "text/html": [
       "<div>\n",
       "<style scoped>\n",
       "    .dataframe tbody tr th:only-of-type {\n",
       "        vertical-align: middle;\n",
       "    }\n",
       "\n",
       "    .dataframe tbody tr th {\n",
       "        vertical-align: top;\n",
       "    }\n",
       "\n",
       "    .dataframe thead th {\n",
       "        text-align: right;\n",
       "    }\n",
       "</style>\n",
       "<table border=\"1\" class=\"dataframe\">\n",
       "  <thead>\n",
       "    <tr style=\"text-align: right;\">\n",
       "      <th></th>\n",
       "      <th>twitts</th>\n",
       "      <th>sentiment</th>\n",
       "    </tr>\n",
       "  </thead>\n",
       "  <tbody>\n",
       "    <tr>\n",
       "      <th>0</th>\n",
       "      <td>is bored and wants to watch a movie  any sugge...</td>\n",
       "      <td>0</td>\n",
       "    </tr>\n",
       "    <tr>\n",
       "      <th>1</th>\n",
       "      <td>back in miami.  waiting to unboard ship</td>\n",
       "      <td>0</td>\n",
       "    </tr>\n",
       "    <tr>\n",
       "      <th>2</th>\n",
       "      <td>@misskpey awwww dnt dis brng bak memoriessss, ...</td>\n",
       "      <td>0</td>\n",
       "    </tr>\n",
       "    <tr>\n",
       "      <th>3</th>\n",
       "      <td>ughhh i am so tired  blahhhhhhhhh</td>\n",
       "      <td>0</td>\n",
       "    </tr>\n",
       "    <tr>\n",
       "      <th>4</th>\n",
       "      <td>@mandagoforth me bad! It's funny though. Zacha...</td>\n",
       "      <td>0</td>\n",
       "    </tr>\n",
       "    <tr>\n",
       "      <th>...</th>\n",
       "      <td>...</td>\n",
       "      <td>...</td>\n",
       "    </tr>\n",
       "    <tr>\n",
       "      <th>3995</th>\n",
       "      <td>i just graduated</td>\n",
       "      <td>1</td>\n",
       "    </tr>\n",
       "    <tr>\n",
       "      <th>3996</th>\n",
       "      <td>Templating works; it all has to be done</td>\n",
       "      <td>1</td>\n",
       "    </tr>\n",
       "    <tr>\n",
       "      <th>3997</th>\n",
       "      <td>mommy just brought me starbucks</td>\n",
       "      <td>1</td>\n",
       "    </tr>\n",
       "    <tr>\n",
       "      <th>3998</th>\n",
       "      <td>@omarepps watching you on a House re-run...lov...</td>\n",
       "      <td>1</td>\n",
       "    </tr>\n",
       "    <tr>\n",
       "      <th>3999</th>\n",
       "      <td>Thanks for trying to make me smile I'll make y...</td>\n",
       "      <td>1</td>\n",
       "    </tr>\n",
       "  </tbody>\n",
       "</table>\n",
       "<p>4000 rows × 2 columns</p>\n",
       "</div>"
      ],
      "text/plain": [
       "                                                 twitts  sentiment\n",
       "0     is bored and wants to watch a movie  any sugge...          0\n",
       "1              back in miami.  waiting to unboard ship           0\n",
       "2     @misskpey awwww dnt dis brng bak memoriessss, ...          0\n",
       "3                     ughhh i am so tired  blahhhhhhhhh          0\n",
       "4     @mandagoforth me bad! It's funny though. Zacha...          0\n",
       "...                                                 ...        ...\n",
       "3995                                  i just graduated           1\n",
       "3996          Templating works; it all has to be done            1\n",
       "3997                   mommy just brought me starbucks           1\n",
       "3998  @omarepps watching you on a House re-run...lov...          1\n",
       "3999  Thanks for trying to make me smile I'll make y...          1\n",
       "\n",
       "[4000 rows x 2 columns]"
      ]
     },
     "execution_count": 5,
     "metadata": {},
     "output_type": "execute_result"
    }
   ],
   "source": [
    "df"
   ]
  },
  {
   "cell_type": "code",
   "execution_count": 6,
   "id": "77181a90",
   "metadata": {},
   "outputs": [
    {
     "data": {
      "text/plain": [
       "sentiment\n",
       "0    2000\n",
       "1    2000\n",
       "Name: count, dtype: int64"
      ]
     },
     "execution_count": 6,
     "metadata": {},
     "output_type": "execute_result"
    }
   ],
   "source": [
    "df['sentiment'].value_counts() # 2000 positive & # 2000 negative \n",
    "                                "
   ]
  },
  {
   "cell_type": "markdown",
   "id": "eea27411",
   "metadata": {},
   "source": [
    "# word counts"
   ]
  },
  {
   "cell_type": "code",
   "execution_count": 7,
   "id": "0293471f",
   "metadata": {},
   "outputs": [
    {
     "data": {
      "text/plain": [
       "3"
      ]
     },
     "execution_count": 7,
     "metadata": {},
     "output_type": "execute_result"
    }
   ],
   "source": [
    "len(\"this is text\".split())"
   ]
  },
  {
   "cell_type": "code",
   "execution_count": 8,
   "id": "621ca4ee",
   "metadata": {},
   "outputs": [],
   "source": [
    "df['word_counts'] = df['twitts'].apply(lambda x: len(str(x).split()))"
   ]
  },
  {
   "cell_type": "code",
   "execution_count": 9,
   "id": "e509e7a6",
   "metadata": {},
   "outputs": [
    {
     "data": {
      "text/html": [
       "<div>\n",
       "<style scoped>\n",
       "    .dataframe tbody tr th:only-of-type {\n",
       "        vertical-align: middle;\n",
       "    }\n",
       "\n",
       "    .dataframe tbody tr th {\n",
       "        vertical-align: top;\n",
       "    }\n",
       "\n",
       "    .dataframe thead th {\n",
       "        text-align: right;\n",
       "    }\n",
       "</style>\n",
       "<table border=\"1\" class=\"dataframe\">\n",
       "  <thead>\n",
       "    <tr style=\"text-align: right;\">\n",
       "      <th></th>\n",
       "      <th>twitts</th>\n",
       "      <th>sentiment</th>\n",
       "      <th>word_counts</th>\n",
       "    </tr>\n",
       "  </thead>\n",
       "  <tbody>\n",
       "    <tr>\n",
       "      <th>0</th>\n",
       "      <td>is bored and wants to watch a movie  any sugge...</td>\n",
       "      <td>0</td>\n",
       "      <td>10</td>\n",
       "    </tr>\n",
       "    <tr>\n",
       "      <th>1</th>\n",
       "      <td>back in miami.  waiting to unboard ship</td>\n",
       "      <td>0</td>\n",
       "      <td>7</td>\n",
       "    </tr>\n",
       "    <tr>\n",
       "      <th>2</th>\n",
       "      <td>@misskpey awwww dnt dis brng bak memoriessss, ...</td>\n",
       "      <td>0</td>\n",
       "      <td>12</td>\n",
       "    </tr>\n",
       "    <tr>\n",
       "      <th>3</th>\n",
       "      <td>ughhh i am so tired  blahhhhhhhhh</td>\n",
       "      <td>0</td>\n",
       "      <td>6</td>\n",
       "    </tr>\n",
       "    <tr>\n",
       "      <th>4</th>\n",
       "      <td>@mandagoforth me bad! It's funny though. Zacha...</td>\n",
       "      <td>0</td>\n",
       "      <td>26</td>\n",
       "    </tr>\n",
       "    <tr>\n",
       "      <th>...</th>\n",
       "      <td>...</td>\n",
       "      <td>...</td>\n",
       "      <td>...</td>\n",
       "    </tr>\n",
       "    <tr>\n",
       "      <th>3995</th>\n",
       "      <td>i just graduated</td>\n",
       "      <td>1</td>\n",
       "      <td>3</td>\n",
       "    </tr>\n",
       "    <tr>\n",
       "      <th>3996</th>\n",
       "      <td>Templating works; it all has to be done</td>\n",
       "      <td>1</td>\n",
       "      <td>8</td>\n",
       "    </tr>\n",
       "    <tr>\n",
       "      <th>3997</th>\n",
       "      <td>mommy just brought me starbucks</td>\n",
       "      <td>1</td>\n",
       "      <td>5</td>\n",
       "    </tr>\n",
       "    <tr>\n",
       "      <th>3998</th>\n",
       "      <td>@omarepps watching you on a House re-run...lov...</td>\n",
       "      <td>1</td>\n",
       "      <td>8</td>\n",
       "    </tr>\n",
       "    <tr>\n",
       "      <th>3999</th>\n",
       "      <td>Thanks for trying to make me smile I'll make y...</td>\n",
       "      <td>1</td>\n",
       "      <td>16</td>\n",
       "    </tr>\n",
       "  </tbody>\n",
       "</table>\n",
       "<p>4000 rows × 3 columns</p>\n",
       "</div>"
      ],
      "text/plain": [
       "                                                 twitts  sentiment  \\\n",
       "0     is bored and wants to watch a movie  any sugge...          0   \n",
       "1              back in miami.  waiting to unboard ship           0   \n",
       "2     @misskpey awwww dnt dis brng bak memoriessss, ...          0   \n",
       "3                     ughhh i am so tired  blahhhhhhhhh          0   \n",
       "4     @mandagoforth me bad! It's funny though. Zacha...          0   \n",
       "...                                                 ...        ...   \n",
       "3995                                  i just graduated           1   \n",
       "3996          Templating works; it all has to be done            1   \n",
       "3997                   mommy just brought me starbucks           1   \n",
       "3998  @omarepps watching you on a House re-run...lov...          1   \n",
       "3999  Thanks for trying to make me smile I'll make y...          1   \n",
       "\n",
       "      word_counts  \n",
       "0              10  \n",
       "1               7  \n",
       "2              12  \n",
       "3               6  \n",
       "4              26  \n",
       "...           ...  \n",
       "3995            3  \n",
       "3996            8  \n",
       "3997            5  \n",
       "3998            8  \n",
       "3999           16  \n",
       "\n",
       "[4000 rows x 3 columns]"
      ]
     },
     "execution_count": 9,
     "metadata": {},
     "output_type": "execute_result"
    }
   ],
   "source": [
    "df"
   ]
  },
  {
   "cell_type": "code",
   "execution_count": 10,
   "id": "1897200f",
   "metadata": {},
   "outputs": [
    {
     "data": {
      "text/html": [
       "<div>\n",
       "<style scoped>\n",
       "    .dataframe tbody tr th:only-of-type {\n",
       "        vertical-align: middle;\n",
       "    }\n",
       "\n",
       "    .dataframe tbody tr th {\n",
       "        vertical-align: top;\n",
       "    }\n",
       "\n",
       "    .dataframe thead th {\n",
       "        text-align: right;\n",
       "    }\n",
       "</style>\n",
       "<table border=\"1\" class=\"dataframe\">\n",
       "  <thead>\n",
       "    <tr style=\"text-align: right;\">\n",
       "      <th></th>\n",
       "      <th>twitts</th>\n",
       "      <th>sentiment</th>\n",
       "      <th>word_counts</th>\n",
       "    </tr>\n",
       "  </thead>\n",
       "  <tbody>\n",
       "    <tr>\n",
       "      <th>1034</th>\n",
       "      <td>@onelewis ive go this unfortunate thing called...</td>\n",
       "      <td>0</td>\n",
       "      <td>8</td>\n",
       "    </tr>\n",
       "    <tr>\n",
       "      <th>2081</th>\n",
       "      <td>@Redwense hi mikey!</td>\n",
       "      <td>1</td>\n",
       "      <td>3</td>\n",
       "    </tr>\n",
       "    <tr>\n",
       "      <th>1446</th>\n",
       "      <td>i'm missing my wife at the MTV Movie Awards!! ...</td>\n",
       "      <td>0</td>\n",
       "      <td>19</td>\n",
       "    </tr>\n",
       "    <tr>\n",
       "      <th>2918</th>\n",
       "      <td>@Dutchrudder nice picliked others as well.yes ...</td>\n",
       "      <td>1</td>\n",
       "      <td>11</td>\n",
       "    </tr>\n",
       "    <tr>\n",
       "      <th>3288</th>\n",
       "      <td>is awake and getting dressed for chapa chicken</td>\n",
       "      <td>1</td>\n",
       "      <td>8</td>\n",
       "    </tr>\n",
       "  </tbody>\n",
       "</table>\n",
       "</div>"
      ],
      "text/plain": [
       "                                                 twitts  sentiment  \\\n",
       "1034  @onelewis ive go this unfortunate thing called...          0   \n",
       "2081                               @Redwense hi mikey!           1   \n",
       "1446  i'm missing my wife at the MTV Movie Awards!! ...          0   \n",
       "2918  @Dutchrudder nice picliked others as well.yes ...          1   \n",
       "3288    is awake and getting dressed for chapa chicken           1   \n",
       "\n",
       "      word_counts  \n",
       "1034            8  \n",
       "2081            3  \n",
       "1446           19  \n",
       "2918           11  \n",
       "3288            8  "
      ]
     },
     "execution_count": 10,
     "metadata": {},
     "output_type": "execute_result"
    }
   ],
   "source": [
    "df.sample(5)"
   ]
  },
  {
   "cell_type": "code",
   "execution_count": 11,
   "id": "5d32e447",
   "metadata": {},
   "outputs": [
    {
     "data": {
      "text/html": [
       "<div>\n",
       "<style scoped>\n",
       "    .dataframe tbody tr th:only-of-type {\n",
       "        vertical-align: middle;\n",
       "    }\n",
       "\n",
       "    .dataframe tbody tr th {\n",
       "        vertical-align: top;\n",
       "    }\n",
       "\n",
       "    .dataframe thead th {\n",
       "        text-align: right;\n",
       "    }\n",
       "</style>\n",
       "<table border=\"1\" class=\"dataframe\">\n",
       "  <thead>\n",
       "    <tr style=\"text-align: right;\">\n",
       "      <th></th>\n",
       "      <th>twitts</th>\n",
       "      <th>sentiment</th>\n",
       "      <th>word_counts</th>\n",
       "    </tr>\n",
       "  </thead>\n",
       "  <tbody>\n",
       "    <tr>\n",
       "      <th>0</th>\n",
       "      <td>is bored and wants to watch a movie  any sugge...</td>\n",
       "      <td>0</td>\n",
       "      <td>10</td>\n",
       "    </tr>\n",
       "    <tr>\n",
       "      <th>1</th>\n",
       "      <td>back in miami.  waiting to unboard ship</td>\n",
       "      <td>0</td>\n",
       "      <td>7</td>\n",
       "    </tr>\n",
       "    <tr>\n",
       "      <th>2</th>\n",
       "      <td>@misskpey awwww dnt dis brng bak memoriessss, ...</td>\n",
       "      <td>0</td>\n",
       "      <td>12</td>\n",
       "    </tr>\n",
       "    <tr>\n",
       "      <th>3</th>\n",
       "      <td>ughhh i am so tired  blahhhhhhhhh</td>\n",
       "      <td>0</td>\n",
       "      <td>6</td>\n",
       "    </tr>\n",
       "    <tr>\n",
       "      <th>4</th>\n",
       "      <td>@mandagoforth me bad! It's funny though. Zacha...</td>\n",
       "      <td>0</td>\n",
       "      <td>26</td>\n",
       "    </tr>\n",
       "    <tr>\n",
       "      <th>5</th>\n",
       "      <td>brr, i'm so cold. at the moment doing my assig...</td>\n",
       "      <td>0</td>\n",
       "      <td>17</td>\n",
       "    </tr>\n",
       "    <tr>\n",
       "      <th>6</th>\n",
       "      <td>@kevinmarquis haha yep but i really need to sl...</td>\n",
       "      <td>0</td>\n",
       "      <td>22</td>\n",
       "    </tr>\n",
       "    <tr>\n",
       "      <th>7</th>\n",
       "      <td>eating some ice-cream while I try to see @pete...</td>\n",
       "      <td>0</td>\n",
       "      <td>14</td>\n",
       "    </tr>\n",
       "    <tr>\n",
       "      <th>8</th>\n",
       "      <td>@phatty84 just hella bored at work  lol</td>\n",
       "      <td>0</td>\n",
       "      <td>7</td>\n",
       "    </tr>\n",
       "    <tr>\n",
       "      <th>9</th>\n",
       "      <td>Food poisoning blowssss</td>\n",
       "      <td>0</td>\n",
       "      <td>3</td>\n",
       "    </tr>\n",
       "  </tbody>\n",
       "</table>\n",
       "</div>"
      ],
      "text/plain": [
       "                                              twitts  sentiment  word_counts\n",
       "0  is bored and wants to watch a movie  any sugge...          0           10\n",
       "1           back in miami.  waiting to unboard ship           0            7\n",
       "2  @misskpey awwww dnt dis brng bak memoriessss, ...          0           12\n",
       "3                  ughhh i am so tired  blahhhhhhhhh          0            6\n",
       "4  @mandagoforth me bad! It's funny though. Zacha...          0           26\n",
       "5  brr, i'm so cold. at the moment doing my assig...          0           17\n",
       "6  @kevinmarquis haha yep but i really need to sl...          0           22\n",
       "7  eating some ice-cream while I try to see @pete...          0           14\n",
       "8            @phatty84 just hella bored at work  lol          0            7\n",
       "9                           Food poisoning blowssss           0            3"
      ]
     },
     "execution_count": 11,
     "metadata": {},
     "output_type": "execute_result"
    }
   ],
   "source": [
    "df.head(10)"
   ]
  },
  {
   "cell_type": "code",
   "execution_count": 12,
   "id": "4e278654",
   "metadata": {},
   "outputs": [
    {
     "data": {
      "text/plain": [
       "32"
      ]
     },
     "execution_count": 12,
     "metadata": {},
     "output_type": "execute_result"
    }
   ],
   "source": [
    "df['word_counts'].max()"
   ]
  },
  {
   "cell_type": "code",
   "execution_count": 13,
   "id": "f926714b",
   "metadata": {},
   "outputs": [
    {
     "data": {
      "text/plain": [
       "1"
      ]
     },
     "execution_count": 13,
     "metadata": {},
     "output_type": "execute_result"
    }
   ],
   "source": [
    "df['word_counts'].min()"
   ]
  },
  {
   "cell_type": "code",
   "execution_count": 14,
   "id": "2cd5e3fd",
   "metadata": {},
   "outputs": [
    {
     "data": {
      "text/html": [
       "<div>\n",
       "<style scoped>\n",
       "    .dataframe tbody tr th:only-of-type {\n",
       "        vertical-align: middle;\n",
       "    }\n",
       "\n",
       "    .dataframe tbody tr th {\n",
       "        vertical-align: top;\n",
       "    }\n",
       "\n",
       "    .dataframe thead th {\n",
       "        text-align: right;\n",
       "    }\n",
       "</style>\n",
       "<table border=\"1\" class=\"dataframe\">\n",
       "  <thead>\n",
       "    <tr style=\"text-align: right;\">\n",
       "      <th></th>\n",
       "      <th>twitts</th>\n",
       "      <th>sentiment</th>\n",
       "      <th>word_counts</th>\n",
       "    </tr>\n",
       "  </thead>\n",
       "  <tbody>\n",
       "    <tr>\n",
       "      <th>385</th>\n",
       "      <td>homework</td>\n",
       "      <td>0</td>\n",
       "      <td>1</td>\n",
       "    </tr>\n",
       "    <tr>\n",
       "      <th>691</th>\n",
       "      <td>@ekrelly</td>\n",
       "      <td>0</td>\n",
       "      <td>1</td>\n",
       "    </tr>\n",
       "    <tr>\n",
       "      <th>1124</th>\n",
       "      <td>disappointed</td>\n",
       "      <td>0</td>\n",
       "      <td>1</td>\n",
       "    </tr>\n",
       "    <tr>\n",
       "      <th>1286</th>\n",
       "      <td>@officialmgnfox</td>\n",
       "      <td>0</td>\n",
       "      <td>1</td>\n",
       "    </tr>\n",
       "    <tr>\n",
       "      <th>1325</th>\n",
       "      <td>headache</td>\n",
       "      <td>0</td>\n",
       "      <td>1</td>\n",
       "    </tr>\n",
       "    <tr>\n",
       "      <th>1897</th>\n",
       "      <td>@MCRmuffin</td>\n",
       "      <td>0</td>\n",
       "      <td>1</td>\n",
       "    </tr>\n",
       "    <tr>\n",
       "      <th>2542</th>\n",
       "      <td>Graduated!</td>\n",
       "      <td>1</td>\n",
       "      <td>1</td>\n",
       "    </tr>\n",
       "    <tr>\n",
       "      <th>2947</th>\n",
       "      <td>reading</td>\n",
       "      <td>1</td>\n",
       "      <td>1</td>\n",
       "    </tr>\n",
       "    <tr>\n",
       "      <th>3176</th>\n",
       "      <td>@omeirdeleon</td>\n",
       "      <td>1</td>\n",
       "      <td>1</td>\n",
       "    </tr>\n",
       "    <tr>\n",
       "      <th>3470</th>\n",
       "      <td>www.myspace.com/myfinalthought</td>\n",
       "      <td>1</td>\n",
       "      <td>1</td>\n",
       "    </tr>\n",
       "    <tr>\n",
       "      <th>3966</th>\n",
       "      <td>@gethyp3</td>\n",
       "      <td>1</td>\n",
       "      <td>1</td>\n",
       "    </tr>\n",
       "  </tbody>\n",
       "</table>\n",
       "</div>"
      ],
      "text/plain": [
       "                               twitts  sentiment  word_counts\n",
       "385                         homework           0            1\n",
       "691                         @ekrelly           0            1\n",
       "1124                    disappointed           0            1\n",
       "1286                 @officialmgnfox           0            1\n",
       "1325                        headache           0            1\n",
       "1897                      @MCRmuffin           0            1\n",
       "2542                      Graduated!           1            1\n",
       "2947                         reading           1            1\n",
       "3176                    @omeirdeleon           1            1\n",
       "3470  www.myspace.com/myfinalthought           1            1\n",
       "3966                        @gethyp3           1            1"
      ]
     },
     "execution_count": 14,
     "metadata": {},
     "output_type": "execute_result"
    }
   ],
   "source": [
    "df[df['word_counts'] == 1]"
   ]
  },
  {
   "cell_type": "markdown",
   "id": "a5c1f876",
   "metadata": {},
   "source": [
    "# Characters count"
   ]
  },
  {
   "cell_type": "code",
   "execution_count": 15,
   "id": "3ad28971",
   "metadata": {},
   "outputs": [
    {
     "data": {
      "text/plain": [
       "7"
      ]
     },
     "execution_count": 15,
     "metadata": {},
     "output_type": "execute_result"
    }
   ],
   "source": [
    "len(\"this is\")"
   ]
  },
  {
   "cell_type": "code",
   "execution_count": 16,
   "id": "1eb09a3a",
   "metadata": {},
   "outputs": [],
   "source": [
    "def char_counts(x):\n",
    "    s = x.split()\n",
    "    x = ''.join(s)\n",
    "    return len(x)"
   ]
  },
  {
   "cell_type": "code",
   "execution_count": 17,
   "id": "9b4bab76",
   "metadata": {},
   "outputs": [
    {
     "data": {
      "text/plain": [
       "6"
      ]
     },
     "execution_count": 17,
     "metadata": {},
     "output_type": "execute_result"
    }
   ],
   "source": [
    "char_counts('this is ')"
   ]
  },
  {
   "cell_type": "code",
   "execution_count": 18,
   "id": "cec228f1",
   "metadata": {},
   "outputs": [],
   "source": [
    "df['char_counts'] = df['twitts'].apply(lambda x:char_counts(str(x)))"
   ]
  },
  {
   "cell_type": "code",
   "execution_count": 19,
   "id": "cd628931",
   "metadata": {},
   "outputs": [
    {
     "data": {
      "text/html": [
       "<div>\n",
       "<style scoped>\n",
       "    .dataframe tbody tr th:only-of-type {\n",
       "        vertical-align: middle;\n",
       "    }\n",
       "\n",
       "    .dataframe tbody tr th {\n",
       "        vertical-align: top;\n",
       "    }\n",
       "\n",
       "    .dataframe thead th {\n",
       "        text-align: right;\n",
       "    }\n",
       "</style>\n",
       "<table border=\"1\" class=\"dataframe\">\n",
       "  <thead>\n",
       "    <tr style=\"text-align: right;\">\n",
       "      <th></th>\n",
       "      <th>twitts</th>\n",
       "      <th>sentiment</th>\n",
       "      <th>word_counts</th>\n",
       "      <th>char_counts</th>\n",
       "    </tr>\n",
       "  </thead>\n",
       "  <tbody>\n",
       "    <tr>\n",
       "      <th>0</th>\n",
       "      <td>is bored and wants to watch a movie  any sugge...</td>\n",
       "      <td>0</td>\n",
       "      <td>10</td>\n",
       "      <td>43</td>\n",
       "    </tr>\n",
       "    <tr>\n",
       "      <th>1</th>\n",
       "      <td>back in miami.  waiting to unboard ship</td>\n",
       "      <td>0</td>\n",
       "      <td>7</td>\n",
       "      <td>32</td>\n",
       "    </tr>\n",
       "    <tr>\n",
       "      <th>2</th>\n",
       "      <td>@misskpey awwww dnt dis brng bak memoriessss, ...</td>\n",
       "      <td>0</td>\n",
       "      <td>12</td>\n",
       "      <td>54</td>\n",
       "    </tr>\n",
       "    <tr>\n",
       "      <th>3</th>\n",
       "      <td>ughhh i am so tired  blahhhhhhhhh</td>\n",
       "      <td>0</td>\n",
       "      <td>6</td>\n",
       "      <td>27</td>\n",
       "    </tr>\n",
       "    <tr>\n",
       "      <th>4</th>\n",
       "      <td>@mandagoforth me bad! It's funny though. Zacha...</td>\n",
       "      <td>0</td>\n",
       "      <td>26</td>\n",
       "      <td>116</td>\n",
       "    </tr>\n",
       "    <tr>\n",
       "      <th>...</th>\n",
       "      <td>...</td>\n",
       "      <td>...</td>\n",
       "      <td>...</td>\n",
       "      <td>...</td>\n",
       "    </tr>\n",
       "    <tr>\n",
       "      <th>3995</th>\n",
       "      <td>i just graduated</td>\n",
       "      <td>1</td>\n",
       "      <td>3</td>\n",
       "      <td>14</td>\n",
       "    </tr>\n",
       "    <tr>\n",
       "      <th>3996</th>\n",
       "      <td>Templating works; it all has to be done</td>\n",
       "      <td>1</td>\n",
       "      <td>8</td>\n",
       "      <td>32</td>\n",
       "    </tr>\n",
       "    <tr>\n",
       "      <th>3997</th>\n",
       "      <td>mommy just brought me starbucks</td>\n",
       "      <td>1</td>\n",
       "      <td>5</td>\n",
       "      <td>27</td>\n",
       "    </tr>\n",
       "    <tr>\n",
       "      <th>3998</th>\n",
       "      <td>@omarepps watching you on a House re-run...lov...</td>\n",
       "      <td>1</td>\n",
       "      <td>8</td>\n",
       "      <td>45</td>\n",
       "    </tr>\n",
       "    <tr>\n",
       "      <th>3999</th>\n",
       "      <td>Thanks for trying to make me smile I'll make y...</td>\n",
       "      <td>1</td>\n",
       "      <td>16</td>\n",
       "      <td>63</td>\n",
       "    </tr>\n",
       "  </tbody>\n",
       "</table>\n",
       "<p>4000 rows × 4 columns</p>\n",
       "</div>"
      ],
      "text/plain": [
       "                                                 twitts  sentiment  \\\n",
       "0     is bored and wants to watch a movie  any sugge...          0   \n",
       "1              back in miami.  waiting to unboard ship           0   \n",
       "2     @misskpey awwww dnt dis brng bak memoriessss, ...          0   \n",
       "3                     ughhh i am so tired  blahhhhhhhhh          0   \n",
       "4     @mandagoforth me bad! It's funny though. Zacha...          0   \n",
       "...                                                 ...        ...   \n",
       "3995                                  i just graduated           1   \n",
       "3996          Templating works; it all has to be done            1   \n",
       "3997                   mommy just brought me starbucks           1   \n",
       "3998  @omarepps watching you on a House re-run...lov...          1   \n",
       "3999  Thanks for trying to make me smile I'll make y...          1   \n",
       "\n",
       "      word_counts  char_counts  \n",
       "0              10           43  \n",
       "1               7           32  \n",
       "2              12           54  \n",
       "3               6           27  \n",
       "4              26          116  \n",
       "...           ...          ...  \n",
       "3995            3           14  \n",
       "3996            8           32  \n",
       "3997            5           27  \n",
       "3998            8           45  \n",
       "3999           16           63  \n",
       "\n",
       "[4000 rows x 4 columns]"
      ]
     },
     "execution_count": 19,
     "metadata": {},
     "output_type": "execute_result"
    }
   ],
   "source": [
    "df"
   ]
  },
  {
   "cell_type": "code",
   "execution_count": 20,
   "id": "8f20121c",
   "metadata": {},
   "outputs": [
    {
     "data": {
      "text/html": [
       "<div>\n",
       "<style scoped>\n",
       "    .dataframe tbody tr th:only-of-type {\n",
       "        vertical-align: middle;\n",
       "    }\n",
       "\n",
       "    .dataframe tbody tr th {\n",
       "        vertical-align: top;\n",
       "    }\n",
       "\n",
       "    .dataframe thead th {\n",
       "        text-align: right;\n",
       "    }\n",
       "</style>\n",
       "<table border=\"1\" class=\"dataframe\">\n",
       "  <thead>\n",
       "    <tr style=\"text-align: right;\">\n",
       "      <th></th>\n",
       "      <th>twitts</th>\n",
       "      <th>sentiment</th>\n",
       "      <th>word_counts</th>\n",
       "      <th>char_counts</th>\n",
       "    </tr>\n",
       "  </thead>\n",
       "  <tbody>\n",
       "    <tr>\n",
       "      <th>2476</th>\n",
       "      <td>@funkycarla8 hi hun when your friend sends pic...</td>\n",
       "      <td>1</td>\n",
       "      <td>25</td>\n",
       "      <td>108</td>\n",
       "    </tr>\n",
       "    <tr>\n",
       "      <th>3519</th>\n",
       "      <td>@court0605 no just a response!</td>\n",
       "      <td>1</td>\n",
       "      <td>5</td>\n",
       "      <td>26</td>\n",
       "    </tr>\n",
       "    <tr>\n",
       "      <th>181</th>\n",
       "      <td>@charades oh man sounds like work is not fun f...</td>\n",
       "      <td>0</td>\n",
       "      <td>11</td>\n",
       "      <td>42</td>\n",
       "    </tr>\n",
       "    <tr>\n",
       "      <th>2816</th>\n",
       "      <td>Having a get together today...if you are comin...</td>\n",
       "      <td>1</td>\n",
       "      <td>13</td>\n",
       "      <td>64</td>\n",
       "    </tr>\n",
       "    <tr>\n",
       "      <th>2395</th>\n",
       "      <td>@aplusk where did you get that? it sounds good</td>\n",
       "      <td>1</td>\n",
       "      <td>9</td>\n",
       "      <td>38</td>\n",
       "    </tr>\n",
       "    <tr>\n",
       "      <th>1220</th>\n",
       "      <td>i hate it when my bff is groundedd  boooooooooo</td>\n",
       "      <td>0</td>\n",
       "      <td>9</td>\n",
       "      <td>38</td>\n",
       "    </tr>\n",
       "    <tr>\n",
       "      <th>3088</th>\n",
       "      <td>@sklemp Well, we've only been using it for a d...</td>\n",
       "      <td>1</td>\n",
       "      <td>24</td>\n",
       "      <td>106</td>\n",
       "    </tr>\n",
       "    <tr>\n",
       "      <th>177</th>\n",
       "      <td>My cat snuck out, and is stalking somewhere ar...</td>\n",
       "      <td>0</td>\n",
       "      <td>20</td>\n",
       "      <td>79</td>\n",
       "    </tr>\n",
       "    <tr>\n",
       "      <th>591</th>\n",
       "      <td>just thought about how unfair 3 ppl have been ...</td>\n",
       "      <td>0</td>\n",
       "      <td>16</td>\n",
       "      <td>67</td>\n",
       "    </tr>\n",
       "    <tr>\n",
       "      <th>823</th>\n",
       "      <td>tiredd  facebook then bed.</td>\n",
       "      <td>0</td>\n",
       "      <td>4</td>\n",
       "      <td>22</td>\n",
       "    </tr>\n",
       "  </tbody>\n",
       "</table>\n",
       "</div>"
      ],
      "text/plain": [
       "                                                 twitts  sentiment  \\\n",
       "2476  @funkycarla8 hi hun when your friend sends pic...          1   \n",
       "3519                   @court0605 no just a response!            1   \n",
       "181   @charades oh man sounds like work is not fun f...          0   \n",
       "2816  Having a get together today...if you are comin...          1   \n",
       "2395    @aplusk where did you get that? it sounds good           1   \n",
       "1220    i hate it when my bff is groundedd  boooooooooo          0   \n",
       "3088  @sklemp Well, we've only been using it for a d...          1   \n",
       "177   My cat snuck out, and is stalking somewhere ar...          0   \n",
       "591   just thought about how unfair 3 ppl have been ...          0   \n",
       "823                          tiredd  facebook then bed.          0   \n",
       "\n",
       "      word_counts  char_counts  \n",
       "2476           25          108  \n",
       "3519            5           26  \n",
       "181            11           42  \n",
       "2816           13           64  \n",
       "2395            9           38  \n",
       "1220            9           38  \n",
       "3088           24          106  \n",
       "177            20           79  \n",
       "591            16           67  \n",
       "823             4           22  "
      ]
     },
     "execution_count": 20,
     "metadata": {},
     "output_type": "execute_result"
    }
   ],
   "source": [
    "df.sample(10)"
   ]
  },
  {
   "cell_type": "markdown",
   "id": "d057bdaa",
   "metadata": {},
   "source": [
    "# Average word length"
   ]
  },
  {
   "cell_type": "markdown",
   "id": "8236518b",
   "metadata": {},
   "source": [
    "##### what is the average number of characters per word in the particular sentence"
   ]
  },
  {
   "cell_type": "code",
   "execution_count": 21,
   "id": "378bacf3",
   "metadata": {},
   "outputs": [],
   "source": [
    "x = 'this is' #6/2 = 3\n",
    "y = 'good to see you buddy ' #17/5=3.4"
   ]
  },
  {
   "cell_type": "code",
   "execution_count": 22,
   "id": "6763f2f5",
   "metadata": {},
   "outputs": [],
   "source": [
    "df['Average_word_length'] = df['char_counts']/df['word_counts']"
   ]
  },
  {
   "cell_type": "code",
   "execution_count": 23,
   "id": "a7f1b52e",
   "metadata": {},
   "outputs": [
    {
     "data": {
      "text/html": [
       "<div>\n",
       "<style scoped>\n",
       "    .dataframe tbody tr th:only-of-type {\n",
       "        vertical-align: middle;\n",
       "    }\n",
       "\n",
       "    .dataframe tbody tr th {\n",
       "        vertical-align: top;\n",
       "    }\n",
       "\n",
       "    .dataframe thead th {\n",
       "        text-align: right;\n",
       "    }\n",
       "</style>\n",
       "<table border=\"1\" class=\"dataframe\">\n",
       "  <thead>\n",
       "    <tr style=\"text-align: right;\">\n",
       "      <th></th>\n",
       "      <th>twitts</th>\n",
       "      <th>sentiment</th>\n",
       "      <th>word_counts</th>\n",
       "      <th>char_counts</th>\n",
       "      <th>Average_word_length</th>\n",
       "    </tr>\n",
       "  </thead>\n",
       "  <tbody>\n",
       "    <tr>\n",
       "      <th>0</th>\n",
       "      <td>is bored and wants to watch a movie  any sugge...</td>\n",
       "      <td>0</td>\n",
       "      <td>10</td>\n",
       "      <td>43</td>\n",
       "      <td>4.300000</td>\n",
       "    </tr>\n",
       "    <tr>\n",
       "      <th>1</th>\n",
       "      <td>back in miami.  waiting to unboard ship</td>\n",
       "      <td>0</td>\n",
       "      <td>7</td>\n",
       "      <td>32</td>\n",
       "      <td>4.571429</td>\n",
       "    </tr>\n",
       "    <tr>\n",
       "      <th>2</th>\n",
       "      <td>@misskpey awwww dnt dis brng bak memoriessss, ...</td>\n",
       "      <td>0</td>\n",
       "      <td>12</td>\n",
       "      <td>54</td>\n",
       "      <td>4.500000</td>\n",
       "    </tr>\n",
       "    <tr>\n",
       "      <th>3</th>\n",
       "      <td>ughhh i am so tired  blahhhhhhhhh</td>\n",
       "      <td>0</td>\n",
       "      <td>6</td>\n",
       "      <td>27</td>\n",
       "      <td>4.500000</td>\n",
       "    </tr>\n",
       "    <tr>\n",
       "      <th>4</th>\n",
       "      <td>@mandagoforth me bad! It's funny though. Zacha...</td>\n",
       "      <td>0</td>\n",
       "      <td>26</td>\n",
       "      <td>116</td>\n",
       "      <td>4.461538</td>\n",
       "    </tr>\n",
       "    <tr>\n",
       "      <th>...</th>\n",
       "      <td>...</td>\n",
       "      <td>...</td>\n",
       "      <td>...</td>\n",
       "      <td>...</td>\n",
       "      <td>...</td>\n",
       "    </tr>\n",
       "    <tr>\n",
       "      <th>3995</th>\n",
       "      <td>i just graduated</td>\n",
       "      <td>1</td>\n",
       "      <td>3</td>\n",
       "      <td>14</td>\n",
       "      <td>4.666667</td>\n",
       "    </tr>\n",
       "    <tr>\n",
       "      <th>3996</th>\n",
       "      <td>Templating works; it all has to be done</td>\n",
       "      <td>1</td>\n",
       "      <td>8</td>\n",
       "      <td>32</td>\n",
       "      <td>4.000000</td>\n",
       "    </tr>\n",
       "    <tr>\n",
       "      <th>3997</th>\n",
       "      <td>mommy just brought me starbucks</td>\n",
       "      <td>1</td>\n",
       "      <td>5</td>\n",
       "      <td>27</td>\n",
       "      <td>5.400000</td>\n",
       "    </tr>\n",
       "    <tr>\n",
       "      <th>3998</th>\n",
       "      <td>@omarepps watching you on a House re-run...lov...</td>\n",
       "      <td>1</td>\n",
       "      <td>8</td>\n",
       "      <td>45</td>\n",
       "      <td>5.625000</td>\n",
       "    </tr>\n",
       "    <tr>\n",
       "      <th>3999</th>\n",
       "      <td>Thanks for trying to make me smile I'll make y...</td>\n",
       "      <td>1</td>\n",
       "      <td>16</td>\n",
       "      <td>63</td>\n",
       "      <td>3.937500</td>\n",
       "    </tr>\n",
       "  </tbody>\n",
       "</table>\n",
       "<p>4000 rows × 5 columns</p>\n",
       "</div>"
      ],
      "text/plain": [
       "                                                 twitts  sentiment  \\\n",
       "0     is bored and wants to watch a movie  any sugge...          0   \n",
       "1              back in miami.  waiting to unboard ship           0   \n",
       "2     @misskpey awwww dnt dis brng bak memoriessss, ...          0   \n",
       "3                     ughhh i am so tired  blahhhhhhhhh          0   \n",
       "4     @mandagoforth me bad! It's funny though. Zacha...          0   \n",
       "...                                                 ...        ...   \n",
       "3995                                  i just graduated           1   \n",
       "3996          Templating works; it all has to be done            1   \n",
       "3997                   mommy just brought me starbucks           1   \n",
       "3998  @omarepps watching you on a House re-run...lov...          1   \n",
       "3999  Thanks for trying to make me smile I'll make y...          1   \n",
       "\n",
       "      word_counts  char_counts  Average_word_length  \n",
       "0              10           43             4.300000  \n",
       "1               7           32             4.571429  \n",
       "2              12           54             4.500000  \n",
       "3               6           27             4.500000  \n",
       "4              26          116             4.461538  \n",
       "...           ...          ...                  ...  \n",
       "3995            3           14             4.666667  \n",
       "3996            8           32             4.000000  \n",
       "3997            5           27             5.400000  \n",
       "3998            8           45             5.625000  \n",
       "3999           16           63             3.937500  \n",
       "\n",
       "[4000 rows x 5 columns]"
      ]
     },
     "execution_count": 23,
     "metadata": {},
     "output_type": "execute_result"
    }
   ],
   "source": [
    "df"
   ]
  },
  {
   "cell_type": "code",
   "execution_count": 24,
   "id": "c271f109",
   "metadata": {},
   "outputs": [
    {
     "data": {
      "text/html": [
       "<div>\n",
       "<style scoped>\n",
       "    .dataframe tbody tr th:only-of-type {\n",
       "        vertical-align: middle;\n",
       "    }\n",
       "\n",
       "    .dataframe tbody tr th {\n",
       "        vertical-align: top;\n",
       "    }\n",
       "\n",
       "    .dataframe thead th {\n",
       "        text-align: right;\n",
       "    }\n",
       "</style>\n",
       "<table border=\"1\" class=\"dataframe\">\n",
       "  <thead>\n",
       "    <tr style=\"text-align: right;\">\n",
       "      <th></th>\n",
       "      <th>twitts</th>\n",
       "      <th>sentiment</th>\n",
       "      <th>word_counts</th>\n",
       "      <th>char_counts</th>\n",
       "      <th>Average_word_length</th>\n",
       "    </tr>\n",
       "  </thead>\n",
       "  <tbody>\n",
       "    <tr>\n",
       "      <th>1118</th>\n",
       "      <td>ohh and missing all my brownheads</td>\n",
       "      <td>0</td>\n",
       "      <td>6</td>\n",
       "      <td>28</td>\n",
       "      <td>4.666667</td>\n",
       "    </tr>\n",
       "    <tr>\n",
       "      <th>3726</th>\n",
       "      <td>_sleep. way to go boys.</td>\n",
       "      <td>1</td>\n",
       "      <td>5</td>\n",
       "      <td>19</td>\n",
       "      <td>3.800000</td>\n",
       "    </tr>\n",
       "    <tr>\n",
       "      <th>1262</th>\n",
       "      <td>@nicholas1991 i miss you  haha i think selena ...</td>\n",
       "      <td>0</td>\n",
       "      <td>15</td>\n",
       "      <td>72</td>\n",
       "      <td>4.800000</td>\n",
       "    </tr>\n",
       "    <tr>\n",
       "      <th>1164</th>\n",
       "      <td>okie peeps im leavin d twitter buildin..see ya...</td>\n",
       "      <td>0</td>\n",
       "      <td>26</td>\n",
       "      <td>111</td>\n",
       "      <td>4.269231</td>\n",
       "    </tr>\n",
       "    <tr>\n",
       "      <th>3296</th>\n",
       "      <td>Tweet Tweet, *boasts* I got my hands on Issue ...</td>\n",
       "      <td>1</td>\n",
       "      <td>26</td>\n",
       "      <td>102</td>\n",
       "      <td>3.923077</td>\n",
       "    </tr>\n",
       "  </tbody>\n",
       "</table>\n",
       "</div>"
      ],
      "text/plain": [
       "                                                 twitts  sentiment  \\\n",
       "1118                 ohh and missing all my brownheads           0   \n",
       "3726                           _sleep. way to go boys.           1   \n",
       "1262  @nicholas1991 i miss you  haha i think selena ...          0   \n",
       "1164  okie peeps im leavin d twitter buildin..see ya...          0   \n",
       "3296  Tweet Tweet, *boasts* I got my hands on Issue ...          1   \n",
       "\n",
       "      word_counts  char_counts  Average_word_length  \n",
       "1118            6           28             4.666667  \n",
       "3726            5           19             3.800000  \n",
       "1262           15           72             4.800000  \n",
       "1164           26          111             4.269231  \n",
       "3296           26          102             3.923077  "
      ]
     },
     "execution_count": 24,
     "metadata": {},
     "output_type": "execute_result"
    }
   ],
   "source": [
    "df.sample(5)"
   ]
  },
  {
   "cell_type": "markdown",
   "id": "992196b6",
   "metadata": {},
   "source": [
    "###### # stopwords -> words which occur very frequently in the sentences"
   ]
  },
  {
   "cell_type": "code",
   "execution_count": 25,
   "id": "f3fba002",
   "metadata": {
    "scrolled": true
   },
   "outputs": [
    {
     "name": "stdout",
     "output_type": "stream",
     "text": [
      "{'thereafter', 'was', 're', '’re', 'her', 'myself', 'this', 'therefore', 'ourselves', '’m', 'less', 'whenever', 'its', 'had', '‘ve', 'almost', 'must', 'various', 'next', 'once', 'used', 'hers', 'via', 'anyhow', 'both', 'yourselves', 'after', 'whereas', 'again', 'two', 'least', 'beforehand', 'former', 'would', 'others', 'me', 'anyone', 'mine', 'during', 'under', 'at', 'whole', 'six', 'say', 'side', 'those', 'wherein', 'who', 'few', 'quite', 'his', 'call', 'done', 'though', 'out', 'themselves', 'an', 'why', 'every', 'have', 'whom', 'our', 'give', 'until', 'upon', 'show', 'yours', 'one', 'will', 'thereby', '‘ll', 'first', 'no', 'although', 'nothing', 'it', 'last', 'hereafter', 'thru', 'within', 'whereby', \"n't\", 'whether', 'you', 'whatever', '’d', 'too', 'empty', 'only', \"'re\", 'nine', 'rather', 'thereupon', 'how', 'we', 'noone', 'among', 'anyway', 'across', 'be', 'anything', 'were', 'because', 'between', 'thence', '’s', 'amount', 'yourself', 'before', 'herein', 'still', 'meanwhile', 'whereupon', 'but', 'on', 'yet', 'another', 'put', 'if', 'formerly', 'fifteen', 'three', 'beyond', 'take', 'alone', 'hundred', 'four', 'none', 'regarding', 'does', 'just', 'own', 'around', 'onto', 'neither', \"'s\", 'go', 'your', 'together', 'while', 'nobody', 'fifty', 'whoever', 'above', 'nowhere', 'further', 'five', 'so', 'which', 'made', 'somewhere', 'them', 'wherever', 'seem', 'therein', 'ever', 'eight', 'whence', \"'d\", 'becomes', 'mostly', 'became', 'make', 'along', 'sometimes', 'thus', 'up', 'many', 'where', 'due', 'as', 'could', 'when', 'other', 'even', 'to', 'most', 'do', 'itself', 'off', 'hereupon', 'otherwise', 'third', 'elsewhere', 'get', 'move', 'of', 'each', 'in', 'n’t', 'being', 'us', '’ve', 'seemed', 'more', 'a', 'whither', \"'m\", '’ll', 'either', 'something', 'always', 'ten', 'their', 'throughout', 'should', 'then', 'however', 'several', 'for', 'eleven', 'himself', 'behind', 'has', 'now', 'latterly', 'n‘t', 'become', 'becoming', 'i', 'top', 'indeed', 'namely', 'please', 'everyone', 'are', 'towards', 'am', 'nor', 'whose', 'that', 'forty', 'unless', 'much', 'back', 'been', 'enough', 'sometime', 'else', 'down', 'what', 'below', 'he', 'than', 'the', 'these', '‘re', 'also', 'with', 'latter', 'into', 'might', 'all', '‘d', 'is', 'here', 'she', 'already', \"'ve\", 'can', 'seeming', 'someone', 'against', 'since', 'using', 'seems', 'perhaps', 'any', 'really', 'well', 'my', 'besides', 'over', 'did', 'twelve', 'without', '‘s', 'everywhere', 'him', 'cannot', 'doing', 'never', 'beside', 'amongst', 'per', 'bottom', 'keep', 'some', 'about', 'front', \"'ll\", 'from', 'everything', 'or', 'whereafter', 'very', 'name', 'somehow', 'same', 'moreover', 'toward', 'hence', '‘m', 'nevertheless', 'see', 'not', 'serious', 'anywhere', 'through', 'part', 'hereby', 'they', 'twenty', 'may', 'by', 'sixty', 'ca', 'except', 'afterwards', 'herself', 'and', 'full', 'ours', 'there', 'such', 'often'}\n"
     ]
    }
   ],
   "source": [
    "print(stopwords) "
   ]
  },
  {
   "cell_type": "code",
   "execution_count": 26,
   "id": "97344e3a",
   "metadata": {},
   "outputs": [
    {
     "data": {
      "text/plain": [
       "326"
      ]
     },
     "execution_count": 26,
     "metadata": {},
     "output_type": "execute_result"
    }
   ],
   "source": [
    "len(stopwords)"
   ]
  },
  {
   "cell_type": "markdown",
   "id": "07d90ddb",
   "metadata": {},
   "source": [
    "###### -->   we need to remove stopwords because in the corpus we have around the 30,40%,30% of the data is the stopwords\n",
    " "
   ]
  },
  {
   "cell_type": "markdown",
   "id": "87d01afc",
   "metadata": {},
   "source": [
    "###### -->  ultimately these stopwords increases the dictionary size"
   ]
  },
  {
   "cell_type": "code",
   "execution_count": 27,
   "id": "6787941e",
   "metadata": {},
   "outputs": [],
   "source": [
    "x = 'this is the text data'"
   ]
  },
  {
   "cell_type": "code",
   "execution_count": 28,
   "id": "e21ef638",
   "metadata": {},
   "outputs": [
    {
     "data": {
      "text/plain": [
       "['this', 'is', 'the', 'text', 'data']"
      ]
     },
     "execution_count": 28,
     "metadata": {},
     "output_type": "execute_result"
    }
   ],
   "source": [
    "x.split()"
   ]
  },
  {
   "cell_type": "code",
   "execution_count": 29,
   "id": "64110024",
   "metadata": {},
   "outputs": [
    {
     "data": {
      "text/plain": [
       "['this', 'is', 'the']"
      ]
     },
     "execution_count": 29,
     "metadata": {},
     "output_type": "execute_result"
    }
   ],
   "source": [
    "[t for t in x.split() if t in stopwords]"
   ]
  },
  {
   "cell_type": "code",
   "execution_count": 30,
   "id": "eb7167bd",
   "metadata": {},
   "outputs": [
    {
     "data": {
      "text/plain": [
       "3"
      ]
     },
     "execution_count": 30,
     "metadata": {},
     "output_type": "execute_result"
    }
   ],
   "source": [
    "len([t for t in x.split() if t in stopwords])"
   ]
  },
  {
   "cell_type": "code",
   "execution_count": 31,
   "id": "266d32a5",
   "metadata": {},
   "outputs": [],
   "source": [
    "df['stop_words_len'] = df['twitts'].apply(lambda x:len([t for t in x.split() if t in stopwords]))"
   ]
  },
  {
   "cell_type": "code",
   "execution_count": 32,
   "id": "49a4d76b",
   "metadata": {},
   "outputs": [
    {
     "data": {
      "text/html": [
       "<div>\n",
       "<style scoped>\n",
       "    .dataframe tbody tr th:only-of-type {\n",
       "        vertical-align: middle;\n",
       "    }\n",
       "\n",
       "    .dataframe tbody tr th {\n",
       "        vertical-align: top;\n",
       "    }\n",
       "\n",
       "    .dataframe thead th {\n",
       "        text-align: right;\n",
       "    }\n",
       "</style>\n",
       "<table border=\"1\" class=\"dataframe\">\n",
       "  <thead>\n",
       "    <tr style=\"text-align: right;\">\n",
       "      <th></th>\n",
       "      <th>twitts</th>\n",
       "      <th>sentiment</th>\n",
       "      <th>word_counts</th>\n",
       "      <th>char_counts</th>\n",
       "      <th>Average_word_length</th>\n",
       "      <th>stop_words_len</th>\n",
       "    </tr>\n",
       "  </thead>\n",
       "  <tbody>\n",
       "    <tr>\n",
       "      <th>0</th>\n",
       "      <td>is bored and wants to watch a movie  any sugge...</td>\n",
       "      <td>0</td>\n",
       "      <td>10</td>\n",
       "      <td>43</td>\n",
       "      <td>4.300000</td>\n",
       "      <td>5</td>\n",
       "    </tr>\n",
       "    <tr>\n",
       "      <th>1</th>\n",
       "      <td>back in miami.  waiting to unboard ship</td>\n",
       "      <td>0</td>\n",
       "      <td>7</td>\n",
       "      <td>32</td>\n",
       "      <td>4.571429</td>\n",
       "      <td>3</td>\n",
       "    </tr>\n",
       "    <tr>\n",
       "      <th>2</th>\n",
       "      <td>@misskpey awwww dnt dis brng bak memoriessss, ...</td>\n",
       "      <td>0</td>\n",
       "      <td>12</td>\n",
       "      <td>54</td>\n",
       "      <td>4.500000</td>\n",
       "      <td>0</td>\n",
       "    </tr>\n",
       "    <tr>\n",
       "      <th>3</th>\n",
       "      <td>ughhh i am so tired  blahhhhhhhhh</td>\n",
       "      <td>0</td>\n",
       "      <td>6</td>\n",
       "      <td>27</td>\n",
       "      <td>4.500000</td>\n",
       "      <td>3</td>\n",
       "    </tr>\n",
       "    <tr>\n",
       "      <th>4</th>\n",
       "      <td>@mandagoforth me bad! It's funny though. Zacha...</td>\n",
       "      <td>0</td>\n",
       "      <td>26</td>\n",
       "      <td>116</td>\n",
       "      <td>4.461538</td>\n",
       "      <td>13</td>\n",
       "    </tr>\n",
       "    <tr>\n",
       "      <th>...</th>\n",
       "      <td>...</td>\n",
       "      <td>...</td>\n",
       "      <td>...</td>\n",
       "      <td>...</td>\n",
       "      <td>...</td>\n",
       "      <td>...</td>\n",
       "    </tr>\n",
       "    <tr>\n",
       "      <th>3995</th>\n",
       "      <td>i just graduated</td>\n",
       "      <td>1</td>\n",
       "      <td>3</td>\n",
       "      <td>14</td>\n",
       "      <td>4.666667</td>\n",
       "      <td>2</td>\n",
       "    </tr>\n",
       "    <tr>\n",
       "      <th>3996</th>\n",
       "      <td>Templating works; it all has to be done</td>\n",
       "      <td>1</td>\n",
       "      <td>8</td>\n",
       "      <td>32</td>\n",
       "      <td>4.000000</td>\n",
       "      <td>6</td>\n",
       "    </tr>\n",
       "    <tr>\n",
       "      <th>3997</th>\n",
       "      <td>mommy just brought me starbucks</td>\n",
       "      <td>1</td>\n",
       "      <td>5</td>\n",
       "      <td>27</td>\n",
       "      <td>5.400000</td>\n",
       "      <td>2</td>\n",
       "    </tr>\n",
       "    <tr>\n",
       "      <th>3998</th>\n",
       "      <td>@omarepps watching you on a House re-run...lov...</td>\n",
       "      <td>1</td>\n",
       "      <td>8</td>\n",
       "      <td>45</td>\n",
       "      <td>5.625000</td>\n",
       "      <td>3</td>\n",
       "    </tr>\n",
       "    <tr>\n",
       "      <th>3999</th>\n",
       "      <td>Thanks for trying to make me smile I'll make y...</td>\n",
       "      <td>1</td>\n",
       "      <td>16</td>\n",
       "      <td>63</td>\n",
       "      <td>3.937500</td>\n",
       "      <td>9</td>\n",
       "    </tr>\n",
       "  </tbody>\n",
       "</table>\n",
       "<p>4000 rows × 6 columns</p>\n",
       "</div>"
      ],
      "text/plain": [
       "                                                 twitts  sentiment  \\\n",
       "0     is bored and wants to watch a movie  any sugge...          0   \n",
       "1              back in miami.  waiting to unboard ship           0   \n",
       "2     @misskpey awwww dnt dis brng bak memoriessss, ...          0   \n",
       "3                     ughhh i am so tired  blahhhhhhhhh          0   \n",
       "4     @mandagoforth me bad! It's funny though. Zacha...          0   \n",
       "...                                                 ...        ...   \n",
       "3995                                  i just graduated           1   \n",
       "3996          Templating works; it all has to be done            1   \n",
       "3997                   mommy just brought me starbucks           1   \n",
       "3998  @omarepps watching you on a House re-run...lov...          1   \n",
       "3999  Thanks for trying to make me smile I'll make y...          1   \n",
       "\n",
       "      word_counts  char_counts  Average_word_length  stop_words_len  \n",
       "0              10           43             4.300000               5  \n",
       "1               7           32             4.571429               3  \n",
       "2              12           54             4.500000               0  \n",
       "3               6           27             4.500000               3  \n",
       "4              26          116             4.461538              13  \n",
       "...           ...          ...                  ...             ...  \n",
       "3995            3           14             4.666667               2  \n",
       "3996            8           32             4.000000               6  \n",
       "3997            5           27             5.400000               2  \n",
       "3998            8           45             5.625000               3  \n",
       "3999           16           63             3.937500               9  \n",
       "\n",
       "[4000 rows x 6 columns]"
      ]
     },
     "execution_count": 32,
     "metadata": {},
     "output_type": "execute_result"
    }
   ],
   "source": [
    "df"
   ]
  },
  {
   "cell_type": "code",
   "execution_count": 33,
   "id": "8afcb37a",
   "metadata": {},
   "outputs": [
    {
     "data": {
      "text/html": [
       "<div>\n",
       "<style scoped>\n",
       "    .dataframe tbody tr th:only-of-type {\n",
       "        vertical-align: middle;\n",
       "    }\n",
       "\n",
       "    .dataframe tbody tr th {\n",
       "        vertical-align: top;\n",
       "    }\n",
       "\n",
       "    .dataframe thead th {\n",
       "        text-align: right;\n",
       "    }\n",
       "</style>\n",
       "<table border=\"1\" class=\"dataframe\">\n",
       "  <thead>\n",
       "    <tr style=\"text-align: right;\">\n",
       "      <th></th>\n",
       "      <th>twitts</th>\n",
       "      <th>sentiment</th>\n",
       "      <th>word_counts</th>\n",
       "      <th>char_counts</th>\n",
       "      <th>Average_word_length</th>\n",
       "      <th>stop_words_len</th>\n",
       "    </tr>\n",
       "  </thead>\n",
       "  <tbody>\n",
       "    <tr>\n",
       "      <th>3369</th>\n",
       "      <td>Question: should I stay with red hair or get r...</td>\n",
       "      <td>1</td>\n",
       "      <td>20</td>\n",
       "      <td>85</td>\n",
       "      <td>4.250000</td>\n",
       "      <td>9</td>\n",
       "    </tr>\n",
       "    <tr>\n",
       "      <th>118</th>\n",
       "      <td>i'm waiting for my girl to get bk as she fly's...</td>\n",
       "      <td>0</td>\n",
       "      <td>22</td>\n",
       "      <td>70</td>\n",
       "      <td>3.181818</td>\n",
       "      <td>12</td>\n",
       "    </tr>\n",
       "    <tr>\n",
       "      <th>1723</th>\n",
       "      <td>Somehow found myself stuck in the 80's with a ...</td>\n",
       "      <td>0</td>\n",
       "      <td>17</td>\n",
       "      <td>68</td>\n",
       "      <td>4.000000</td>\n",
       "      <td>7</td>\n",
       "    </tr>\n",
       "    <tr>\n",
       "      <th>3542</th>\n",
       "      <td>@Mylanta yeah, i'm with ya.....it flew over my...</td>\n",
       "      <td>1</td>\n",
       "      <td>12</td>\n",
       "      <td>53</td>\n",
       "      <td>4.416667</td>\n",
       "      <td>6</td>\n",
       "    </tr>\n",
       "    <tr>\n",
       "      <th>2906</th>\n",
       "      <td>@tysonritteraar Hey Ty  Do you know about the ...</td>\n",
       "      <td>1</td>\n",
       "      <td>25</td>\n",
       "      <td>106</td>\n",
       "      <td>4.240000</td>\n",
       "      <td>10</td>\n",
       "    </tr>\n",
       "  </tbody>\n",
       "</table>\n",
       "</div>"
      ],
      "text/plain": [
       "                                                 twitts  sentiment  \\\n",
       "3369  Question: should I stay with red hair or get r...          1   \n",
       "118   i'm waiting for my girl to get bk as she fly's...          0   \n",
       "1723  Somehow found myself stuck in the 80's with a ...          0   \n",
       "3542  @Mylanta yeah, i'm with ya.....it flew over my...          1   \n",
       "2906  @tysonritteraar Hey Ty  Do you know about the ...          1   \n",
       "\n",
       "      word_counts  char_counts  Average_word_length  stop_words_len  \n",
       "3369           20           85             4.250000               9  \n",
       "118            22           70             3.181818              12  \n",
       "1723           17           68             4.000000               7  \n",
       "3542           12           53             4.416667               6  \n",
       "2906           25          106             4.240000              10  "
      ]
     },
     "execution_count": 33,
     "metadata": {},
     "output_type": "execute_result"
    }
   ],
   "source": [
    "df.sample(5)"
   ]
  },
  {
   "cell_type": "markdown",
   "id": "e1e0b0b1",
   "metadata": {},
   "source": [
    "# count #Hashtags and @Mentions"
   ]
  },
  {
   "cell_type": "code",
   "execution_count": 34,
   "id": "d084f663",
   "metadata": {},
   "outputs": [
    {
     "data": {
      "text/plain": [
       "['this', 'is', '#hastag', 'and', 'this', 'is', '@mention']"
      ]
     },
     "execution_count": 34,
     "metadata": {},
     "output_type": "execute_result"
    }
   ],
   "source": [
    "x = 'this is #hastag and this is @mention'\n",
    "x.split()"
   ]
  },
  {
   "cell_type": "code",
   "execution_count": 35,
   "id": "0ebb2a5b",
   "metadata": {},
   "outputs": [
    {
     "data": {
      "text/plain": [
       "['@mention']"
      ]
     },
     "execution_count": 35,
     "metadata": {},
     "output_type": "execute_result"
    }
   ],
   "source": [
    "[t for t in x.split() if t.startswith('@')]"
   ]
  },
  {
   "cell_type": "code",
   "execution_count": 36,
   "id": "f1159d73",
   "metadata": {},
   "outputs": [
    {
     "data": {
      "text/plain": [
       "1"
      ]
     },
     "execution_count": 36,
     "metadata": {},
     "output_type": "execute_result"
    }
   ],
   "source": [
    "len([t for t in x.split() if t.startswith('@')])"
   ]
  },
  {
   "cell_type": "code",
   "execution_count": 37,
   "id": "632fcd1f",
   "metadata": {},
   "outputs": [],
   "source": [
    "df['hashtags_count'] = df['twitts'].apply(lambda x:len([t for t in x.split() if t.startswith('@')]))"
   ]
  },
  {
   "cell_type": "code",
   "execution_count": 38,
   "id": "c82e1289",
   "metadata": {},
   "outputs": [
    {
     "data": {
      "text/html": [
       "<div>\n",
       "<style scoped>\n",
       "    .dataframe tbody tr th:only-of-type {\n",
       "        vertical-align: middle;\n",
       "    }\n",
       "\n",
       "    .dataframe tbody tr th {\n",
       "        vertical-align: top;\n",
       "    }\n",
       "\n",
       "    .dataframe thead th {\n",
       "        text-align: right;\n",
       "    }\n",
       "</style>\n",
       "<table border=\"1\" class=\"dataframe\">\n",
       "  <thead>\n",
       "    <tr style=\"text-align: right;\">\n",
       "      <th></th>\n",
       "      <th>twitts</th>\n",
       "      <th>sentiment</th>\n",
       "      <th>word_counts</th>\n",
       "      <th>char_counts</th>\n",
       "      <th>Average_word_length</th>\n",
       "      <th>stop_words_len</th>\n",
       "      <th>hashtags_count</th>\n",
       "    </tr>\n",
       "  </thead>\n",
       "  <tbody>\n",
       "    <tr>\n",
       "      <th>0</th>\n",
       "      <td>is bored and wants to watch a movie  any sugge...</td>\n",
       "      <td>0</td>\n",
       "      <td>10</td>\n",
       "      <td>43</td>\n",
       "      <td>4.300000</td>\n",
       "      <td>5</td>\n",
       "      <td>0</td>\n",
       "    </tr>\n",
       "    <tr>\n",
       "      <th>1</th>\n",
       "      <td>back in miami.  waiting to unboard ship</td>\n",
       "      <td>0</td>\n",
       "      <td>7</td>\n",
       "      <td>32</td>\n",
       "      <td>4.571429</td>\n",
       "      <td>3</td>\n",
       "      <td>0</td>\n",
       "    </tr>\n",
       "    <tr>\n",
       "      <th>2</th>\n",
       "      <td>@misskpey awwww dnt dis brng bak memoriessss, ...</td>\n",
       "      <td>0</td>\n",
       "      <td>12</td>\n",
       "      <td>54</td>\n",
       "      <td>4.500000</td>\n",
       "      <td>0</td>\n",
       "      <td>1</td>\n",
       "    </tr>\n",
       "    <tr>\n",
       "      <th>3</th>\n",
       "      <td>ughhh i am so tired  blahhhhhhhhh</td>\n",
       "      <td>0</td>\n",
       "      <td>6</td>\n",
       "      <td>27</td>\n",
       "      <td>4.500000</td>\n",
       "      <td>3</td>\n",
       "      <td>0</td>\n",
       "    </tr>\n",
       "    <tr>\n",
       "      <th>4</th>\n",
       "      <td>@mandagoforth me bad! It's funny though. Zacha...</td>\n",
       "      <td>0</td>\n",
       "      <td>26</td>\n",
       "      <td>116</td>\n",
       "      <td>4.461538</td>\n",
       "      <td>13</td>\n",
       "      <td>2</td>\n",
       "    </tr>\n",
       "    <tr>\n",
       "      <th>...</th>\n",
       "      <td>...</td>\n",
       "      <td>...</td>\n",
       "      <td>...</td>\n",
       "      <td>...</td>\n",
       "      <td>...</td>\n",
       "      <td>...</td>\n",
       "      <td>...</td>\n",
       "    </tr>\n",
       "    <tr>\n",
       "      <th>3995</th>\n",
       "      <td>i just graduated</td>\n",
       "      <td>1</td>\n",
       "      <td>3</td>\n",
       "      <td>14</td>\n",
       "      <td>4.666667</td>\n",
       "      <td>2</td>\n",
       "      <td>0</td>\n",
       "    </tr>\n",
       "    <tr>\n",
       "      <th>3996</th>\n",
       "      <td>Templating works; it all has to be done</td>\n",
       "      <td>1</td>\n",
       "      <td>8</td>\n",
       "      <td>32</td>\n",
       "      <td>4.000000</td>\n",
       "      <td>6</td>\n",
       "      <td>0</td>\n",
       "    </tr>\n",
       "    <tr>\n",
       "      <th>3997</th>\n",
       "      <td>mommy just brought me starbucks</td>\n",
       "      <td>1</td>\n",
       "      <td>5</td>\n",
       "      <td>27</td>\n",
       "      <td>5.400000</td>\n",
       "      <td>2</td>\n",
       "      <td>0</td>\n",
       "    </tr>\n",
       "    <tr>\n",
       "      <th>3998</th>\n",
       "      <td>@omarepps watching you on a House re-run...lov...</td>\n",
       "      <td>1</td>\n",
       "      <td>8</td>\n",
       "      <td>45</td>\n",
       "      <td>5.625000</td>\n",
       "      <td>3</td>\n",
       "      <td>1</td>\n",
       "    </tr>\n",
       "    <tr>\n",
       "      <th>3999</th>\n",
       "      <td>Thanks for trying to make me smile I'll make y...</td>\n",
       "      <td>1</td>\n",
       "      <td>16</td>\n",
       "      <td>63</td>\n",
       "      <td>3.937500</td>\n",
       "      <td>9</td>\n",
       "      <td>0</td>\n",
       "    </tr>\n",
       "  </tbody>\n",
       "</table>\n",
       "<p>4000 rows × 7 columns</p>\n",
       "</div>"
      ],
      "text/plain": [
       "                                                 twitts  sentiment  \\\n",
       "0     is bored and wants to watch a movie  any sugge...          0   \n",
       "1              back in miami.  waiting to unboard ship           0   \n",
       "2     @misskpey awwww dnt dis brng bak memoriessss, ...          0   \n",
       "3                     ughhh i am so tired  blahhhhhhhhh          0   \n",
       "4     @mandagoforth me bad! It's funny though. Zacha...          0   \n",
       "...                                                 ...        ...   \n",
       "3995                                  i just graduated           1   \n",
       "3996          Templating works; it all has to be done            1   \n",
       "3997                   mommy just brought me starbucks           1   \n",
       "3998  @omarepps watching you on a House re-run...lov...          1   \n",
       "3999  Thanks for trying to make me smile I'll make y...          1   \n",
       "\n",
       "      word_counts  char_counts  Average_word_length  stop_words_len  \\\n",
       "0              10           43             4.300000               5   \n",
       "1               7           32             4.571429               3   \n",
       "2              12           54             4.500000               0   \n",
       "3               6           27             4.500000               3   \n",
       "4              26          116             4.461538              13   \n",
       "...           ...          ...                  ...             ...   \n",
       "3995            3           14             4.666667               2   \n",
       "3996            8           32             4.000000               6   \n",
       "3997            5           27             5.400000               2   \n",
       "3998            8           45             5.625000               3   \n",
       "3999           16           63             3.937500               9   \n",
       "\n",
       "      hashtags_count  \n",
       "0                  0  \n",
       "1                  0  \n",
       "2                  1  \n",
       "3                  0  \n",
       "4                  2  \n",
       "...              ...  \n",
       "3995               0  \n",
       "3996               0  \n",
       "3997               0  \n",
       "3998               1  \n",
       "3999               0  \n",
       "\n",
       "[4000 rows x 7 columns]"
      ]
     },
     "execution_count": 38,
     "metadata": {},
     "output_type": "execute_result"
    }
   ],
   "source": [
    "df"
   ]
  },
  {
   "cell_type": "code",
   "execution_count": 39,
   "id": "2df8db5d",
   "metadata": {},
   "outputs": [
    {
     "data": {
      "text/html": [
       "<div>\n",
       "<style scoped>\n",
       "    .dataframe tbody tr th:only-of-type {\n",
       "        vertical-align: middle;\n",
       "    }\n",
       "\n",
       "    .dataframe tbody tr th {\n",
       "        vertical-align: top;\n",
       "    }\n",
       "\n",
       "    .dataframe thead th {\n",
       "        text-align: right;\n",
       "    }\n",
       "</style>\n",
       "<table border=\"1\" class=\"dataframe\">\n",
       "  <thead>\n",
       "    <tr style=\"text-align: right;\">\n",
       "      <th></th>\n",
       "      <th>twitts</th>\n",
       "      <th>sentiment</th>\n",
       "      <th>word_counts</th>\n",
       "      <th>char_counts</th>\n",
       "      <th>Average_word_length</th>\n",
       "      <th>stop_words_len</th>\n",
       "      <th>hashtags_count</th>\n",
       "    </tr>\n",
       "  </thead>\n",
       "  <tbody>\n",
       "    <tr>\n",
       "      <th>3303</th>\n",
       "      <td>@funky_town Yup</td>\n",
       "      <td>1</td>\n",
       "      <td>2</td>\n",
       "      <td>14</td>\n",
       "      <td>7.000000</td>\n",
       "      <td>0</td>\n",
       "      <td>1</td>\n",
       "    </tr>\n",
       "    <tr>\n",
       "      <th>1570</th>\n",
       "      <td>does laying down make athsma worse or somethin...</td>\n",
       "      <td>0</td>\n",
       "      <td>18</td>\n",
       "      <td>84</td>\n",
       "      <td>4.666667</td>\n",
       "      <td>11</td>\n",
       "      <td>0</td>\n",
       "    </tr>\n",
       "    <tr>\n",
       "      <th>2218</th>\n",
       "      <td>Me and my dad finally got the little kiddy poo...</td>\n",
       "      <td>1</td>\n",
       "      <td>21</td>\n",
       "      <td>80</td>\n",
       "      <td>3.809524</td>\n",
       "      <td>8</td>\n",
       "      <td>0</td>\n",
       "    </tr>\n",
       "    <tr>\n",
       "      <th>3103</th>\n",
       "      <td>Very sore and staring at my bed, but oh no... ...</td>\n",
       "      <td>1</td>\n",
       "      <td>20</td>\n",
       "      <td>85</td>\n",
       "      <td>4.250000</td>\n",
       "      <td>7</td>\n",
       "      <td>0</td>\n",
       "    </tr>\n",
       "    <tr>\n",
       "      <th>2910</th>\n",
       "      <td>@Kimbalicious aww at least you can see it on g...</td>\n",
       "      <td>1</td>\n",
       "      <td>11</td>\n",
       "      <td>46</td>\n",
       "      <td>4.181818</td>\n",
       "      <td>7</td>\n",
       "      <td>1</td>\n",
       "    </tr>\n",
       "  </tbody>\n",
       "</table>\n",
       "</div>"
      ],
      "text/plain": [
       "                                                 twitts  sentiment  \\\n",
       "3303                                   @funky_town Yup           1   \n",
       "1570  does laying down make athsma worse or somethin...          0   \n",
       "2218  Me and my dad finally got the little kiddy poo...          1   \n",
       "3103  Very sore and staring at my bed, but oh no... ...          1   \n",
       "2910  @Kimbalicious aww at least you can see it on g...          1   \n",
       "\n",
       "      word_counts  char_counts  Average_word_length  stop_words_len  \\\n",
       "3303            2           14             7.000000               0   \n",
       "1570           18           84             4.666667              11   \n",
       "2218           21           80             3.809524               8   \n",
       "3103           20           85             4.250000               7   \n",
       "2910           11           46             4.181818               7   \n",
       "\n",
       "      hashtags_count  \n",
       "3303               1  \n",
       "1570               0  \n",
       "2218               0  \n",
       "3103               0  \n",
       "2910               1  "
      ]
     },
     "execution_count": 39,
     "metadata": {},
     "output_type": "execute_result"
    }
   ],
   "source": [
    "df.sample(5)"
   ]
  },
  {
   "cell_type": "markdown",
   "id": "d7a6f307",
   "metadata": {},
   "source": [
    "# if numeric digits are present in twitts"
   ]
  },
  {
   "cell_type": "code",
   "execution_count": 40,
   "id": "b216f2a1",
   "metadata": {},
   "outputs": [],
   "source": [
    "x = 'this is 1 and 2 and 3'"
   ]
  },
  {
   "cell_type": "code",
   "execution_count": 41,
   "id": "a52c875f",
   "metadata": {},
   "outputs": [
    {
     "data": {
      "text/plain": [
       "['this', 'is', '1', 'and', '2', 'and', '3']"
      ]
     },
     "execution_count": 41,
     "metadata": {},
     "output_type": "execute_result"
    }
   ],
   "source": [
    "x.split()"
   ]
  },
  {
   "cell_type": "code",
   "execution_count": 42,
   "id": "613806ef",
   "metadata": {},
   "outputs": [
    {
     "data": {
      "text/plain": [
       "True"
      ]
     },
     "execution_count": 42,
     "metadata": {},
     "output_type": "execute_result"
    }
   ],
   "source": [
    "x.split()[4].isdigit()"
   ]
  },
  {
   "cell_type": "code",
   "execution_count": 43,
   "id": "7d4b599c",
   "metadata": {},
   "outputs": [
    {
     "data": {
      "text/plain": [
       "['1', '2', '3']"
      ]
     },
     "execution_count": 43,
     "metadata": {},
     "output_type": "execute_result"
    }
   ],
   "source": [
    "[t for t in x.split() if t.isdigit()]"
   ]
  },
  {
   "cell_type": "code",
   "execution_count": 44,
   "id": "a156e7c5",
   "metadata": {},
   "outputs": [],
   "source": [
    "df['numerics_count']=df['twitts'].apply(lambda x:len([t for t in x.split() if t.isdigit()]))"
   ]
  },
  {
   "cell_type": "code",
   "execution_count": 45,
   "id": "4da01b6d",
   "metadata": {},
   "outputs": [
    {
     "data": {
      "text/html": [
       "<div>\n",
       "<style scoped>\n",
       "    .dataframe tbody tr th:only-of-type {\n",
       "        vertical-align: middle;\n",
       "    }\n",
       "\n",
       "    .dataframe tbody tr th {\n",
       "        vertical-align: top;\n",
       "    }\n",
       "\n",
       "    .dataframe thead th {\n",
       "        text-align: right;\n",
       "    }\n",
       "</style>\n",
       "<table border=\"1\" class=\"dataframe\">\n",
       "  <thead>\n",
       "    <tr style=\"text-align: right;\">\n",
       "      <th></th>\n",
       "      <th>twitts</th>\n",
       "      <th>sentiment</th>\n",
       "      <th>word_counts</th>\n",
       "      <th>char_counts</th>\n",
       "      <th>Average_word_length</th>\n",
       "      <th>stop_words_len</th>\n",
       "      <th>hashtags_count</th>\n",
       "      <th>numerics_count</th>\n",
       "    </tr>\n",
       "  </thead>\n",
       "  <tbody>\n",
       "    <tr>\n",
       "      <th>1638</th>\n",
       "      <td>so stressed out right now</td>\n",
       "      <td>0</td>\n",
       "      <td>5</td>\n",
       "      <td>21</td>\n",
       "      <td>4.200000</td>\n",
       "      <td>3</td>\n",
       "      <td>0</td>\n",
       "      <td>0</td>\n",
       "    </tr>\n",
       "    <tr>\n",
       "      <th>1704</th>\n",
       "      <td>Mondays often mean back to work. Sigh.  http:/...</td>\n",
       "      <td>0</td>\n",
       "      <td>8</td>\n",
       "      <td>56</td>\n",
       "      <td>7.000000</td>\n",
       "      <td>3</td>\n",
       "      <td>0</td>\n",
       "      <td>0</td>\n",
       "    </tr>\n",
       "    <tr>\n",
       "      <th>2582</th>\n",
       "      <td>@20ishtraveler Today's the big day! you've alr...</td>\n",
       "      <td>1</td>\n",
       "      <td>20</td>\n",
       "      <td>112</td>\n",
       "      <td>5.600000</td>\n",
       "      <td>6</td>\n",
       "      <td>1</td>\n",
       "      <td>0</td>\n",
       "    </tr>\n",
       "    <tr>\n",
       "      <th>3421</th>\n",
       "      <td>@mszjazebelle we were both rite  the lil one w...</td>\n",
       "      <td>1</td>\n",
       "      <td>11</td>\n",
       "      <td>51</td>\n",
       "      <td>4.636364</td>\n",
       "      <td>6</td>\n",
       "      <td>1</td>\n",
       "      <td>0</td>\n",
       "    </tr>\n",
       "    <tr>\n",
       "      <th>2628</th>\n",
       "      <td>@toitokyo Ok, then what happens?</td>\n",
       "      <td>1</td>\n",
       "      <td>5</td>\n",
       "      <td>28</td>\n",
       "      <td>5.600000</td>\n",
       "      <td>2</td>\n",
       "      <td>1</td>\n",
       "      <td>0</td>\n",
       "    </tr>\n",
       "  </tbody>\n",
       "</table>\n",
       "</div>"
      ],
      "text/plain": [
       "                                                 twitts  sentiment  \\\n",
       "1638                         so stressed out right now           0   \n",
       "1704  Mondays often mean back to work. Sigh.  http:/...          0   \n",
       "2582  @20ishtraveler Today's the big day! you've alr...          1   \n",
       "3421  @mszjazebelle we were both rite  the lil one w...          1   \n",
       "2628                  @toitokyo Ok, then what happens?           1   \n",
       "\n",
       "      word_counts  char_counts  Average_word_length  stop_words_len  \\\n",
       "1638            5           21             4.200000               3   \n",
       "1704            8           56             7.000000               3   \n",
       "2582           20          112             5.600000               6   \n",
       "3421           11           51             4.636364               6   \n",
       "2628            5           28             5.600000               2   \n",
       "\n",
       "      hashtags_count  numerics_count  \n",
       "1638               0               0  \n",
       "1704               0               0  \n",
       "2582               1               0  \n",
       "3421               1               0  \n",
       "2628               1               0  "
      ]
     },
     "execution_count": 45,
     "metadata": {},
     "output_type": "execute_result"
    }
   ],
   "source": [
    "df.sample(5)"
   ]
  },
  {
   "cell_type": "markdown",
   "id": "b6ad8119",
   "metadata": {},
   "source": [
    "# UPPER case words count"
   ]
  },
  {
   "cell_type": "code",
   "execution_count": 46,
   "id": "8ac4ef61",
   "metadata": {},
   "outputs": [],
   "source": [
    "x = 'I AM HAPPY TO LEARN '\n",
    "y = \"it's cool to learn nlp\""
   ]
  },
  {
   "cell_type": "code",
   "execution_count": 47,
   "id": "d83067e8",
   "metadata": {},
   "outputs": [
    {
     "data": {
      "text/plain": [
       "['I', 'AM', 'HAPPY', 'TO', 'LEARN']"
      ]
     },
     "execution_count": 47,
     "metadata": {},
     "output_type": "execute_result"
    }
   ],
   "source": [
    "[t for t in x.split() if t.isupper()]"
   ]
  },
  {
   "cell_type": "code",
   "execution_count": 48,
   "id": "937caa41",
   "metadata": {},
   "outputs": [
    {
     "data": {
      "text/plain": [
       "[]"
      ]
     },
     "execution_count": 48,
     "metadata": {},
     "output_type": "execute_result"
    }
   ],
   "source": [
    "[t for t in y.split() if t.isupper()]"
   ]
  },
  {
   "cell_type": "code",
   "execution_count": 49,
   "id": "39b701b6",
   "metadata": {},
   "outputs": [],
   "source": [
    "df['upper_counts'] = df['twitts'].apply(lambda x: len([t for t in x.split() if t.isupper() ]))"
   ]
  },
  {
   "cell_type": "code",
   "execution_count": 50,
   "id": "46f37a7f",
   "metadata": {},
   "outputs": [
    {
     "data": {
      "text/html": [
       "<div>\n",
       "<style scoped>\n",
       "    .dataframe tbody tr th:only-of-type {\n",
       "        vertical-align: middle;\n",
       "    }\n",
       "\n",
       "    .dataframe tbody tr th {\n",
       "        vertical-align: top;\n",
       "    }\n",
       "\n",
       "    .dataframe thead th {\n",
       "        text-align: right;\n",
       "    }\n",
       "</style>\n",
       "<table border=\"1\" class=\"dataframe\">\n",
       "  <thead>\n",
       "    <tr style=\"text-align: right;\">\n",
       "      <th></th>\n",
       "      <th>twitts</th>\n",
       "      <th>sentiment</th>\n",
       "      <th>word_counts</th>\n",
       "      <th>char_counts</th>\n",
       "      <th>Average_word_length</th>\n",
       "      <th>stop_words_len</th>\n",
       "      <th>hashtags_count</th>\n",
       "      <th>numerics_count</th>\n",
       "      <th>upper_counts</th>\n",
       "    </tr>\n",
       "  </thead>\n",
       "  <tbody>\n",
       "    <tr>\n",
       "      <th>2532</th>\n",
       "      <td>@Hatz94 Daniel!  Regina Spektor's New Album + ...</td>\n",
       "      <td>1</td>\n",
       "      <td>11</td>\n",
       "      <td>57</td>\n",
       "      <td>5.181818</td>\n",
       "      <td>0</td>\n",
       "      <td>1</td>\n",
       "      <td>0</td>\n",
       "      <td>0</td>\n",
       "    </tr>\n",
       "    <tr>\n",
       "      <th>2115</th>\n",
       "      <td>@JohnLloydTaylor aw.  I'm glad you do. Where w...</td>\n",
       "      <td>1</td>\n",
       "      <td>13</td>\n",
       "      <td>57</td>\n",
       "      <td>4.384615</td>\n",
       "      <td>6</td>\n",
       "      <td>1</td>\n",
       "      <td>0</td>\n",
       "      <td>0</td>\n",
       "    </tr>\n",
       "    <tr>\n",
       "      <th>570</th>\n",
       "      <td>can't get into Mariah's new song.</td>\n",
       "      <td>0</td>\n",
       "      <td>6</td>\n",
       "      <td>28</td>\n",
       "      <td>4.666667</td>\n",
       "      <td>2</td>\n",
       "      <td>0</td>\n",
       "      <td>0</td>\n",
       "      <td>0</td>\n",
       "    </tr>\n",
       "    <tr>\n",
       "      <th>1962</th>\n",
       "      <td>ewww i hate history coursework</td>\n",
       "      <td>0</td>\n",
       "      <td>5</td>\n",
       "      <td>26</td>\n",
       "      <td>5.200000</td>\n",
       "      <td>1</td>\n",
       "      <td>0</td>\n",
       "      <td>0</td>\n",
       "      <td>0</td>\n",
       "    </tr>\n",
       "    <tr>\n",
       "      <th>1677</th>\n",
       "      <td>is not feeling to good</td>\n",
       "      <td>0</td>\n",
       "      <td>5</td>\n",
       "      <td>18</td>\n",
       "      <td>3.600000</td>\n",
       "      <td>3</td>\n",
       "      <td>0</td>\n",
       "      <td>0</td>\n",
       "      <td>0</td>\n",
       "    </tr>\n",
       "  </tbody>\n",
       "</table>\n",
       "</div>"
      ],
      "text/plain": [
       "                                                 twitts  sentiment  \\\n",
       "2532  @Hatz94 Daniel!  Regina Spektor's New Album + ...          1   \n",
       "2115  @JohnLloydTaylor aw.  I'm glad you do. Where w...          1   \n",
       "570                  can't get into Mariah's new song.           0   \n",
       "1962                    ewww i hate history coursework           0   \n",
       "1677                            is not feeling to good           0   \n",
       "\n",
       "      word_counts  char_counts  Average_word_length  stop_words_len  \\\n",
       "2532           11           57             5.181818               0   \n",
       "2115           13           57             4.384615               6   \n",
       "570             6           28             4.666667               2   \n",
       "1962            5           26             5.200000               1   \n",
       "1677            5           18             3.600000               3   \n",
       "\n",
       "      hashtags_count  numerics_count  upper_counts  \n",
       "2532               1               0             0  \n",
       "2115               1               0             0  \n",
       "570                0               0             0  \n",
       "1962               0               0             0  \n",
       "1677               0               0             0  "
      ]
     },
     "execution_count": 50,
     "metadata": {},
     "output_type": "execute_result"
    }
   ],
   "source": [
    "df.sample(5)"
   ]
  },
  {
   "cell_type": "code",
   "execution_count": 51,
   "id": "09ca980c",
   "metadata": {},
   "outputs": [
    {
     "data": {
      "text/plain": [
       "'45.9'"
      ]
     },
     "execution_count": 51,
     "metadata": {},
     "output_type": "execute_result"
    }
   ],
   "source": [
    "x = 45.9\n",
    "str(x).lower()"
   ]
  },
  {
   "cell_type": "code",
   "execution_count": 52,
   "id": "41853a34",
   "metadata": {},
   "outputs": [],
   "source": [
    "df['twitts'] = df['twitts'].apply(lambda x: str(x).lower())"
   ]
  },
  {
   "cell_type": "code",
   "execution_count": 53,
   "id": "d6805817",
   "metadata": {},
   "outputs": [
    {
     "data": {
      "text/html": [
       "<div>\n",
       "<style scoped>\n",
       "    .dataframe tbody tr th:only-of-type {\n",
       "        vertical-align: middle;\n",
       "    }\n",
       "\n",
       "    .dataframe tbody tr th {\n",
       "        vertical-align: top;\n",
       "    }\n",
       "\n",
       "    .dataframe thead th {\n",
       "        text-align: right;\n",
       "    }\n",
       "</style>\n",
       "<table border=\"1\" class=\"dataframe\">\n",
       "  <thead>\n",
       "    <tr style=\"text-align: right;\">\n",
       "      <th></th>\n",
       "      <th>twitts</th>\n",
       "      <th>sentiment</th>\n",
       "      <th>word_counts</th>\n",
       "      <th>char_counts</th>\n",
       "      <th>Average_word_length</th>\n",
       "      <th>stop_words_len</th>\n",
       "      <th>hashtags_count</th>\n",
       "      <th>numerics_count</th>\n",
       "      <th>upper_counts</th>\n",
       "    </tr>\n",
       "  </thead>\n",
       "  <tbody>\n",
       "    <tr>\n",
       "      <th>1507</th>\n",
       "      <td>my openoffice keeps freezing on me.</td>\n",
       "      <td>0</td>\n",
       "      <td>6</td>\n",
       "      <td>30</td>\n",
       "      <td>5.000000</td>\n",
       "      <td>1</td>\n",
       "      <td>0</td>\n",
       "      <td>0</td>\n",
       "      <td>0</td>\n",
       "    </tr>\n",
       "    <tr>\n",
       "      <th>3630</th>\n",
       "      <td>its a week today till we love sounds  *nose bl...</td>\n",
       "      <td>1</td>\n",
       "      <td>26</td>\n",
       "      <td>113</td>\n",
       "      <td>4.346154</td>\n",
       "      <td>10</td>\n",
       "      <td>0</td>\n",
       "      <td>0</td>\n",
       "      <td>0</td>\n",
       "    </tr>\n",
       "  </tbody>\n",
       "</table>\n",
       "</div>"
      ],
      "text/plain": [
       "                                                 twitts  sentiment  \\\n",
       "1507              my openoffice keeps freezing on me.            0   \n",
       "3630  its a week today till we love sounds  *nose bl...          1   \n",
       "\n",
       "      word_counts  char_counts  Average_word_length  stop_words_len  \\\n",
       "1507            6           30             5.000000               1   \n",
       "3630           26          113             4.346154              10   \n",
       "\n",
       "      hashtags_count  numerics_count  upper_counts  \n",
       "1507               0               0             0  \n",
       "3630               0               0             0  "
      ]
     },
     "execution_count": 53,
     "metadata": {},
     "output_type": "execute_result"
    }
   ],
   "source": [
    "df.sample(2)"
   ]
  },
  {
   "cell_type": "markdown",
   "id": "98b94786",
   "metadata": {},
   "source": [
    "# contractions to expantions"
   ]
  },
  {
   "cell_type": "code",
   "execution_count": 54,
   "id": "fb02f69a",
   "metadata": {},
   "outputs": [],
   "source": [
    "contractions = {\n",
    "    \"ain't\": \"is not\",\n",
    "    \"aren't\": \"are not\",\n",
    "    \"can't\": \"cannot\",\n",
    "    \"could've\": \"could have\",\n",
    "    \"couldn't\": \"could not\",\n",
    "    \"didn't\": \"did not\",\n",
    "    \"doesn't\": \"does not\",\n",
    "    \"don't\": \"do not\",\n",
    "    \"hadn't\": \"had not\",\n",
    "    \"hasn't\": \"has not\",\n",
    "    \"haven't\": \"have not\",\n",
    "    \"he'd\": \"he would\",\n",
    "    \"he'll\": \"he will\",\n",
    "    \"he's\": \"he is\",\n",
    "    \"how'd\": \"how did\",\n",
    "    \"how'll\": \"how will\",\n",
    "    \"how's\": \"how is\",\n",
    "    \"I'd\": \"I would\",\n",
    "    \"I'll\": \"I will\",\n",
    "    \"I'm\": \"I am\",\n",
    "    \"I've\": \"I have\",\n",
    "    \"isn't\": \"is not\",\n",
    "    \"it'd\": \"it would\",\n",
    "    \"it'll\": \"it will\",\n",
    "    \"it's\": \"it is\",\n",
    "    \"let's\": \"let us\",\n",
    "    \"mustn't\": \"must not\",\n",
    "    \"shan't\": \"shall not\",\n",
    "    \"she'd\": \"she would\",\n",
    "    \"she'll\": \"she will\",\n",
    "    \"she's\": \"she is\",\n",
    "    \"should've\": \"should have\",\n",
    "    \"shouldn't\": \"should not\",\n",
    "    \"that's\": \"that is\",\n",
    "    \"there's\": \"there is\",\n",
    "    \"they'd\": \"they would\",\n",
    "    \"they'll\": \"they will\",\n",
    "    \"they're\": \"they are\",\n",
    "    \"they've\": \"they have\",\n",
    "    \"wasn't\": \"was not\",\n",
    "    \"we'd\": \"we would\",\n",
    "    \"we'll\": \"we will\",\n",
    "    \"we're\": \"we are\",\n",
    "    \"we've\": \"we have\",\n",
    "    \"weren't\": \"were not\",\n",
    "    \"what'll\": \"what will\",\n",
    "    \"what're\": \"what are\",\n",
    "    \"what's\": \"what is\",\n",
    "    \"what've\": \"what have\",\n",
    "    \"where's\": \"where is\",\n",
    "    \"who'd\": \"who would\",\n",
    "    \"who'll\": \"who will\",\n",
    "    \"who're\": \"who are\",\n",
    "    \"who's\": \"who is\",\n",
    "    \"who've\": \"who have\",\n",
    "    \"won't\": \"will not\",\n",
    "    \"would've\": \"would have\",\n",
    "    \"wouldn't\": \"would not\",\n",
    "    \"you'd\": \"you would\",\n",
    "    \"you'll\": \"you will\",\n",
    "    \"you're\": \"you are\",\n",
    "    \"you've\": \"you have\"\n",
    "}\n"
   ]
  },
  {
   "cell_type": "code",
   "execution_count": 55,
   "id": "968f46ae",
   "metadata": {},
   "outputs": [],
   "source": [
    "x = \"i'm don't he'will\""
   ]
  },
  {
   "cell_type": "code",
   "execution_count": 56,
   "id": "99d7e9d3",
   "metadata": {},
   "outputs": [],
   "source": [
    "def cont_to_exp(x):\n",
    "    if type(x) is str:\n",
    "        for key in contractions:\n",
    "            value = contractions[key]\n",
    "            x = x.replace(key,value)\n",
    "        return x\n",
    "    else:\n",
    "        return x"
   ]
  },
  {
   "cell_type": "code",
   "execution_count": 57,
   "id": "942cdc89",
   "metadata": {},
   "outputs": [
    {
     "data": {
      "text/plain": [
       "\"i'm do not he'will\""
      ]
     },
     "execution_count": 57,
     "metadata": {},
     "output_type": "execute_result"
    }
   ],
   "source": [
    "cont_to_exp(x)"
   ]
  },
  {
   "cell_type": "code",
   "execution_count": 58,
   "id": "35ae3cde",
   "metadata": {
    "scrolled": true
   },
   "outputs": [
    {
     "name": "stdout",
     "output_type": "stream",
     "text": [
      "33.3 ms ± 3.07 ms per loop (mean ± std. dev. of 7 runs, 10 loops each)\n"
     ]
    }
   ],
   "source": [
    "%%timeit\n",
    "\n",
    " df['twitts'] = df['twitts'].apply(lambda x:cont_to_exp(x))"
   ]
  },
  {
   "cell_type": "code",
   "execution_count": 59,
   "id": "9c3b1df8",
   "metadata": {},
   "outputs": [
    {
     "data": {
      "text/html": [
       "<div>\n",
       "<style scoped>\n",
       "    .dataframe tbody tr th:only-of-type {\n",
       "        vertical-align: middle;\n",
       "    }\n",
       "\n",
       "    .dataframe tbody tr th {\n",
       "        vertical-align: top;\n",
       "    }\n",
       "\n",
       "    .dataframe thead th {\n",
       "        text-align: right;\n",
       "    }\n",
       "</style>\n",
       "<table border=\"1\" class=\"dataframe\">\n",
       "  <thead>\n",
       "    <tr style=\"text-align: right;\">\n",
       "      <th></th>\n",
       "      <th>twitts</th>\n",
       "      <th>sentiment</th>\n",
       "      <th>word_counts</th>\n",
       "      <th>char_counts</th>\n",
       "      <th>Average_word_length</th>\n",
       "      <th>stop_words_len</th>\n",
       "      <th>hashtags_count</th>\n",
       "      <th>numerics_count</th>\n",
       "      <th>upper_counts</th>\n",
       "    </tr>\n",
       "  </thead>\n",
       "  <tbody>\n",
       "    <tr>\n",
       "      <th>3888</th>\n",
       "      <td>@oflame  stop makin me producherblush..lol! .....</td>\n",
       "      <td>1</td>\n",
       "      <td>21</td>\n",
       "      <td>112</td>\n",
       "      <td>5.333333</td>\n",
       "      <td>7</td>\n",
       "      <td>1</td>\n",
       "      <td>0</td>\n",
       "      <td>0</td>\n",
       "    </tr>\n",
       "    <tr>\n",
       "      <th>3104</th>\n",
       "      <td>woo demi's a trending topic :p that must feel ...</td>\n",
       "      <td>1</td>\n",
       "      <td>25</td>\n",
       "      <td>104</td>\n",
       "      <td>4.160000</td>\n",
       "      <td>11</td>\n",
       "      <td>0</td>\n",
       "      <td>0</td>\n",
       "      <td>0</td>\n",
       "    </tr>\n",
       "  </tbody>\n",
       "</table>\n",
       "</div>"
      ],
      "text/plain": [
       "                                                 twitts  sentiment  \\\n",
       "3888  @oflame  stop makin me producherblush..lol! .....          1   \n",
       "3104  woo demi's a trending topic :p that must feel ...          1   \n",
       "\n",
       "      word_counts  char_counts  Average_word_length  stop_words_len  \\\n",
       "3888           21          112             5.333333               7   \n",
       "3104           25          104             4.160000              11   \n",
       "\n",
       "      hashtags_count  numerics_count  upper_counts  \n",
       "3888               1               0             0  \n",
       "3104               0               0             0  "
      ]
     },
     "execution_count": 59,
     "metadata": {},
     "output_type": "execute_result"
    }
   ],
   "source": [
    "df.sample(2)"
   ]
  },
  {
   "cell_type": "markdown",
   "id": "bf9c17fc",
   "metadata": {},
   "source": [
    "# Count and Remove Emails"
   ]
  },
  {
   "cell_type": "code",
   "execution_count": 60,
   "id": "9b59761e",
   "metadata": {},
   "outputs": [
    {
     "data": {
      "text/plain": [
       "0       is bored and wants to watch a movie  any sugge...\n",
       "1                back in miami.  waiting to unboard ship \n",
       "2       @misskpey awwww dnt dis brng bak memoriessss, ...\n",
       "3                       ughhh i am so tired  blahhhhhhhhh\n",
       "4       @mandagoforth me bad! it is funny though. zach...\n",
       "                              ...                        \n",
       "3995                                    i just graduated \n",
       "3996            templating works; it all has to be done  \n",
       "3997                     mommy just brought me starbucks \n",
       "3998    @omarepps watching you on a house re-run...lov...\n",
       "3999    thanks for trying to make me smile i'll make y...\n",
       "Name: twitts, Length: 4000, dtype: object"
      ]
     },
     "execution_count": 60,
     "metadata": {},
     "output_type": "execute_result"
    }
   ],
   "source": [
    "df['twitts']"
   ]
  },
  {
   "cell_type": "code",
   "execution_count": 61,
   "id": "4ebcc774",
   "metadata": {},
   "outputs": [
    {
     "data": {
      "text/html": [
       "<div>\n",
       "<style scoped>\n",
       "    .dataframe tbody tr th:only-of-type {\n",
       "        vertical-align: middle;\n",
       "    }\n",
       "\n",
       "    .dataframe tbody tr th {\n",
       "        vertical-align: top;\n",
       "    }\n",
       "\n",
       "    .dataframe thead th {\n",
       "        text-align: right;\n",
       "    }\n",
       "</style>\n",
       "<table border=\"1\" class=\"dataframe\">\n",
       "  <thead>\n",
       "    <tr style=\"text-align: right;\">\n",
       "      <th></th>\n",
       "      <th>twitts</th>\n",
       "      <th>sentiment</th>\n",
       "      <th>word_counts</th>\n",
       "      <th>char_counts</th>\n",
       "      <th>Average_word_length</th>\n",
       "      <th>stop_words_len</th>\n",
       "      <th>hashtags_count</th>\n",
       "      <th>numerics_count</th>\n",
       "      <th>upper_counts</th>\n",
       "    </tr>\n",
       "  </thead>\n",
       "  <tbody>\n",
       "    <tr>\n",
       "      <th>2448</th>\n",
       "      <td>when i click my firefox 'most visited' tab, af...</td>\n",
       "      <td>1</td>\n",
       "      <td>17</td>\n",
       "      <td>79</td>\n",
       "      <td>4.647059</td>\n",
       "      <td>5</td>\n",
       "      <td>0</td>\n",
       "      <td>0</td>\n",
       "      <td>1</td>\n",
       "    </tr>\n",
       "  </tbody>\n",
       "</table>\n",
       "</div>"
      ],
      "text/plain": [
       "                                                 twitts  sentiment  \\\n",
       "2448  when i click my firefox 'most visited' tab, af...          1   \n",
       "\n",
       "      word_counts  char_counts  Average_word_length  stop_words_len  \\\n",
       "2448           17           79             4.647059               5   \n",
       "\n",
       "      hashtags_count  numerics_count  upper_counts  \n",
       "2448               0               0             1  "
      ]
     },
     "execution_count": 61,
     "metadata": {},
     "output_type": "execute_result"
    }
   ],
   "source": [
    "df[df['twitts'].str.contains('gmail.com')]"
   ]
  },
  {
   "cell_type": "code",
   "execution_count": 62,
   "id": "ab1d7bd3",
   "metadata": {},
   "outputs": [
    {
     "data": {
      "text/html": [
       "<div>\n",
       "<style scoped>\n",
       "    .dataframe tbody tr th:only-of-type {\n",
       "        vertical-align: middle;\n",
       "    }\n",
       "\n",
       "    .dataframe tbody tr th {\n",
       "        vertical-align: top;\n",
       "    }\n",
       "\n",
       "    .dataframe thead th {\n",
       "        text-align: right;\n",
       "    }\n",
       "</style>\n",
       "<table border=\"1\" class=\"dataframe\">\n",
       "  <thead>\n",
       "    <tr style=\"text-align: right;\">\n",
       "      <th></th>\n",
       "      <th>twitts</th>\n",
       "      <th>sentiment</th>\n",
       "      <th>word_counts</th>\n",
       "      <th>char_counts</th>\n",
       "      <th>Average_word_length</th>\n",
       "      <th>stop_words_len</th>\n",
       "      <th>hashtags_count</th>\n",
       "      <th>numerics_count</th>\n",
       "      <th>upper_counts</th>\n",
       "    </tr>\n",
       "  </thead>\n",
       "  <tbody>\n",
       "    <tr>\n",
       "      <th>3713</th>\n",
       "      <td>@securerecs arghh me please  markbradbury_16@h...</td>\n",
       "      <td>1</td>\n",
       "      <td>5</td>\n",
       "      <td>51</td>\n",
       "      <td>10.2</td>\n",
       "      <td>0</td>\n",
       "      <td>1</td>\n",
       "      <td>0</td>\n",
       "      <td>0</td>\n",
       "    </tr>\n",
       "  </tbody>\n",
       "</table>\n",
       "</div>"
      ],
      "text/plain": [
       "                                                 twitts  sentiment  \\\n",
       "3713  @securerecs arghh me please  markbradbury_16@h...          1   \n",
       "\n",
       "      word_counts  char_counts  Average_word_length  stop_words_len  \\\n",
       "3713            5           51                 10.2               0   \n",
       "\n",
       "      hashtags_count  numerics_count  upper_counts  \n",
       "3713               1               0             0  "
      ]
     },
     "execution_count": 62,
     "metadata": {},
     "output_type": "execute_result"
    }
   ],
   "source": [
    "df[df['twitts'].str.contains('hotmail.com')]"
   ]
  },
  {
   "cell_type": "code",
   "execution_count": 63,
   "id": "f157c2a0",
   "metadata": {},
   "outputs": [
    {
     "data": {
      "text/plain": [
       "(4000, 9)"
      ]
     },
     "execution_count": 63,
     "metadata": {},
     "output_type": "execute_result"
    }
   ],
   "source": [
    "df.shape"
   ]
  },
  {
   "cell_type": "code",
   "execution_count": 64,
   "id": "1e17140d",
   "metadata": {},
   "outputs": [
    {
     "data": {
      "text/plain": [
       "\"when i click my firefox 'most visited' tab, after my gmail comes 'twitter / over capacity' nice \""
      ]
     },
     "execution_count": 64,
     "metadata": {},
     "output_type": "execute_result"
    }
   ],
   "source": [
    "df.iloc[2448]['twitts']"
   ]
  },
  {
   "cell_type": "code",
   "execution_count": 65,
   "id": "d22f8bd9",
   "metadata": {},
   "outputs": [
    {
     "data": {
      "text/plain": [
       "'back in miami.  waiting to unboard ship '"
      ]
     },
     "execution_count": 65,
     "metadata": {},
     "output_type": "execute_result"
    }
   ],
   "source": [
    "df.iloc[1]['twitts']"
   ]
  },
  {
   "cell_type": "code",
   "execution_count": 66,
   "id": "c507fde4",
   "metadata": {},
   "outputs": [
    {
     "data": {
      "text/plain": [
       "'@securerecs arghh me please  markbradbury_16@hotmail.com'"
      ]
     },
     "execution_count": 66,
     "metadata": {},
     "output_type": "execute_result"
    }
   ],
   "source": [
    "df.iloc[3713]['twitts']"
   ]
  },
  {
   "cell_type": "code",
   "execution_count": 67,
   "id": "5c279033",
   "metadata": {},
   "outputs": [],
   "source": [
    "import re"
   ]
  },
  {
   "cell_type": "code",
   "execution_count": 68,
   "id": "e1fdfea1",
   "metadata": {},
   "outputs": [],
   "source": [
    "x = '@securerecs arghh me please  markbradbury_16@hotmail.com'\n"
   ]
  },
  {
   "cell_type": "code",
   "execution_count": 69,
   "id": "7c7a33b5",
   "metadata": {},
   "outputs": [],
   "source": [
    "# re.findall(r'([a-z0-9+._-]+@[a-z0-9+._-]+\\.[a-z0-9+_-]+\\b)',x))"
   ]
  },
  {
   "cell_type": "code",
   "execution_count": 70,
   "id": "38e303f8",
   "metadata": {},
   "outputs": [],
   "source": [
    "df['emails'] = df['twitts'].apply(lambda x: re.findall(r'([a-z0-9+._-]+@[a-z0-9+._-]+\\.[a-z0-9+_-]+\\b)',x)) "
   ]
  },
  {
   "cell_type": "code",
   "execution_count": 71,
   "id": "0419447f",
   "metadata": {},
   "outputs": [],
   "source": [
    "df['email_count'] = df['emails'].apply(lambda x:len(x))"
   ]
  },
  {
   "cell_type": "code",
   "execution_count": 72,
   "id": "f7bf3a35",
   "metadata": {},
   "outputs": [
    {
     "data": {
      "text/html": [
       "<div>\n",
       "<style scoped>\n",
       "    .dataframe tbody tr th:only-of-type {\n",
       "        vertical-align: middle;\n",
       "    }\n",
       "\n",
       "    .dataframe tbody tr th {\n",
       "        vertical-align: top;\n",
       "    }\n",
       "\n",
       "    .dataframe thead th {\n",
       "        text-align: right;\n",
       "    }\n",
       "</style>\n",
       "<table border=\"1\" class=\"dataframe\">\n",
       "  <thead>\n",
       "    <tr style=\"text-align: right;\">\n",
       "      <th></th>\n",
       "      <th>twitts</th>\n",
       "      <th>sentiment</th>\n",
       "      <th>word_counts</th>\n",
       "      <th>char_counts</th>\n",
       "      <th>Average_word_length</th>\n",
       "      <th>stop_words_len</th>\n",
       "      <th>hashtags_count</th>\n",
       "      <th>numerics_count</th>\n",
       "      <th>upper_counts</th>\n",
       "      <th>emails</th>\n",
       "      <th>email_count</th>\n",
       "    </tr>\n",
       "  </thead>\n",
       "  <tbody>\n",
       "    <tr>\n",
       "      <th>3713</th>\n",
       "      <td>@securerecs arghh me please  markbradbury_16@h...</td>\n",
       "      <td>1</td>\n",
       "      <td>5</td>\n",
       "      <td>51</td>\n",
       "      <td>10.2</td>\n",
       "      <td>0</td>\n",
       "      <td>1</td>\n",
       "      <td>0</td>\n",
       "      <td>0</td>\n",
       "      <td>[markbradbury_16@hotmail.com]</td>\n",
       "      <td>1</td>\n",
       "    </tr>\n",
       "  </tbody>\n",
       "</table>\n",
       "</div>"
      ],
      "text/plain": [
       "                                                 twitts  sentiment  \\\n",
       "3713  @securerecs arghh me please  markbradbury_16@h...          1   \n",
       "\n",
       "      word_counts  char_counts  Average_word_length  stop_words_len  \\\n",
       "3713            5           51                 10.2               0   \n",
       "\n",
       "      hashtags_count  numerics_count  upper_counts  \\\n",
       "3713               1               0             0   \n",
       "\n",
       "                             emails  email_count  \n",
       "3713  [markbradbury_16@hotmail.com]            1  "
      ]
     },
     "execution_count": 72,
     "metadata": {},
     "output_type": "execute_result"
    }
   ],
   "source": [
    "df[df['email_count'] >0]"
   ]
  },
  {
   "cell_type": "code",
   "execution_count": 73,
   "id": "595ab946",
   "metadata": {},
   "outputs": [
    {
     "data": {
      "text/plain": [
       "'@securerecs arghh me please  '"
      ]
     },
     "execution_count": 73,
     "metadata": {},
     "output_type": "execute_result"
    }
   ],
   "source": [
    "re.sub(r'([a-z0-9+._-]+@[a-z0-9+._-]+\\.[a-z0-9+_-]+\\b)',\"\",x)"
   ]
  },
  {
   "cell_type": "code",
   "execution_count": 74,
   "id": "c6c29cf2",
   "metadata": {},
   "outputs": [],
   "source": [
    "df['twitts'] = df['twitts'].apply(lambda x: re.sub(r'([a-z0-9+._-]+@[a-z0-9+._-]+\\.[a-z0-9+_-]+\\b)',\"\",x))"
   ]
  },
  {
   "cell_type": "code",
   "execution_count": 75,
   "id": "c4e43967",
   "metadata": {},
   "outputs": [
    {
     "data": {
      "text/html": [
       "<div>\n",
       "<style scoped>\n",
       "    .dataframe tbody tr th:only-of-type {\n",
       "        vertical-align: middle;\n",
       "    }\n",
       "\n",
       "    .dataframe tbody tr th {\n",
       "        vertical-align: top;\n",
       "    }\n",
       "\n",
       "    .dataframe thead th {\n",
       "        text-align: right;\n",
       "    }\n",
       "</style>\n",
       "<table border=\"1\" class=\"dataframe\">\n",
       "  <thead>\n",
       "    <tr style=\"text-align: right;\">\n",
       "      <th></th>\n",
       "      <th>twitts</th>\n",
       "      <th>sentiment</th>\n",
       "      <th>word_counts</th>\n",
       "      <th>char_counts</th>\n",
       "      <th>Average_word_length</th>\n",
       "      <th>stop_words_len</th>\n",
       "      <th>hashtags_count</th>\n",
       "      <th>numerics_count</th>\n",
       "      <th>upper_counts</th>\n",
       "      <th>emails</th>\n",
       "      <th>email_count</th>\n",
       "    </tr>\n",
       "  </thead>\n",
       "  <tbody>\n",
       "    <tr>\n",
       "      <th>0</th>\n",
       "      <td>is bored and wants to watch a movie  any sugge...</td>\n",
       "      <td>0</td>\n",
       "      <td>10</td>\n",
       "      <td>43</td>\n",
       "      <td>4.300000</td>\n",
       "      <td>5</td>\n",
       "      <td>0</td>\n",
       "      <td>0</td>\n",
       "      <td>0</td>\n",
       "      <td>[]</td>\n",
       "      <td>0</td>\n",
       "    </tr>\n",
       "    <tr>\n",
       "      <th>1</th>\n",
       "      <td>back in miami.  waiting to unboard ship</td>\n",
       "      <td>0</td>\n",
       "      <td>7</td>\n",
       "      <td>32</td>\n",
       "      <td>4.571429</td>\n",
       "      <td>3</td>\n",
       "      <td>0</td>\n",
       "      <td>0</td>\n",
       "      <td>0</td>\n",
       "      <td>[]</td>\n",
       "      <td>0</td>\n",
       "    </tr>\n",
       "    <tr>\n",
       "      <th>2</th>\n",
       "      <td>@misskpey awwww dnt dis brng bak memoriessss, ...</td>\n",
       "      <td>0</td>\n",
       "      <td>12</td>\n",
       "      <td>54</td>\n",
       "      <td>4.500000</td>\n",
       "      <td>0</td>\n",
       "      <td>1</td>\n",
       "      <td>0</td>\n",
       "      <td>1</td>\n",
       "      <td>[]</td>\n",
       "      <td>0</td>\n",
       "    </tr>\n",
       "    <tr>\n",
       "      <th>3</th>\n",
       "      <td>ughhh i am so tired  blahhhhhhhhh</td>\n",
       "      <td>0</td>\n",
       "      <td>6</td>\n",
       "      <td>27</td>\n",
       "      <td>4.500000</td>\n",
       "      <td>3</td>\n",
       "      <td>0</td>\n",
       "      <td>0</td>\n",
       "      <td>0</td>\n",
       "      <td>[]</td>\n",
       "      <td>0</td>\n",
       "    </tr>\n",
       "    <tr>\n",
       "      <th>4</th>\n",
       "      <td>@mandagoforth me bad! it is funny though. zach...</td>\n",
       "      <td>0</td>\n",
       "      <td>26</td>\n",
       "      <td>116</td>\n",
       "      <td>4.461538</td>\n",
       "      <td>13</td>\n",
       "      <td>2</td>\n",
       "      <td>0</td>\n",
       "      <td>0</td>\n",
       "      <td>[]</td>\n",
       "      <td>0</td>\n",
       "    </tr>\n",
       "    <tr>\n",
       "      <th>...</th>\n",
       "      <td>...</td>\n",
       "      <td>...</td>\n",
       "      <td>...</td>\n",
       "      <td>...</td>\n",
       "      <td>...</td>\n",
       "      <td>...</td>\n",
       "      <td>...</td>\n",
       "      <td>...</td>\n",
       "      <td>...</td>\n",
       "      <td>...</td>\n",
       "      <td>...</td>\n",
       "    </tr>\n",
       "    <tr>\n",
       "      <th>3995</th>\n",
       "      <td>i just graduated</td>\n",
       "      <td>1</td>\n",
       "      <td>3</td>\n",
       "      <td>14</td>\n",
       "      <td>4.666667</td>\n",
       "      <td>2</td>\n",
       "      <td>0</td>\n",
       "      <td>0</td>\n",
       "      <td>0</td>\n",
       "      <td>[]</td>\n",
       "      <td>0</td>\n",
       "    </tr>\n",
       "    <tr>\n",
       "      <th>3996</th>\n",
       "      <td>templating works; it all has to be done</td>\n",
       "      <td>1</td>\n",
       "      <td>8</td>\n",
       "      <td>32</td>\n",
       "      <td>4.000000</td>\n",
       "      <td>6</td>\n",
       "      <td>0</td>\n",
       "      <td>0</td>\n",
       "      <td>0</td>\n",
       "      <td>[]</td>\n",
       "      <td>0</td>\n",
       "    </tr>\n",
       "    <tr>\n",
       "      <th>3997</th>\n",
       "      <td>mommy just brought me starbucks</td>\n",
       "      <td>1</td>\n",
       "      <td>5</td>\n",
       "      <td>27</td>\n",
       "      <td>5.400000</td>\n",
       "      <td>2</td>\n",
       "      <td>0</td>\n",
       "      <td>0</td>\n",
       "      <td>0</td>\n",
       "      <td>[]</td>\n",
       "      <td>0</td>\n",
       "    </tr>\n",
       "    <tr>\n",
       "      <th>3998</th>\n",
       "      <td>@omarepps watching you on a house re-run...lov...</td>\n",
       "      <td>1</td>\n",
       "      <td>8</td>\n",
       "      <td>45</td>\n",
       "      <td>5.625000</td>\n",
       "      <td>3</td>\n",
       "      <td>1</td>\n",
       "      <td>0</td>\n",
       "      <td>0</td>\n",
       "      <td>[]</td>\n",
       "      <td>0</td>\n",
       "    </tr>\n",
       "    <tr>\n",
       "      <th>3999</th>\n",
       "      <td>thanks for trying to make me smile i'll make y...</td>\n",
       "      <td>1</td>\n",
       "      <td>16</td>\n",
       "      <td>63</td>\n",
       "      <td>3.937500</td>\n",
       "      <td>9</td>\n",
       "      <td>0</td>\n",
       "      <td>0</td>\n",
       "      <td>0</td>\n",
       "      <td>[]</td>\n",
       "      <td>0</td>\n",
       "    </tr>\n",
       "  </tbody>\n",
       "</table>\n",
       "<p>4000 rows × 11 columns</p>\n",
       "</div>"
      ],
      "text/plain": [
       "                                                 twitts  sentiment  \\\n",
       "0     is bored and wants to watch a movie  any sugge...          0   \n",
       "1              back in miami.  waiting to unboard ship           0   \n",
       "2     @misskpey awwww dnt dis brng bak memoriessss, ...          0   \n",
       "3                     ughhh i am so tired  blahhhhhhhhh          0   \n",
       "4     @mandagoforth me bad! it is funny though. zach...          0   \n",
       "...                                                 ...        ...   \n",
       "3995                                  i just graduated           1   \n",
       "3996          templating works; it all has to be done            1   \n",
       "3997                   mommy just brought me starbucks           1   \n",
       "3998  @omarepps watching you on a house re-run...lov...          1   \n",
       "3999  thanks for trying to make me smile i'll make y...          1   \n",
       "\n",
       "      word_counts  char_counts  Average_word_length  stop_words_len  \\\n",
       "0              10           43             4.300000               5   \n",
       "1               7           32             4.571429               3   \n",
       "2              12           54             4.500000               0   \n",
       "3               6           27             4.500000               3   \n",
       "4              26          116             4.461538              13   \n",
       "...           ...          ...                  ...             ...   \n",
       "3995            3           14             4.666667               2   \n",
       "3996            8           32             4.000000               6   \n",
       "3997            5           27             5.400000               2   \n",
       "3998            8           45             5.625000               3   \n",
       "3999           16           63             3.937500               9   \n",
       "\n",
       "      hashtags_count  numerics_count  upper_counts emails  email_count  \n",
       "0                  0               0             0     []            0  \n",
       "1                  0               0             0     []            0  \n",
       "2                  1               0             1     []            0  \n",
       "3                  0               0             0     []            0  \n",
       "4                  2               0             0     []            0  \n",
       "...              ...             ...           ...    ...          ...  \n",
       "3995               0               0             0     []            0  \n",
       "3996               0               0             0     []            0  \n",
       "3997               0               0             0     []            0  \n",
       "3998               1               0             0     []            0  \n",
       "3999               0               0             0     []            0  \n",
       "\n",
       "[4000 rows x 11 columns]"
      ]
     },
     "execution_count": 75,
     "metadata": {},
     "output_type": "execute_result"
    }
   ],
   "source": [
    "df"
   ]
  },
  {
   "cell_type": "markdown",
   "id": "d71ea92c",
   "metadata": {},
   "source": [
    "# Count URLS and Remove it"
   ]
  },
  {
   "cell_type": "code",
   "execution_count": 76,
   "id": "22a5c87f",
   "metadata": {},
   "outputs": [
    {
     "name": "stdout",
     "output_type": "stream",
     "text": [
      "Extracted URLs:\n",
      "http://example.com,\n",
      "https://www.google.com,\n",
      "https://github.com.\n"
     ]
    }
   ],
   "source": [
    "import re\n",
    "\n",
    "def extract_urls(text):\n",
    "    url_pattern = r\"http[s]?://(?:[a-zA-Z]|[0-9]|[$-_@.&+]|[!*\\\\(\\\\),]|(?:%[0-9a-fA-F][0-9a-fA-F]))+\"\n",
    "\n",
    "    urls = re.findall(url_pattern, text)\n",
    "    return urls\n",
    "\n",
    "sample_text = \"Here are some URLs: http://example.com, https://www.google.com, and https://github.com.\"\n",
    "\n",
    "extracted_urls = extract_urls(sample_text)\n",
    "\n",
    "print(\"Extracted URLs:\")\n",
    "for url in extracted_urls:\n",
    "    print(url)\n"
   ]
  },
  {
   "cell_type": "code",
   "execution_count": 77,
   "id": "0e4643a4",
   "metadata": {},
   "outputs": [],
   "source": [
    "x  = \"Here are some URLs: http://example.com, https://www.google.com, and https://github.com.\""
   ]
  },
  {
   "cell_type": "code",
   "execution_count": 78,
   "id": "f7c69411",
   "metadata": {},
   "outputs": [],
   "source": [
    "#ssh://git@git.com>username/repo.git=riif?/"
   ]
  },
  {
   "cell_type": "code",
   "execution_count": 79,
   "id": "17655d52",
   "metadata": {},
   "outputs": [
    {
     "data": {
      "text/plain": [
       "[('http', 'example.com', ''),\n",
       " ('https', 'www.google.com', ''),\n",
       " ('https', 'github.com', '')]"
      ]
     },
     "execution_count": 79,
     "metadata": {},
     "output_type": "execute_result"
    }
   ],
   "source": [
    "re.findall(r'(http|https|ftp|ssh)://([\\w_-]+(?:(?:\\.[\\w_-]+)+))([\\w.,@?^=%&:/~+#-]*[\\w@?^=%&/~+#-])?',x)"
   ]
  },
  {
   "cell_type": "code",
   "execution_count": 80,
   "id": "d0f1c192",
   "metadata": {},
   "outputs": [],
   "source": [
    "df['url_flags']=df['twitts'].apply(lambda x:len(re.findall(r'(http|https|ftp|ssh)://([\\w_-]+(?:(?:\\.[\\w_-]+)+))([\\w.,@?^=%&:/~+#-]*[\\w@?^=%&/~+#-])?',x)),x)"
   ]
  },
  {
   "cell_type": "code",
   "execution_count": 81,
   "id": "eaefc8ed",
   "metadata": {},
   "outputs": [
    {
     "data": {
      "text/html": [
       "<div>\n",
       "<style scoped>\n",
       "    .dataframe tbody tr th:only-of-type {\n",
       "        vertical-align: middle;\n",
       "    }\n",
       "\n",
       "    .dataframe tbody tr th {\n",
       "        vertical-align: top;\n",
       "    }\n",
       "\n",
       "    .dataframe thead th {\n",
       "        text-align: right;\n",
       "    }\n",
       "</style>\n",
       "<table border=\"1\" class=\"dataframe\">\n",
       "  <thead>\n",
       "    <tr style=\"text-align: right;\">\n",
       "      <th></th>\n",
       "      <th>twitts</th>\n",
       "      <th>sentiment</th>\n",
       "      <th>word_counts</th>\n",
       "      <th>char_counts</th>\n",
       "      <th>Average_word_length</th>\n",
       "      <th>stop_words_len</th>\n",
       "      <th>hashtags_count</th>\n",
       "      <th>numerics_count</th>\n",
       "      <th>upper_counts</th>\n",
       "      <th>emails</th>\n",
       "      <th>email_count</th>\n",
       "      <th>url_flags</th>\n",
       "    </tr>\n",
       "  </thead>\n",
       "  <tbody>\n",
       "    <tr>\n",
       "      <th>16</th>\n",
       "      <td>@brianquest i made 1 fo u 2: http://bit.ly/eid...</td>\n",
       "      <td>0</td>\n",
       "      <td>19</td>\n",
       "      <td>81</td>\n",
       "      <td>4.263158</td>\n",
       "      <td>3</td>\n",
       "      <td>1</td>\n",
       "      <td>1</td>\n",
       "      <td>3</td>\n",
       "      <td>[]</td>\n",
       "      <td>0</td>\n",
       "      <td>1</td>\n",
       "    </tr>\n",
       "    <tr>\n",
       "      <th>98</th>\n",
       "      <td>heading to work  http://twitpic.com/4eojz</td>\n",
       "      <td>0</td>\n",
       "      <td>4</td>\n",
       "      <td>37</td>\n",
       "      <td>9.250000</td>\n",
       "      <td>1</td>\n",
       "      <td>0</td>\n",
       "      <td>0</td>\n",
       "      <td>0</td>\n",
       "      <td>[]</td>\n",
       "      <td>0</td>\n",
       "      <td>1</td>\n",
       "    </tr>\n",
       "    <tr>\n",
       "      <th>99</th>\n",
       "      <td>@blondeblogger http://twitpic.com/4w8hk - i'm ...</td>\n",
       "      <td>0</td>\n",
       "      <td>10</td>\n",
       "      <td>62</td>\n",
       "      <td>6.200000</td>\n",
       "      <td>4</td>\n",
       "      <td>1</td>\n",
       "      <td>0</td>\n",
       "      <td>0</td>\n",
       "      <td>[]</td>\n",
       "      <td>0</td>\n",
       "      <td>1</td>\n",
       "    </tr>\n",
       "    <tr>\n",
       "      <th>144</th>\n",
       "      <td>i miss you  â« http://blip.fm/~8lc2f</td>\n",
       "      <td>0</td>\n",
       "      <td>5</td>\n",
       "      <td>32</td>\n",
       "      <td>6.400000</td>\n",
       "      <td>1</td>\n",
       "      <td>0</td>\n",
       "      <td>0</td>\n",
       "      <td>1</td>\n",
       "      <td>[]</td>\n",
       "      <td>0</td>\n",
       "      <td>1</td>\n",
       "    </tr>\n",
       "    <tr>\n",
       "      <th>183</th>\n",
       "      <td>photo: miss germany  http://tumblr.com/xf825f012</td>\n",
       "      <td>0</td>\n",
       "      <td>4</td>\n",
       "      <td>44</td>\n",
       "      <td>11.000000</td>\n",
       "      <td>0</td>\n",
       "      <td>0</td>\n",
       "      <td>0</td>\n",
       "      <td>0</td>\n",
       "      <td>[]</td>\n",
       "      <td>0</td>\n",
       "      <td>1</td>\n",
       "    </tr>\n",
       "    <tr>\n",
       "      <th>...</th>\n",
       "      <td>...</td>\n",
       "      <td>...</td>\n",
       "      <td>...</td>\n",
       "      <td>...</td>\n",
       "      <td>...</td>\n",
       "      <td>...</td>\n",
       "      <td>...</td>\n",
       "      <td>...</td>\n",
       "      <td>...</td>\n",
       "      <td>...</td>\n",
       "      <td>...</td>\n",
       "      <td>...</td>\n",
       "    </tr>\n",
       "    <tr>\n",
       "      <th>3819</th>\n",
       "      <td>new staark video of &amp;quot;sweet release&amp;quot; ...</td>\n",
       "      <td>1</td>\n",
       "      <td>20</td>\n",
       "      <td>118</td>\n",
       "      <td>5.900000</td>\n",
       "      <td>4</td>\n",
       "      <td>0</td>\n",
       "      <td>0</td>\n",
       "      <td>1</td>\n",
       "      <td>[]</td>\n",
       "      <td>0</td>\n",
       "      <td>1</td>\n",
       "    </tr>\n",
       "    <tr>\n",
       "      <th>3826</th>\n",
       "      <td>http://tinyurl.com/kwmynq helmet - unsung to s...</td>\n",
       "      <td>1</td>\n",
       "      <td>9</td>\n",
       "      <td>76</td>\n",
       "      <td>8.444444</td>\n",
       "      <td>2</td>\n",
       "      <td>0</td>\n",
       "      <td>0</td>\n",
       "      <td>0</td>\n",
       "      <td>[]</td>\n",
       "      <td>0</td>\n",
       "      <td>2</td>\n",
       "    </tr>\n",
       "    <tr>\n",
       "      <th>3837</th>\n",
       "      <td>@r0ckergirl14 wow sweet again!!  http://twitpi...</td>\n",
       "      <td>1</td>\n",
       "      <td>5</td>\n",
       "      <td>52</td>\n",
       "      <td>10.400000</td>\n",
       "      <td>0</td>\n",
       "      <td>1</td>\n",
       "      <td>0</td>\n",
       "      <td>0</td>\n",
       "      <td>[]</td>\n",
       "      <td>0</td>\n",
       "      <td>1</td>\n",
       "    </tr>\n",
       "    <tr>\n",
       "      <th>3958</th>\n",
       "      <td>someone has been creative with my #deskmess wh...</td>\n",
       "      <td>1</td>\n",
       "      <td>13</td>\n",
       "      <td>91</td>\n",
       "      <td>7.000000</td>\n",
       "      <td>7</td>\n",
       "      <td>1</td>\n",
       "      <td>0</td>\n",
       "      <td>0</td>\n",
       "      <td>[]</td>\n",
       "      <td>0</td>\n",
       "      <td>1</td>\n",
       "    </tr>\n",
       "    <tr>\n",
       "      <th>3974</th>\n",
       "      <td>@gtucker13 http://twitpic.com/6tw87 - no reall...</td>\n",
       "      <td>1</td>\n",
       "      <td>16</td>\n",
       "      <td>84</td>\n",
       "      <td>5.250000</td>\n",
       "      <td>9</td>\n",
       "      <td>1</td>\n",
       "      <td>0</td>\n",
       "      <td>0</td>\n",
       "      <td>[]</td>\n",
       "      <td>0</td>\n",
       "      <td>1</td>\n",
       "    </tr>\n",
       "  </tbody>\n",
       "</table>\n",
       "<p>185 rows × 12 columns</p>\n",
       "</div>"
      ],
      "text/plain": [
       "                                                 twitts  sentiment  \\\n",
       "16    @brianquest i made 1 fo u 2: http://bit.ly/eid...          0   \n",
       "98            heading to work  http://twitpic.com/4eojz          0   \n",
       "99    @blondeblogger http://twitpic.com/4w8hk - i'm ...          0   \n",
       "144               i miss you  â« http://blip.fm/~8lc2f          0   \n",
       "183    photo: miss germany  http://tumblr.com/xf825f012          0   \n",
       "...                                                 ...        ...   \n",
       "3819  new staark video of &quot;sweet release&quot; ...          1   \n",
       "3826  http://tinyurl.com/kwmynq helmet - unsung to s...          1   \n",
       "3837  @r0ckergirl14 wow sweet again!!  http://twitpi...          1   \n",
       "3958  someone has been creative with my #deskmess wh...          1   \n",
       "3974  @gtucker13 http://twitpic.com/6tw87 - no reall...          1   \n",
       "\n",
       "      word_counts  char_counts  Average_word_length  stop_words_len  \\\n",
       "16             19           81             4.263158               3   \n",
       "98              4           37             9.250000               1   \n",
       "99             10           62             6.200000               4   \n",
       "144             5           32             6.400000               1   \n",
       "183             4           44            11.000000               0   \n",
       "...           ...          ...                  ...             ...   \n",
       "3819           20          118             5.900000               4   \n",
       "3826            9           76             8.444444               2   \n",
       "3837            5           52            10.400000               0   \n",
       "3958           13           91             7.000000               7   \n",
       "3974           16           84             5.250000               9   \n",
       "\n",
       "      hashtags_count  numerics_count  upper_counts emails  email_count  \\\n",
       "16                 1               1             3     []            0   \n",
       "98                 0               0             0     []            0   \n",
       "99                 1               0             0     []            0   \n",
       "144                0               0             1     []            0   \n",
       "183                0               0             0     []            0   \n",
       "...              ...             ...           ...    ...          ...   \n",
       "3819               0               0             1     []            0   \n",
       "3826               0               0             0     []            0   \n",
       "3837               1               0             0     []            0   \n",
       "3958               1               0             0     []            0   \n",
       "3974               1               0             0     []            0   \n",
       "\n",
       "      url_flags  \n",
       "16            1  \n",
       "98            1  \n",
       "99            1  \n",
       "144           1  \n",
       "183           1  \n",
       "...         ...  \n",
       "3819          1  \n",
       "3826          2  \n",
       "3837          1  \n",
       "3958          1  \n",
       "3974          1  \n",
       "\n",
       "[185 rows x 12 columns]"
      ]
     },
     "execution_count": 81,
     "metadata": {},
     "output_type": "execute_result"
    }
   ],
   "source": [
    "df[df['url_flags']>0]"
   ]
  },
  {
   "cell_type": "code",
   "execution_count": null,
   "id": "ce266131",
   "metadata": {},
   "outputs": [],
   "source": []
  },
  {
   "cell_type": "code",
   "execution_count": 82,
   "id": "0e2777f2",
   "metadata": {},
   "outputs": [],
   "source": [
    "# df['url_flags']=df['twitts'].apply(lambda x:len(url_pattern),x)"
   ]
  },
  {
   "cell_type": "code",
   "execution_count": null,
   "id": "1173c73c",
   "metadata": {},
   "outputs": [],
   "source": []
  },
  {
   "cell_type": "code",
   "execution_count": 83,
   "id": "558b4985",
   "metadata": {},
   "outputs": [],
   "source": [
    "url_pattern= r\"http[s]?://(?:[a-zA-Z]|[0-9]|[$-_@.&+]|[!*\\\\(\\\\),]|(?:%[0-9a-fA-F][0-9a-fA-F]))+\"\n"
   ]
  },
  {
   "cell_type": "code",
   "execution_count": 84,
   "id": "6663a3c6",
   "metadata": {},
   "outputs": [],
   "source": [
    "df['url_flags']=df['twitts'].apply(lambda x:len(url_pattern),x)"
   ]
  },
  {
   "cell_type": "code",
   "execution_count": 85,
   "id": "8d395d58",
   "metadata": {},
   "outputs": [
    {
     "data": {
      "text/html": [
       "<div>\n",
       "<style scoped>\n",
       "    .dataframe tbody tr th:only-of-type {\n",
       "        vertical-align: middle;\n",
       "    }\n",
       "\n",
       "    .dataframe tbody tr th {\n",
       "        vertical-align: top;\n",
       "    }\n",
       "\n",
       "    .dataframe thead th {\n",
       "        text-align: right;\n",
       "    }\n",
       "</style>\n",
       "<table border=\"1\" class=\"dataframe\">\n",
       "  <thead>\n",
       "    <tr style=\"text-align: right;\">\n",
       "      <th></th>\n",
       "      <th>twitts</th>\n",
       "      <th>sentiment</th>\n",
       "      <th>word_counts</th>\n",
       "      <th>char_counts</th>\n",
       "      <th>Average_word_length</th>\n",
       "      <th>stop_words_len</th>\n",
       "      <th>hashtags_count</th>\n",
       "      <th>numerics_count</th>\n",
       "      <th>upper_counts</th>\n",
       "      <th>emails</th>\n",
       "      <th>email_count</th>\n",
       "      <th>url_flags</th>\n",
       "    </tr>\n",
       "  </thead>\n",
       "  <tbody>\n",
       "    <tr>\n",
       "      <th>0</th>\n",
       "      <td>is bored and wants to watch a movie  any sugge...</td>\n",
       "      <td>0</td>\n",
       "      <td>10</td>\n",
       "      <td>43</td>\n",
       "      <td>4.300000</td>\n",
       "      <td>5</td>\n",
       "      <td>0</td>\n",
       "      <td>0</td>\n",
       "      <td>0</td>\n",
       "      <td>[]</td>\n",
       "      <td>0</td>\n",
       "      <td>80</td>\n",
       "    </tr>\n",
       "    <tr>\n",
       "      <th>1</th>\n",
       "      <td>back in miami.  waiting to unboard ship</td>\n",
       "      <td>0</td>\n",
       "      <td>7</td>\n",
       "      <td>32</td>\n",
       "      <td>4.571429</td>\n",
       "      <td>3</td>\n",
       "      <td>0</td>\n",
       "      <td>0</td>\n",
       "      <td>0</td>\n",
       "      <td>[]</td>\n",
       "      <td>0</td>\n",
       "      <td>80</td>\n",
       "    </tr>\n",
       "    <tr>\n",
       "      <th>2</th>\n",
       "      <td>@misskpey awwww dnt dis brng bak memoriessss, ...</td>\n",
       "      <td>0</td>\n",
       "      <td>12</td>\n",
       "      <td>54</td>\n",
       "      <td>4.500000</td>\n",
       "      <td>0</td>\n",
       "      <td>1</td>\n",
       "      <td>0</td>\n",
       "      <td>1</td>\n",
       "      <td>[]</td>\n",
       "      <td>0</td>\n",
       "      <td>80</td>\n",
       "    </tr>\n",
       "    <tr>\n",
       "      <th>3</th>\n",
       "      <td>ughhh i am so tired  blahhhhhhhhh</td>\n",
       "      <td>0</td>\n",
       "      <td>6</td>\n",
       "      <td>27</td>\n",
       "      <td>4.500000</td>\n",
       "      <td>3</td>\n",
       "      <td>0</td>\n",
       "      <td>0</td>\n",
       "      <td>0</td>\n",
       "      <td>[]</td>\n",
       "      <td>0</td>\n",
       "      <td>80</td>\n",
       "    </tr>\n",
       "    <tr>\n",
       "      <th>4</th>\n",
       "      <td>@mandagoforth me bad! it is funny though. zach...</td>\n",
       "      <td>0</td>\n",
       "      <td>26</td>\n",
       "      <td>116</td>\n",
       "      <td>4.461538</td>\n",
       "      <td>13</td>\n",
       "      <td>2</td>\n",
       "      <td>0</td>\n",
       "      <td>0</td>\n",
       "      <td>[]</td>\n",
       "      <td>0</td>\n",
       "      <td>80</td>\n",
       "    </tr>\n",
       "    <tr>\n",
       "      <th>...</th>\n",
       "      <td>...</td>\n",
       "      <td>...</td>\n",
       "      <td>...</td>\n",
       "      <td>...</td>\n",
       "      <td>...</td>\n",
       "      <td>...</td>\n",
       "      <td>...</td>\n",
       "      <td>...</td>\n",
       "      <td>...</td>\n",
       "      <td>...</td>\n",
       "      <td>...</td>\n",
       "      <td>...</td>\n",
       "    </tr>\n",
       "    <tr>\n",
       "      <th>3995</th>\n",
       "      <td>i just graduated</td>\n",
       "      <td>1</td>\n",
       "      <td>3</td>\n",
       "      <td>14</td>\n",
       "      <td>4.666667</td>\n",
       "      <td>2</td>\n",
       "      <td>0</td>\n",
       "      <td>0</td>\n",
       "      <td>0</td>\n",
       "      <td>[]</td>\n",
       "      <td>0</td>\n",
       "      <td>80</td>\n",
       "    </tr>\n",
       "    <tr>\n",
       "      <th>3996</th>\n",
       "      <td>templating works; it all has to be done</td>\n",
       "      <td>1</td>\n",
       "      <td>8</td>\n",
       "      <td>32</td>\n",
       "      <td>4.000000</td>\n",
       "      <td>6</td>\n",
       "      <td>0</td>\n",
       "      <td>0</td>\n",
       "      <td>0</td>\n",
       "      <td>[]</td>\n",
       "      <td>0</td>\n",
       "      <td>80</td>\n",
       "    </tr>\n",
       "    <tr>\n",
       "      <th>3997</th>\n",
       "      <td>mommy just brought me starbucks</td>\n",
       "      <td>1</td>\n",
       "      <td>5</td>\n",
       "      <td>27</td>\n",
       "      <td>5.400000</td>\n",
       "      <td>2</td>\n",
       "      <td>0</td>\n",
       "      <td>0</td>\n",
       "      <td>0</td>\n",
       "      <td>[]</td>\n",
       "      <td>0</td>\n",
       "      <td>80</td>\n",
       "    </tr>\n",
       "    <tr>\n",
       "      <th>3998</th>\n",
       "      <td>@omarepps watching you on a house re-run...lov...</td>\n",
       "      <td>1</td>\n",
       "      <td>8</td>\n",
       "      <td>45</td>\n",
       "      <td>5.625000</td>\n",
       "      <td>3</td>\n",
       "      <td>1</td>\n",
       "      <td>0</td>\n",
       "      <td>0</td>\n",
       "      <td>[]</td>\n",
       "      <td>0</td>\n",
       "      <td>80</td>\n",
       "    </tr>\n",
       "    <tr>\n",
       "      <th>3999</th>\n",
       "      <td>thanks for trying to make me smile i'll make y...</td>\n",
       "      <td>1</td>\n",
       "      <td>16</td>\n",
       "      <td>63</td>\n",
       "      <td>3.937500</td>\n",
       "      <td>9</td>\n",
       "      <td>0</td>\n",
       "      <td>0</td>\n",
       "      <td>0</td>\n",
       "      <td>[]</td>\n",
       "      <td>0</td>\n",
       "      <td>80</td>\n",
       "    </tr>\n",
       "  </tbody>\n",
       "</table>\n",
       "<p>4000 rows × 12 columns</p>\n",
       "</div>"
      ],
      "text/plain": [
       "                                                 twitts  sentiment  \\\n",
       "0     is bored and wants to watch a movie  any sugge...          0   \n",
       "1              back in miami.  waiting to unboard ship           0   \n",
       "2     @misskpey awwww dnt dis brng bak memoriessss, ...          0   \n",
       "3                     ughhh i am so tired  blahhhhhhhhh          0   \n",
       "4     @mandagoforth me bad! it is funny though. zach...          0   \n",
       "...                                                 ...        ...   \n",
       "3995                                  i just graduated           1   \n",
       "3996          templating works; it all has to be done            1   \n",
       "3997                   mommy just brought me starbucks           1   \n",
       "3998  @omarepps watching you on a house re-run...lov...          1   \n",
       "3999  thanks for trying to make me smile i'll make y...          1   \n",
       "\n",
       "      word_counts  char_counts  Average_word_length  stop_words_len  \\\n",
       "0              10           43             4.300000               5   \n",
       "1               7           32             4.571429               3   \n",
       "2              12           54             4.500000               0   \n",
       "3               6           27             4.500000               3   \n",
       "4              26          116             4.461538              13   \n",
       "...           ...          ...                  ...             ...   \n",
       "3995            3           14             4.666667               2   \n",
       "3996            8           32             4.000000               6   \n",
       "3997            5           27             5.400000               2   \n",
       "3998            8           45             5.625000               3   \n",
       "3999           16           63             3.937500               9   \n",
       "\n",
       "      hashtags_count  numerics_count  upper_counts emails  email_count  \\\n",
       "0                  0               0             0     []            0   \n",
       "1                  0               0             0     []            0   \n",
       "2                  1               0             1     []            0   \n",
       "3                  0               0             0     []            0   \n",
       "4                  2               0             0     []            0   \n",
       "...              ...             ...           ...    ...          ...   \n",
       "3995               0               0             0     []            0   \n",
       "3996               0               0             0     []            0   \n",
       "3997               0               0             0     []            0   \n",
       "3998               1               0             0     []            0   \n",
       "3999               0               0             0     []            0   \n",
       "\n",
       "      url_flags  \n",
       "0            80  \n",
       "1            80  \n",
       "2            80  \n",
       "3            80  \n",
       "4            80  \n",
       "...         ...  \n",
       "3995         80  \n",
       "3996         80  \n",
       "3997         80  \n",
       "3998         80  \n",
       "3999         80  \n",
       "\n",
       "[4000 rows x 12 columns]"
      ]
     },
     "execution_count": 85,
     "metadata": {},
     "output_type": "execute_result"
    }
   ],
   "source": [
    "df[df['url_flags']>0]"
   ]
  },
  {
   "cell_type": "code",
   "execution_count": 86,
   "id": "a404dbbd",
   "metadata": {},
   "outputs": [
    {
     "data": {
      "text/plain": [
       "'Here are some URLs:   and '"
      ]
     },
     "execution_count": 86,
     "metadata": {},
     "output_type": "execute_result"
    }
   ],
   "source": [
    "re.sub(url_pattern,\"\",x)"
   ]
  },
  {
   "cell_type": "code",
   "execution_count": 87,
   "id": "a26b6c18",
   "metadata": {},
   "outputs": [
    {
     "data": {
      "text/plain": [
       "'http[s]?://(?:[a-zA-Z]|[0-9]|[$-_@.&+]|[!*\\\\\\\\(\\\\\\\\),]|(?:%[0-9a-fA-F][0-9a-fA-F]))+'"
      ]
     },
     "execution_count": 87,
     "metadata": {},
     "output_type": "execute_result"
    }
   ],
   "source": [
    "url_pattern"
   ]
  },
  {
   "cell_type": "code",
   "execution_count": 88,
   "id": "faba374d",
   "metadata": {},
   "outputs": [
    {
     "data": {
      "text/plain": [
       "'Here are some URLs:   and '"
      ]
     },
     "execution_count": 88,
     "metadata": {},
     "output_type": "execute_result"
    }
   ],
   "source": [
    " re.sub(r\"http[s]?://(?:[a-zA-Z]|[0-9]|[$-_@.&+]|[!*\\\\(\\\\),]|(?:%[0-9a-fA-F][0-9a-fA-F]))+\",\"\",x)"
   ]
  },
  {
   "cell_type": "code",
   "execution_count": 89,
   "id": "007f9544",
   "metadata": {},
   "outputs": [],
   "source": [
    "#  re.findall(r'(http[s]?://(?:[a-zA-Z]|[0-9]|[$-_@.&+]|[!*\\\\(\\\\),]|(?:%[0-9a-fA-F][0-9a-fA-F]))+))"
   ]
  },
  {
   "cell_type": "code",
   "execution_count": 90,
   "id": "d4a964f2",
   "metadata": {},
   "outputs": [
    {
     "data": {
      "text/plain": [
       "'Here are some URLs: http://example.com, https://www.google.com, and https://github.com.'"
      ]
     },
     "execution_count": 90,
     "metadata": {},
     "output_type": "execute_result"
    }
   ],
   "source": [
    "x"
   ]
  },
  {
   "cell_type": "code",
   "execution_count": 91,
   "id": "a87537c1",
   "metadata": {},
   "outputs": [],
   "source": [
    "df['twitts'] = df['twitts'].apply(lambda x:  re.sub(r\"http[s]?://(?:[a-zA-Z]|[0-9]|[$-_@.&+]|[!*\\\\(\\\\),]|(?:%[0-9a-fA-F][0-9a-fA-F]))+\",\"\",x))"
   ]
  },
  {
   "cell_type": "markdown",
   "id": "3d572f06",
   "metadata": {},
   "source": [
    "# Remove RT"
   ]
  },
  {
   "cell_type": "markdown",
   "id": "d026d47a",
   "metadata": {},
   "source": [
    "##### RT -> Retweet thereafter the user"
   ]
  },
  {
   "cell_type": "code",
   "execution_count": 92,
   "id": "a39e3c25",
   "metadata": {},
   "outputs": [
    {
     "data": {
      "text/html": [
       "<div>\n",
       "<style scoped>\n",
       "    .dataframe tbody tr th:only-of-type {\n",
       "        vertical-align: middle;\n",
       "    }\n",
       "\n",
       "    .dataframe tbody tr th {\n",
       "        vertical-align: top;\n",
       "    }\n",
       "\n",
       "    .dataframe thead th {\n",
       "        text-align: right;\n",
       "    }\n",
       "</style>\n",
       "<table border=\"1\" class=\"dataframe\">\n",
       "  <thead>\n",
       "    <tr style=\"text-align: right;\">\n",
       "      <th></th>\n",
       "      <th>twitts</th>\n",
       "      <th>sentiment</th>\n",
       "      <th>word_counts</th>\n",
       "      <th>char_counts</th>\n",
       "      <th>Average_word_length</th>\n",
       "      <th>stop_words_len</th>\n",
       "      <th>hashtags_count</th>\n",
       "      <th>numerics_count</th>\n",
       "      <th>upper_counts</th>\n",
       "      <th>emails</th>\n",
       "      <th>email_count</th>\n",
       "      <th>url_flags</th>\n",
       "    </tr>\n",
       "  </thead>\n",
       "  <tbody>\n",
       "    <tr>\n",
       "      <th>4</th>\n",
       "      <td>@mandagoforth me bad! it is funny though. zach...</td>\n",
       "      <td>0</td>\n",
       "      <td>26</td>\n",
       "      <td>116</td>\n",
       "      <td>4.461538</td>\n",
       "      <td>13</td>\n",
       "      <td>2</td>\n",
       "      <td>0</td>\n",
       "      <td>0</td>\n",
       "      <td>[]</td>\n",
       "      <td>0</td>\n",
       "      <td>80</td>\n",
       "    </tr>\n",
       "    <tr>\n",
       "      <th>23</th>\n",
       "      <td>ut oh, i wonder if the ram on the desktop is s...</td>\n",
       "      <td>0</td>\n",
       "      <td>14</td>\n",
       "      <td>46</td>\n",
       "      <td>3.285714</td>\n",
       "      <td>7</td>\n",
       "      <td>0</td>\n",
       "      <td>0</td>\n",
       "      <td>2</td>\n",
       "      <td>[]</td>\n",
       "      <td>0</td>\n",
       "      <td>80</td>\n",
       "    </tr>\n",
       "    <tr>\n",
       "      <th>59</th>\n",
       "      <td>@paulmccourt dunno what sky you are looking at...</td>\n",
       "      <td>0</td>\n",
       "      <td>15</td>\n",
       "      <td>80</td>\n",
       "      <td>5.333333</td>\n",
       "      <td>3</td>\n",
       "      <td>1</td>\n",
       "      <td>0</td>\n",
       "      <td>0</td>\n",
       "      <td>[]</td>\n",
       "      <td>0</td>\n",
       "      <td>80</td>\n",
       "    </tr>\n",
       "    <tr>\n",
       "      <th>75</th>\n",
       "      <td>im back home in belfast  im realli tired thoug...</td>\n",
       "      <td>0</td>\n",
       "      <td>22</td>\n",
       "      <td>84</td>\n",
       "      <td>3.818182</td>\n",
       "      <td>9</td>\n",
       "      <td>0</td>\n",
       "      <td>0</td>\n",
       "      <td>1</td>\n",
       "      <td>[]</td>\n",
       "      <td>0</td>\n",
       "      <td>80</td>\n",
       "    </tr>\n",
       "    <tr>\n",
       "      <th>81</th>\n",
       "      <td>@lilmonkee987 i know what you mean... i feel s...</td>\n",
       "      <td>0</td>\n",
       "      <td>11</td>\n",
       "      <td>48</td>\n",
       "      <td>4.363636</td>\n",
       "      <td>5</td>\n",
       "      <td>1</td>\n",
       "      <td>0</td>\n",
       "      <td>0</td>\n",
       "      <td>[]</td>\n",
       "      <td>0</td>\n",
       "      <td>80</td>\n",
       "    </tr>\n",
       "    <tr>\n",
       "      <th>...</th>\n",
       "      <td>...</td>\n",
       "      <td>...</td>\n",
       "      <td>...</td>\n",
       "      <td>...</td>\n",
       "      <td>...</td>\n",
       "      <td>...</td>\n",
       "      <td>...</td>\n",
       "      <td>...</td>\n",
       "      <td>...</td>\n",
       "      <td>...</td>\n",
       "      <td>...</td>\n",
       "      <td>...</td>\n",
       "    </tr>\n",
       "    <tr>\n",
       "      <th>3913</th>\n",
       "      <td>for the press so after she recovered she kille...</td>\n",
       "      <td>1</td>\n",
       "      <td>24</td>\n",
       "      <td>100</td>\n",
       "      <td>4.166667</td>\n",
       "      <td>1</td>\n",
       "      <td>0</td>\n",
       "      <td>0</td>\n",
       "      <td>0</td>\n",
       "      <td>[]</td>\n",
       "      <td>0</td>\n",
       "      <td>80</td>\n",
       "    </tr>\n",
       "    <tr>\n",
       "      <th>3919</th>\n",
       "      <td>earned her cpr &amp;amp; first aid certifications!</td>\n",
       "      <td>1</td>\n",
       "      <td>7</td>\n",
       "      <td>40</td>\n",
       "      <td>5.714286</td>\n",
       "      <td>1</td>\n",
       "      <td>0</td>\n",
       "      <td>0</td>\n",
       "      <td>1</td>\n",
       "      <td>[]</td>\n",
       "      <td>0</td>\n",
       "      <td>80</td>\n",
       "    </tr>\n",
       "    <tr>\n",
       "      <th>3945</th>\n",
       "      <td>@teciav &amp;quot;i look high, i look low, i look ...</td>\n",
       "      <td>1</td>\n",
       "      <td>23</td>\n",
       "      <td>106</td>\n",
       "      <td>4.608696</td>\n",
       "      <td>10</td>\n",
       "      <td>1</td>\n",
       "      <td>0</td>\n",
       "      <td>0</td>\n",
       "      <td>[]</td>\n",
       "      <td>0</td>\n",
       "      <td>80</td>\n",
       "    </tr>\n",
       "    <tr>\n",
       "      <th>3951</th>\n",
       "      <td>i am soo very parched. and hungry. oh and i'm ...</td>\n",
       "      <td>1</td>\n",
       "      <td>21</td>\n",
       "      <td>87</td>\n",
       "      <td>4.142857</td>\n",
       "      <td>7</td>\n",
       "      <td>0</td>\n",
       "      <td>2</td>\n",
       "      <td>1</td>\n",
       "      <td>[]</td>\n",
       "      <td>0</td>\n",
       "      <td>80</td>\n",
       "    </tr>\n",
       "    <tr>\n",
       "      <th>3986</th>\n",
       "      <td>@countroshculla yeah..needed to get up early.....</td>\n",
       "      <td>1</td>\n",
       "      <td>10</td>\n",
       "      <td>69</td>\n",
       "      <td>6.900000</td>\n",
       "      <td>4</td>\n",
       "      <td>1</td>\n",
       "      <td>0</td>\n",
       "      <td>0</td>\n",
       "      <td>[]</td>\n",
       "      <td>0</td>\n",
       "      <td>80</td>\n",
       "    </tr>\n",
       "  </tbody>\n",
       "</table>\n",
       "<p>381 rows × 12 columns</p>\n",
       "</div>"
      ],
      "text/plain": [
       "                                                 twitts  sentiment  \\\n",
       "4     @mandagoforth me bad! it is funny though. zach...          0   \n",
       "23    ut oh, i wonder if the ram on the desktop is s...          0   \n",
       "59    @paulmccourt dunno what sky you are looking at...          0   \n",
       "75    im back home in belfast  im realli tired thoug...          0   \n",
       "81    @lilmonkee987 i know what you mean... i feel s...          0   \n",
       "...                                                 ...        ...   \n",
       "3913  for the press so after she recovered she kille...          1   \n",
       "3919    earned her cpr &amp; first aid certifications!           1   \n",
       "3945  @teciav &quot;i look high, i look low, i look ...          1   \n",
       "3951  i am soo very parched. and hungry. oh and i'm ...          1   \n",
       "3986  @countroshculla yeah..needed to get up early.....          1   \n",
       "\n",
       "      word_counts  char_counts  Average_word_length  stop_words_len  \\\n",
       "4              26          116             4.461538              13   \n",
       "23             14           46             3.285714               7   \n",
       "59             15           80             5.333333               3   \n",
       "75             22           84             3.818182               9   \n",
       "81             11           48             4.363636               5   \n",
       "...           ...          ...                  ...             ...   \n",
       "3913           24          100             4.166667               1   \n",
       "3919            7           40             5.714286               1   \n",
       "3945           23          106             4.608696              10   \n",
       "3951           21           87             4.142857               7   \n",
       "3986           10           69             6.900000               4   \n",
       "\n",
       "      hashtags_count  numerics_count  upper_counts emails  email_count  \\\n",
       "4                  2               0             0     []            0   \n",
       "23                 0               0             2     []            0   \n",
       "59                 1               0             0     []            0   \n",
       "75                 0               0             1     []            0   \n",
       "81                 1               0             0     []            0   \n",
       "...              ...             ...           ...    ...          ...   \n",
       "3913               0               0             0     []            0   \n",
       "3919               0               0             1     []            0   \n",
       "3945               1               0             0     []            0   \n",
       "3951               0               2             1     []            0   \n",
       "3986               1               0             0     []            0   \n",
       "\n",
       "      url_flags  \n",
       "4            80  \n",
       "23           80  \n",
       "59           80  \n",
       "75           80  \n",
       "81           80  \n",
       "...         ...  \n",
       "3913         80  \n",
       "3919         80  \n",
       "3945         80  \n",
       "3951         80  \n",
       "3986         80  \n",
       "\n",
       "[381 rows x 12 columns]"
      ]
     },
     "execution_count": 92,
     "metadata": {},
     "output_type": "execute_result"
    }
   ],
   "source": [
    "df[df['twitts'].str.contains('rt')]"
   ]
  },
  {
   "cell_type": "code",
   "execution_count": 93,
   "id": "84811ae4",
   "metadata": {},
   "outputs": [],
   "source": [
    "x = '   RT  @username: hello hi'"
   ]
  },
  {
   "cell_type": "code",
   "execution_count": 94,
   "id": "51ba8ba0",
   "metadata": {},
   "outputs": [
    {
     "data": {
      "text/plain": [
       "'   RT  @username: hello hi'"
      ]
     },
     "execution_count": 94,
     "metadata": {},
     "output_type": "execute_result"
    }
   ],
   "source": [
    "re.sub(r'\\brt\\b','',x)"
   ]
  },
  {
   "cell_type": "code",
   "execution_count": 95,
   "id": "57a5a1da",
   "metadata": {},
   "outputs": [
    {
     "data": {
      "text/plain": [
       "'RT  @username: hello hi'"
      ]
     },
     "execution_count": 95,
     "metadata": {},
     "output_type": "execute_result"
    }
   ],
   "source": [
    "re.sub(r'\\brt\\b',\"\",x).strip()"
   ]
  },
  {
   "cell_type": "code",
   "execution_count": 96,
   "id": "826ba27d",
   "metadata": {},
   "outputs": [],
   "source": [
    "df['twitts'] = df['twitts'].apply(lambda x: re.sub(r'\\brt\\b','',x).strip())"
   ]
  },
  {
   "cell_type": "code",
   "execution_count": 97,
   "id": "4a987a91",
   "metadata": {},
   "outputs": [
    {
     "data": {
      "text/html": [
       "<div>\n",
       "<style scoped>\n",
       "    .dataframe tbody tr th:only-of-type {\n",
       "        vertical-align: middle;\n",
       "    }\n",
       "\n",
       "    .dataframe tbody tr th {\n",
       "        vertical-align: top;\n",
       "    }\n",
       "\n",
       "    .dataframe thead th {\n",
       "        text-align: right;\n",
       "    }\n",
       "</style>\n",
       "<table border=\"1\" class=\"dataframe\">\n",
       "  <thead>\n",
       "    <tr style=\"text-align: right;\">\n",
       "      <th></th>\n",
       "      <th>twitts</th>\n",
       "      <th>sentiment</th>\n",
       "      <th>word_counts</th>\n",
       "      <th>char_counts</th>\n",
       "      <th>Average_word_length</th>\n",
       "      <th>stop_words_len</th>\n",
       "      <th>hashtags_count</th>\n",
       "      <th>numerics_count</th>\n",
       "      <th>upper_counts</th>\n",
       "      <th>emails</th>\n",
       "      <th>email_count</th>\n",
       "      <th>url_flags</th>\n",
       "    </tr>\n",
       "  </thead>\n",
       "  <tbody>\n",
       "    <tr>\n",
       "      <th>3261</th>\n",
       "      <td>@sazmows started the new job yet? hope it rock...</td>\n",
       "      <td>1</td>\n",
       "      <td>19</td>\n",
       "      <td>99</td>\n",
       "      <td>5.210526</td>\n",
       "      <td>6</td>\n",
       "      <td>1</td>\n",
       "      <td>0</td>\n",
       "      <td>0</td>\n",
       "      <td>[]</td>\n",
       "      <td>0</td>\n",
       "      <td>80</td>\n",
       "    </tr>\n",
       "    <tr>\n",
       "      <th>1885</th>\n",
       "      <td>sun burnt! ouch!</td>\n",
       "      <td>0</td>\n",
       "      <td>3</td>\n",
       "      <td>14</td>\n",
       "      <td>4.666667</td>\n",
       "      <td>0</td>\n",
       "      <td>0</td>\n",
       "      <td>0</td>\n",
       "      <td>0</td>\n",
       "      <td>[]</td>\n",
       "      <td>0</td>\n",
       "      <td>80</td>\n",
       "    </tr>\n",
       "  </tbody>\n",
       "</table>\n",
       "</div>"
      ],
      "text/plain": [
       "                                                 twitts  sentiment  \\\n",
       "3261  @sazmows started the new job yet? hope it rock...          1   \n",
       "1885                                   sun burnt! ouch!          0   \n",
       "\n",
       "      word_counts  char_counts  Average_word_length  stop_words_len  \\\n",
       "3261           19           99             5.210526               6   \n",
       "1885            3           14             4.666667               0   \n",
       "\n",
       "      hashtags_count  numerics_count  upper_counts emails  email_count  \\\n",
       "3261               1               0             0     []            0   \n",
       "1885               0               0             0     []            0   \n",
       "\n",
       "      url_flags  \n",
       "3261         80  \n",
       "1885         80  "
      ]
     },
     "execution_count": 97,
     "metadata": {},
     "output_type": "execute_result"
    }
   ],
   "source": [
    "df.sample(2)"
   ]
  },
  {
   "cell_type": "markdown",
   "id": "ab763502",
   "metadata": {},
   "source": [
    "# Remove Special Chars and Punctuations"
   ]
  },
  {
   "cell_type": "code",
   "execution_count": 98,
   "id": "14926c68",
   "metadata": {},
   "outputs": [
    {
     "data": {
      "text/html": [
       "<div>\n",
       "<style scoped>\n",
       "    .dataframe tbody tr th:only-of-type {\n",
       "        vertical-align: middle;\n",
       "    }\n",
       "\n",
       "    .dataframe tbody tr th {\n",
       "        vertical-align: top;\n",
       "    }\n",
       "\n",
       "    .dataframe thead th {\n",
       "        text-align: right;\n",
       "    }\n",
       "</style>\n",
       "<table border=\"1\" class=\"dataframe\">\n",
       "  <thead>\n",
       "    <tr style=\"text-align: right;\">\n",
       "      <th></th>\n",
       "      <th>twitts</th>\n",
       "      <th>sentiment</th>\n",
       "      <th>word_counts</th>\n",
       "      <th>char_counts</th>\n",
       "      <th>Average_word_length</th>\n",
       "      <th>stop_words_len</th>\n",
       "      <th>hashtags_count</th>\n",
       "      <th>numerics_count</th>\n",
       "      <th>upper_counts</th>\n",
       "      <th>emails</th>\n",
       "      <th>email_count</th>\n",
       "      <th>url_flags</th>\n",
       "    </tr>\n",
       "  </thead>\n",
       "  <tbody>\n",
       "    <tr>\n",
       "      <th>2915</th>\n",
       "      <td>spending the day at the pool</td>\n",
       "      <td>1</td>\n",
       "      <td>6</td>\n",
       "      <td>23</td>\n",
       "      <td>3.833333</td>\n",
       "      <td>3</td>\n",
       "      <td>0</td>\n",
       "      <td>0</td>\n",
       "      <td>0</td>\n",
       "      <td>[]</td>\n",
       "      <td>0</td>\n",
       "      <td>80</td>\n",
       "    </tr>\n",
       "    <tr>\n",
       "      <th>1673</th>\n",
       "      <td>just got out the gmat. d@mn!!!!!</td>\n",
       "      <td>0</td>\n",
       "      <td>6</td>\n",
       "      <td>27</td>\n",
       "      <td>4.500000</td>\n",
       "      <td>2</td>\n",
       "      <td>0</td>\n",
       "      <td>0</td>\n",
       "      <td>2</td>\n",
       "      <td>[]</td>\n",
       "      <td>0</td>\n",
       "      <td>80</td>\n",
       "    </tr>\n",
       "  </tbody>\n",
       "</table>\n",
       "</div>"
      ],
      "text/plain": [
       "                                twitts  sentiment  word_counts  char_counts  \\\n",
       "2915      spending the day at the pool          1            6           23   \n",
       "1673  just got out the gmat. d@mn!!!!!          0            6           27   \n",
       "\n",
       "      Average_word_length  stop_words_len  hashtags_count  numerics_count  \\\n",
       "2915             3.833333               3               0               0   \n",
       "1673             4.500000               2               0               0   \n",
       "\n",
       "      upper_counts emails  email_count  url_flags  \n",
       "2915             0     []            0         80  \n",
       "1673             2     []            0         80  "
      ]
     },
     "execution_count": 98,
     "metadata": {},
     "output_type": "execute_result"
    }
   ],
   "source": [
    "df.sample(2)"
   ]
  },
  {
   "cell_type": "code",
   "execution_count": 99,
   "id": "5266994a",
   "metadata": {},
   "outputs": [],
   "source": [
    "x = \"did not sleep well...not up to par....so i do ...@graceywoohoo ohhh, haha. i just like do not k...\""
   ]
  },
  {
   "cell_type": "code",
   "execution_count": 100,
   "id": "b4f6f3b4",
   "metadata": {},
   "outputs": [
    {
     "data": {
      "text/plain": [
       "'   ...   ....   ...@ , .      ...'"
      ]
     },
     "execution_count": 100,
     "metadata": {},
     "output_type": "execute_result"
    }
   ],
   "source": [
    "re.sub(r'[\\w]+','',x)"
   ]
  },
  {
   "cell_type": "code",
   "execution_count": 101,
   "id": "0f476538",
   "metadata": {},
   "outputs": [
    {
     "data": {
      "text/plain": [
       "'didnotsleepwellnotuptoparsoidograceywoohooohhhhahaijustlikedonotk'"
      ]
     },
     "execution_count": 101,
     "metadata": {},
     "output_type": "execute_result"
    }
   ],
   "source": [
    "re.sub(r'[^\\w]+','',x)"
   ]
  },
  {
   "cell_type": "code",
   "execution_count": 102,
   "id": "3c4563a0",
   "metadata": {},
   "outputs": [],
   "source": [
    "df['chars'] = df['twitts'].apply(lambda x:re.sub(r'[\\w]+','',x))"
   ]
  },
  {
   "cell_type": "code",
   "execution_count": 103,
   "id": "39f31236",
   "metadata": {},
   "outputs": [
    {
     "data": {
      "text/html": [
       "<div>\n",
       "<style scoped>\n",
       "    .dataframe tbody tr th:only-of-type {\n",
       "        vertical-align: middle;\n",
       "    }\n",
       "\n",
       "    .dataframe tbody tr th {\n",
       "        vertical-align: top;\n",
       "    }\n",
       "\n",
       "    .dataframe thead th {\n",
       "        text-align: right;\n",
       "    }\n",
       "</style>\n",
       "<table border=\"1\" class=\"dataframe\">\n",
       "  <thead>\n",
       "    <tr style=\"text-align: right;\">\n",
       "      <th></th>\n",
       "      <th>twitts</th>\n",
       "      <th>sentiment</th>\n",
       "      <th>word_counts</th>\n",
       "      <th>char_counts</th>\n",
       "      <th>Average_word_length</th>\n",
       "      <th>stop_words_len</th>\n",
       "      <th>hashtags_count</th>\n",
       "      <th>numerics_count</th>\n",
       "      <th>upper_counts</th>\n",
       "      <th>emails</th>\n",
       "      <th>email_count</th>\n",
       "      <th>url_flags</th>\n",
       "      <th>chars</th>\n",
       "    </tr>\n",
       "  </thead>\n",
       "  <tbody>\n",
       "    <tr>\n",
       "      <th>3228</th>\n",
       "      <td>@carole29 will tell you later, for now im goin...</td>\n",
       "      <td>1</td>\n",
       "      <td>15</td>\n",
       "      <td>65</td>\n",
       "      <td>4.333333</td>\n",
       "      <td>7</td>\n",
       "      <td>1</td>\n",
       "      <td>0</td>\n",
       "      <td>0</td>\n",
       "      <td>[]</td>\n",
       "      <td>0</td>\n",
       "      <td>80</td>\n",
       "      <td>@    ,         ,</td>\n",
       "    </tr>\n",
       "    <tr>\n",
       "      <th>2314</th>\n",
       "      <td>@stillsoul hmmm, i do not think so ..lemme see...</td>\n",
       "      <td>1</td>\n",
       "      <td>13</td>\n",
       "      <td>50</td>\n",
       "      <td>3.846154</td>\n",
       "      <td>5</td>\n",
       "      <td>1</td>\n",
       "      <td>0</td>\n",
       "      <td>2</td>\n",
       "      <td>[]</td>\n",
       "      <td>0</td>\n",
       "      <td>80</td>\n",
       "      <td>@ ,      ..</td>\n",
       "    </tr>\n",
       "  </tbody>\n",
       "</table>\n",
       "</div>"
      ],
      "text/plain": [
       "                                                 twitts  sentiment  \\\n",
       "3228  @carole29 will tell you later, for now im goin...          1   \n",
       "2314  @stillsoul hmmm, i do not think so ..lemme see...          1   \n",
       "\n",
       "      word_counts  char_counts  Average_word_length  stop_words_len  \\\n",
       "3228           15           65             4.333333               7   \n",
       "2314           13           50             3.846154               5   \n",
       "\n",
       "      hashtags_count  numerics_count  upper_counts emails  email_count  \\\n",
       "3228               1               0             0     []            0   \n",
       "2314               1               0             2     []            0   \n",
       "\n",
       "      url_flags              chars  \n",
       "3228         80  @    ,         ,   \n",
       "2314         80  @ ,      ..        "
      ]
     },
     "execution_count": 103,
     "metadata": {},
     "output_type": "execute_result"
    }
   ],
   "source": [
    "df.sample(2)"
   ]
  },
  {
   "cell_type": "markdown",
   "id": "f7272369",
   "metadata": {},
   "source": [
    "# Remove multiple spaces \"hi         hello   \""
   ]
  },
  {
   "cell_type": "code",
   "execution_count": 104,
   "id": "b8b43619",
   "metadata": {},
   "outputs": [],
   "source": [
    "x = 'hi     hello     how are  you     buddy...'"
   ]
  },
  {
   "cell_type": "code",
   "execution_count": 105,
   "id": "37f85ac0",
   "metadata": {},
   "outputs": [
    {
     "data": {
      "text/plain": [
       "'hi hello how are you buddy...'"
      ]
     },
     "execution_count": 105,
     "metadata": {},
     "output_type": "execute_result"
    }
   ],
   "source": [
    "' '.join(x.split())"
   ]
  },
  {
   "cell_type": "code",
   "execution_count": 106,
   "id": "9f8980bb",
   "metadata": {},
   "outputs": [],
   "source": [
    "df['twitts']= df['twitts'].apply(lambda x: \" \".join(x.split()))"
   ]
  },
  {
   "cell_type": "code",
   "execution_count": 107,
   "id": "2a8a52bf",
   "metadata": {},
   "outputs": [
    {
     "data": {
      "text/html": [
       "<div>\n",
       "<style scoped>\n",
       "    .dataframe tbody tr th:only-of-type {\n",
       "        vertical-align: middle;\n",
       "    }\n",
       "\n",
       "    .dataframe tbody tr th {\n",
       "        vertical-align: top;\n",
       "    }\n",
       "\n",
       "    .dataframe thead th {\n",
       "        text-align: right;\n",
       "    }\n",
       "</style>\n",
       "<table border=\"1\" class=\"dataframe\">\n",
       "  <thead>\n",
       "    <tr style=\"text-align: right;\">\n",
       "      <th></th>\n",
       "      <th>twitts</th>\n",
       "      <th>sentiment</th>\n",
       "      <th>word_counts</th>\n",
       "      <th>char_counts</th>\n",
       "      <th>Average_word_length</th>\n",
       "      <th>stop_words_len</th>\n",
       "      <th>hashtags_count</th>\n",
       "      <th>numerics_count</th>\n",
       "      <th>upper_counts</th>\n",
       "      <th>emails</th>\n",
       "      <th>email_count</th>\n",
       "      <th>url_flags</th>\n",
       "      <th>chars</th>\n",
       "    </tr>\n",
       "  </thead>\n",
       "  <tbody>\n",
       "    <tr>\n",
       "      <th>1626</th>\n",
       "      <td>overall some excellent results yesterday..but ...</td>\n",
       "      <td>0</td>\n",
       "      <td>9</td>\n",
       "      <td>55</td>\n",
       "      <td>6.111111</td>\n",
       "      <td>3</td>\n",
       "      <td>0</td>\n",
       "      <td>0</td>\n",
       "      <td>0</td>\n",
       "      <td>[]</td>\n",
       "      <td>0</td>\n",
       "      <td>80</td>\n",
       "      <td>..</td>\n",
       "    </tr>\n",
       "    <tr>\n",
       "      <th>2549</th>\n",
       "      <td>@powerwomenmag glad you found someone who coul...</td>\n",
       "      <td>1</td>\n",
       "      <td>8</td>\n",
       "      <td>46</td>\n",
       "      <td>5.750000</td>\n",
       "      <td>4</td>\n",
       "      <td>1</td>\n",
       "      <td>0</td>\n",
       "      <td>0</td>\n",
       "      <td>[]</td>\n",
       "      <td>0</td>\n",
       "      <td>80</td>\n",
       "      <td>@       .</td>\n",
       "    </tr>\n",
       "  </tbody>\n",
       "</table>\n",
       "</div>"
      ],
      "text/plain": [
       "                                                 twitts  sentiment  \\\n",
       "1626  overall some excellent results yesterday..but ...          0   \n",
       "2549  @powerwomenmag glad you found someone who coul...          1   \n",
       "\n",
       "      word_counts  char_counts  Average_word_length  stop_words_len  \\\n",
       "1626            9           55             6.111111               3   \n",
       "2549            8           46             5.750000               4   \n",
       "\n",
       "      hashtags_count  numerics_count  upper_counts emails  email_count  \\\n",
       "1626               0               0             0     []            0   \n",
       "2549               1               0             0     []            0   \n",
       "\n",
       "      url_flags       chars  \n",
       "1626         80      ..      \n",
       "2549         80   @       .  "
      ]
     },
     "execution_count": 107,
     "metadata": {},
     "output_type": "execute_result"
    }
   ],
   "source": [
    "df.sample(2)"
   ]
  },
  {
   "cell_type": "markdown",
   "id": "b79b1be1",
   "metadata": {},
   "source": [
    "# Removing HTML tags"
   ]
  },
  {
   "cell_type": "code",
   "execution_count": 108,
   "id": "e89a6536",
   "metadata": {},
   "outputs": [
    {
     "name": "stdout",
     "output_type": "stream",
     "text": [
      "Requirement already satisfied: beautifulsoup4 in c:\\users\\santh\\virtualbox vms\\linux\\snapshots\\lib\\site-packages (4.12.2)\n",
      "Requirement already satisfied: soupsieve>1.2 in c:\\users\\santh\\virtualbox vms\\linux\\snapshots\\lib\\site-packages (from beautifulsoup4) (2.4)\n",
      "Note: you may need to restart the kernel to use updated packages.\n"
     ]
    }
   ],
   "source": [
    "pip install beautifulsoup4"
   ]
  },
  {
   "cell_type": "code",
   "execution_count": 109,
   "id": "1e7c15f0",
   "metadata": {},
   "outputs": [],
   "source": [
    "from bs4 import BeautifulSoup"
   ]
  },
  {
   "cell_type": "code",
   "execution_count": 110,
   "id": "3d2a9b6c",
   "metadata": {},
   "outputs": [],
   "source": [
    "x = '<html><h1> wellcomebuddy </h1></html>'"
   ]
  },
  {
   "cell_type": "code",
   "execution_count": 111,
   "id": "2a4d9b96",
   "metadata": {},
   "outputs": [
    {
     "data": {
      "text/plain": [
       "' wellcomebuddy '"
      ]
     },
     "execution_count": 111,
     "metadata": {},
     "output_type": "execute_result"
    }
   ],
   "source": [
    "x.replace('<html><h1>','').replace('</h1></html>','')"
   ]
  },
  {
   "cell_type": "code",
   "execution_count": 112,
   "id": "3853f484",
   "metadata": {},
   "outputs": [
    {
     "data": {
      "text/plain": [
       "'wellcomebuddy'"
      ]
     },
     "execution_count": 112,
     "metadata": {},
     "output_type": "execute_result"
    }
   ],
   "source": [
    "BeautifulSoup(x,'lxml').get_text().strip()"
   ]
  },
  {
   "cell_type": "code",
   "execution_count": 113,
   "id": "4dffb2fd",
   "metadata": {},
   "outputs": [
    {
     "name": "stderr",
     "output_type": "stream",
     "text": [
      "<timed exec>:1: MarkupResemblesLocatorWarning: The input looks more like a filename than markup. You may want to open this file and pass the filehandle into Beautiful Soup.\n"
     ]
    },
    {
     "name": "stdout",
     "output_type": "stream",
     "text": [
      "CPU times: total: 625 ms\n",
      "Wall time: 664 ms\n"
     ]
    }
   ],
   "source": [
    "%%time\n",
    "df['twitts'] = df['twitts'].apply(lambda x: BeautifulSoup(x,'lxml').get_text().strip())"
   ]
  },
  {
   "cell_type": "code",
   "execution_count": 114,
   "id": "07392b7c",
   "metadata": {},
   "outputs": [
    {
     "data": {
      "text/html": [
       "<div>\n",
       "<style scoped>\n",
       "    .dataframe tbody tr th:only-of-type {\n",
       "        vertical-align: middle;\n",
       "    }\n",
       "\n",
       "    .dataframe tbody tr th {\n",
       "        vertical-align: top;\n",
       "    }\n",
       "\n",
       "    .dataframe thead th {\n",
       "        text-align: right;\n",
       "    }\n",
       "</style>\n",
       "<table border=\"1\" class=\"dataframe\">\n",
       "  <thead>\n",
       "    <tr style=\"text-align: right;\">\n",
       "      <th></th>\n",
       "      <th>twitts</th>\n",
       "      <th>sentiment</th>\n",
       "      <th>word_counts</th>\n",
       "      <th>char_counts</th>\n",
       "      <th>Average_word_length</th>\n",
       "      <th>stop_words_len</th>\n",
       "      <th>hashtags_count</th>\n",
       "      <th>numerics_count</th>\n",
       "      <th>upper_counts</th>\n",
       "      <th>emails</th>\n",
       "      <th>email_count</th>\n",
       "      <th>url_flags</th>\n",
       "      <th>chars</th>\n",
       "    </tr>\n",
       "  </thead>\n",
       "  <tbody>\n",
       "    <tr>\n",
       "      <th>117</th>\n",
       "      <td>thats it, i am going to take a break. i got ov...</td>\n",
       "      <td>0</td>\n",
       "      <td>14</td>\n",
       "      <td>46</td>\n",
       "      <td>3.285714</td>\n",
       "      <td>5</td>\n",
       "      <td>0</td>\n",
       "      <td>1</td>\n",
       "      <td>2</td>\n",
       "      <td>[]</td>\n",
       "      <td>0</td>\n",
       "      <td>80</td>\n",
       "      <td>,       .</td>\n",
       "    </tr>\n",
       "    <tr>\n",
       "      <th>1345</th>\n",
       "      <td>this java assignment has really got me down. h...</td>\n",
       "      <td>0</td>\n",
       "      <td>24</td>\n",
       "      <td>99</td>\n",
       "      <td>4.125000</td>\n",
       "      <td>10</td>\n",
       "      <td>0</td>\n",
       "      <td>0</td>\n",
       "      <td>2</td>\n",
       "      <td>[]</td>\n",
       "      <td>0</td>\n",
       "      <td>80</td>\n",
       "      <td>.       .      .  .   .</td>\n",
       "    </tr>\n",
       "  </tbody>\n",
       "</table>\n",
       "</div>"
      ],
      "text/plain": [
       "                                                 twitts  sentiment  \\\n",
       "117   thats it, i am going to take a break. i got ov...          0   \n",
       "1345  this java assignment has really got me down. h...          0   \n",
       "\n",
       "      word_counts  char_counts  Average_word_length  stop_words_len  \\\n",
       "117            14           46             3.285714               5   \n",
       "1345           24           99             4.125000              10   \n",
       "\n",
       "      hashtags_count  numerics_count  upper_counts emails  email_count  \\\n",
       "117                0               1             2     []            0   \n",
       "1345               0               0             2     []            0   \n",
       "\n",
       "      url_flags                           chars  \n",
       "117          80                  ,       .       \n",
       "1345         80         .       .      .  .   .  "
      ]
     },
     "execution_count": 114,
     "metadata": {},
     "output_type": "execute_result"
    }
   ],
   "source": [
    "df.sample(2)"
   ]
  },
  {
   "cell_type": "markdown",
   "id": "431239b4",
   "metadata": {},
   "source": [
    "# Remove Accented Chars"
   ]
  },
  {
   "cell_type": "code",
   "execution_count": 115,
   "id": "1d544dca",
   "metadata": {},
   "outputs": [],
   "source": [
    "x = 'àèìòùÀÌ Ù'"
   ]
  },
  {
   "cell_type": "code",
   "execution_count": 116,
   "id": "359289ad",
   "metadata": {},
   "outputs": [],
   "source": [
    "import unicodedata"
   ]
  },
  {
   "cell_type": "code",
   "execution_count": 117,
   "id": "13145dc5",
   "metadata": {},
   "outputs": [],
   "source": [
    "def remove_accented_chars(x):\n",
    "    \n",
    "    x = unicodedata.normalize('NFKD',x).encode('ascii','ignore').decode('utf-8','ignore')\n",
    "    return x"
   ]
  },
  {
   "cell_type": "code",
   "execution_count": 118,
   "id": "d96631f7",
   "metadata": {},
   "outputs": [
    {
     "data": {
      "text/plain": [
       "'aeiouAI U'"
      ]
     },
     "execution_count": 118,
     "metadata": {},
     "output_type": "execute_result"
    }
   ],
   "source": [
    "remove_accented_chars(x)"
   ]
  },
  {
   "cell_type": "code",
   "execution_count": 119,
   "id": "bfbd4930",
   "metadata": {},
   "outputs": [],
   "source": [
    "df['accented'] = df['twitts'].apply(lambda x: remove_accented_chars(x))"
   ]
  },
  {
   "cell_type": "code",
   "execution_count": 120,
   "id": "5ae0d8aa",
   "metadata": {},
   "outputs": [
    {
     "data": {
      "text/html": [
       "<div>\n",
       "<style scoped>\n",
       "    .dataframe tbody tr th:only-of-type {\n",
       "        vertical-align: middle;\n",
       "    }\n",
       "\n",
       "    .dataframe tbody tr th {\n",
       "        vertical-align: top;\n",
       "    }\n",
       "\n",
       "    .dataframe thead th {\n",
       "        text-align: right;\n",
       "    }\n",
       "</style>\n",
       "<table border=\"1\" class=\"dataframe\">\n",
       "  <thead>\n",
       "    <tr style=\"text-align: right;\">\n",
       "      <th></th>\n",
       "      <th>twitts</th>\n",
       "      <th>sentiment</th>\n",
       "      <th>word_counts</th>\n",
       "      <th>char_counts</th>\n",
       "      <th>Average_word_length</th>\n",
       "      <th>stop_words_len</th>\n",
       "      <th>hashtags_count</th>\n",
       "      <th>numerics_count</th>\n",
       "      <th>upper_counts</th>\n",
       "      <th>emails</th>\n",
       "      <th>email_count</th>\n",
       "      <th>url_flags</th>\n",
       "      <th>chars</th>\n",
       "      <th>accented</th>\n",
       "    </tr>\n",
       "  </thead>\n",
       "  <tbody>\n",
       "    <tr>\n",
       "      <th>314</th>\n",
       "      <td>i bet you susan boyle is gonna win...</td>\n",
       "      <td>0</td>\n",
       "      <td>8</td>\n",
       "      <td>30</td>\n",
       "      <td>3.750000</td>\n",
       "      <td>3</td>\n",
       "      <td>0</td>\n",
       "      <td>0</td>\n",
       "      <td>0</td>\n",
       "      <td>[]</td>\n",
       "      <td>0</td>\n",
       "      <td>80</td>\n",
       "      <td>...</td>\n",
       "      <td>i bet you susan boyle is gonna win...</td>\n",
       "    </tr>\n",
       "    <tr>\n",
       "      <th>2395</th>\n",
       "      <td>@aplusk where did you get that? it sounds good</td>\n",
       "      <td>1</td>\n",
       "      <td>9</td>\n",
       "      <td>38</td>\n",
       "      <td>4.222222</td>\n",
       "      <td>5</td>\n",
       "      <td>1</td>\n",
       "      <td>0</td>\n",
       "      <td>0</td>\n",
       "      <td>[]</td>\n",
       "      <td>0</td>\n",
       "      <td>80</td>\n",
       "      <td>@     ?</td>\n",
       "      <td>@aplusk where did you get that? it sounds good</td>\n",
       "    </tr>\n",
       "  </tbody>\n",
       "</table>\n",
       "</div>"
      ],
      "text/plain": [
       "                                              twitts  sentiment  word_counts  \\\n",
       "314            i bet you susan boyle is gonna win...          0            8   \n",
       "2395  @aplusk where did you get that? it sounds good          1            9   \n",
       "\n",
       "      char_counts  Average_word_length  stop_words_len  hashtags_count  \\\n",
       "314            30             3.750000               3               0   \n",
       "2395           38             4.222222               5               1   \n",
       "\n",
       "      numerics_count  upper_counts emails  email_count  url_flags       chars  \\\n",
       "314                0             0     []            0         80         ...   \n",
       "2395               0             0     []            0         80  @     ?      \n",
       "\n",
       "                                            accented  \n",
       "314            i bet you susan boyle is gonna win...  \n",
       "2395  @aplusk where did you get that? it sounds good  "
      ]
     },
     "execution_count": 120,
     "metadata": {},
     "output_type": "execute_result"
    }
   ],
   "source": [
    "df.sample(2)"
   ]
  },
  {
   "cell_type": "markdown",
   "id": "73a59e0d",
   "metadata": {},
   "source": [
    "# Remove Stopwords"
   ]
  },
  {
   "cell_type": "code",
   "execution_count": 121,
   "id": "dc187c56",
   "metadata": {},
   "outputs": [],
   "source": [
    "x = 'this is a stop words'"
   ]
  },
  {
   "cell_type": "code",
   "execution_count": 122,
   "id": "f03a1fc6",
   "metadata": {},
   "outputs": [
    {
     "data": {
      "text/plain": [
       "'stop words'"
      ]
     },
     "execution_count": 122,
     "metadata": {},
     "output_type": "execute_result"
    }
   ],
   "source": [
    "' '.join([t for t in x.split() if t not in stopwords])"
   ]
  },
  {
   "cell_type": "code",
   "execution_count": 123,
   "id": "746f9716",
   "metadata": {},
   "outputs": [],
   "source": [
    "df['twitts_no_stop'] = df['twitts'].apply(lambda x:\" \".join([t for t in x.split() if t not in stopwords]))"
   ]
  },
  {
   "cell_type": "code",
   "execution_count": 124,
   "id": "1c50e844",
   "metadata": {},
   "outputs": [
    {
     "data": {
      "text/html": [
       "<div>\n",
       "<style scoped>\n",
       "    .dataframe tbody tr th:only-of-type {\n",
       "        vertical-align: middle;\n",
       "    }\n",
       "\n",
       "    .dataframe tbody tr th {\n",
       "        vertical-align: top;\n",
       "    }\n",
       "\n",
       "    .dataframe thead th {\n",
       "        text-align: right;\n",
       "    }\n",
       "</style>\n",
       "<table border=\"1\" class=\"dataframe\">\n",
       "  <thead>\n",
       "    <tr style=\"text-align: right;\">\n",
       "      <th></th>\n",
       "      <th>twitts</th>\n",
       "      <th>sentiment</th>\n",
       "      <th>word_counts</th>\n",
       "      <th>char_counts</th>\n",
       "      <th>Average_word_length</th>\n",
       "      <th>stop_words_len</th>\n",
       "      <th>hashtags_count</th>\n",
       "      <th>numerics_count</th>\n",
       "      <th>upper_counts</th>\n",
       "      <th>emails</th>\n",
       "      <th>email_count</th>\n",
       "      <th>url_flags</th>\n",
       "      <th>chars</th>\n",
       "      <th>accented</th>\n",
       "      <th>twitts_no_stop</th>\n",
       "    </tr>\n",
       "  </thead>\n",
       "  <tbody>\n",
       "    <tr>\n",
       "      <th>3435</th>\n",
       "      <td>@fabbib: i'm looking forward to the birthday s...</td>\n",
       "      <td>1</td>\n",
       "      <td>20</td>\n",
       "      <td>89</td>\n",
       "      <td>4.450000</td>\n",
       "      <td>6</td>\n",
       "      <td>1</td>\n",
       "      <td>0</td>\n",
       "      <td>0</td>\n",
       "      <td>[]</td>\n",
       "      <td>0</td>\n",
       "      <td>80</td>\n",
       "      <td>@: '                   ^^</td>\n",
       "      <td>@fabbib: i'm looking forward to the birthday s...</td>\n",
       "      <td>@fabbib: i'm looking forward birthday scene cl...</td>\n",
       "    </tr>\n",
       "    <tr>\n",
       "      <th>928</th>\n",
       "      <td>i miss lia</td>\n",
       "      <td>0</td>\n",
       "      <td>3</td>\n",
       "      <td>8</td>\n",
       "      <td>2.666667</td>\n",
       "      <td>1</td>\n",
       "      <td>0</td>\n",
       "      <td>0</td>\n",
       "      <td>0</td>\n",
       "      <td>[]</td>\n",
       "      <td>0</td>\n",
       "      <td>80</td>\n",
       "      <td></td>\n",
       "      <td>i miss lia</td>\n",
       "      <td>miss lia</td>\n",
       "    </tr>\n",
       "  </tbody>\n",
       "</table>\n",
       "</div>"
      ],
      "text/plain": [
       "                                                 twitts  sentiment  \\\n",
       "3435  @fabbib: i'm looking forward to the birthday s...          1   \n",
       "928                                          i miss lia          0   \n",
       "\n",
       "      word_counts  char_counts  Average_word_length  stop_words_len  \\\n",
       "3435           20           89             4.450000               6   \n",
       "928             3            8             2.666667               1   \n",
       "\n",
       "      hashtags_count  numerics_count  upper_counts emails  email_count  \\\n",
       "3435               1               0             0     []            0   \n",
       "928                0               0             0     []            0   \n",
       "\n",
       "      url_flags                      chars  \\\n",
       "3435         80  @: '                   ^^   \n",
       "928          80                              \n",
       "\n",
       "                                               accented  \\\n",
       "3435  @fabbib: i'm looking forward to the birthday s...   \n",
       "928                                          i miss lia   \n",
       "\n",
       "                                         twitts_no_stop  \n",
       "3435  @fabbib: i'm looking forward birthday scene cl...  \n",
       "928                                            miss lia  "
      ]
     },
     "execution_count": 124,
     "metadata": {},
     "output_type": "execute_result"
    }
   ],
   "source": [
    "df.sample(2)"
   ]
  },
  {
   "cell_type": "markdown",
   "id": "c79054d6",
   "metadata": {},
   "source": [
    "# Convert into base or root form of word"
   ]
  },
  {
   "cell_type": "code",
   "execution_count": 125,
   "id": "861e0823",
   "metadata": {},
   "outputs": [
    {
     "name": "stdout",
     "output_type": "stream",
     "text": [
      "Requirement already satisfied: en_core_web_sm in c:\\users\\santh\\virtualbox vms\\linux\\snapshots\\lib\\site-packages (3.6.0)Note: you may need to restart the kernel to use updated packages.\n",
      "\n",
      "Requirement already satisfied: spacy<3.7.0,>=3.6.0 in c:\\users\\santh\\virtualbox vms\\linux\\snapshots\\lib\\site-packages (from en_core_web_sm) (3.6.1)\n",
      "Requirement already satisfied: spacy-legacy<3.1.0,>=3.0.11 in c:\\users\\santh\\virtualbox vms\\linux\\snapshots\\lib\\site-packages (from spacy<3.7.0,>=3.6.0->en_core_web_sm) (3.0.12)\n",
      "Requirement already satisfied: spacy-loggers<2.0.0,>=1.0.0 in c:\\users\\santh\\virtualbox vms\\linux\\snapshots\\lib\\site-packages (from spacy<3.7.0,>=3.6.0->en_core_web_sm) (1.0.5)\n",
      "Requirement already satisfied: murmurhash<1.1.0,>=0.28.0 in c:\\users\\santh\\virtualbox vms\\linux\\snapshots\\lib\\site-packages (from spacy<3.7.0,>=3.6.0->en_core_web_sm) (1.0.10)\n",
      "Requirement already satisfied: cymem<2.1.0,>=2.0.2 in c:\\users\\santh\\virtualbox vms\\linux\\snapshots\\lib\\site-packages (from spacy<3.7.0,>=3.6.0->en_core_web_sm) (2.0.8)\n",
      "Requirement already satisfied: preshed<3.1.0,>=3.0.2 in c:\\users\\santh\\virtualbox vms\\linux\\snapshots\\lib\\site-packages (from spacy<3.7.0,>=3.6.0->en_core_web_sm) (3.0.9)\n",
      "Requirement already satisfied: thinc<8.2.0,>=8.1.8 in c:\\users\\santh\\virtualbox vms\\linux\\snapshots\\lib\\site-packages (from spacy<3.7.0,>=3.6.0->en_core_web_sm) (8.1.12)\n",
      "Requirement already satisfied: wasabi<1.2.0,>=0.9.1 in c:\\users\\santh\\virtualbox vms\\linux\\snapshots\\lib\\site-packages (from spacy<3.7.0,>=3.6.0->en_core_web_sm) (1.1.2)\n",
      "Requirement already satisfied: srsly<3.0.0,>=2.4.3 in c:\\users\\santh\\virtualbox vms\\linux\\snapshots\\lib\\site-packages (from spacy<3.7.0,>=3.6.0->en_core_web_sm) (2.4.7)\n",
      "Requirement already satisfied: catalogue<2.1.0,>=2.0.6 in c:\\users\\santh\\virtualbox vms\\linux\\snapshots\\lib\\site-packages (from spacy<3.7.0,>=3.6.0->en_core_web_sm) (2.0.9)\n",
      "Requirement already satisfied: typer<0.10.0,>=0.3.0 in c:\\users\\santh\\virtualbox vms\\linux\\snapshots\\lib\\site-packages (from spacy<3.7.0,>=3.6.0->en_core_web_sm) (0.9.0)\n",
      "Requirement already satisfied: pathy>=0.10.0 in c:\\users\\santh\\virtualbox vms\\linux\\snapshots\\lib\\site-packages (from spacy<3.7.0,>=3.6.0->en_core_web_sm) (0.10.2)\n",
      "Requirement already satisfied: smart-open<7.0.0,>=5.2.1 in c:\\users\\santh\\virtualbox vms\\linux\\snapshots\\lib\\site-packages (from spacy<3.7.0,>=3.6.0->en_core_web_sm) (5.2.1)\n",
      "Requirement already satisfied: tqdm<5.0.0,>=4.38.0 in c:\\users\\santh\\virtualbox vms\\linux\\snapshots\\lib\\site-packages (from spacy<3.7.0,>=3.6.0->en_core_web_sm) (4.65.0)\n",
      "Requirement already satisfied: numpy>=1.15.0 in c:\\users\\santh\\virtualbox vms\\linux\\snapshots\\lib\\site-packages (from spacy<3.7.0,>=3.6.0->en_core_web_sm) (1.24.3)\n",
      "Requirement already satisfied: requests<3.0.0,>=2.13.0 in c:\\users\\santh\\virtualbox vms\\linux\\snapshots\\lib\\site-packages (from spacy<3.7.0,>=3.6.0->en_core_web_sm) (2.31.0)\n",
      "Requirement already satisfied: pydantic!=1.8,!=1.8.1,<3.0.0,>=1.7.4 in c:\\users\\santh\\virtualbox vms\\linux\\snapshots\\lib\\site-packages (from spacy<3.7.0,>=3.6.0->en_core_web_sm) (2.3.0)\n",
      "Requirement already satisfied: jinja2 in c:\\users\\santh\\virtualbox vms\\linux\\snapshots\\lib\\site-packages (from spacy<3.7.0,>=3.6.0->en_core_web_sm) (3.1.2)\n",
      "Requirement already satisfied: setuptools in c:\\users\\santh\\virtualbox vms\\linux\\snapshots\\lib\\site-packages (from spacy<3.7.0,>=3.6.0->en_core_web_sm) (68.2.2)\n",
      "Requirement already satisfied: packaging>=20.0 in c:\\users\\santh\\virtualbox vms\\linux\\snapshots\\lib\\site-packages (from spacy<3.7.0,>=3.6.0->en_core_web_sm) (23.1)\n",
      "Requirement already satisfied: langcodes<4.0.0,>=3.2.0 in c:\\users\\santh\\virtualbox vms\\linux\\snapshots\\lib\\site-packages (from spacy<3.7.0,>=3.6.0->en_core_web_sm) (3.3.0)\n",
      "Requirement already satisfied: annotated-types>=0.4.0 in c:\\users\\santh\\virtualbox vms\\linux\\snapshots\\lib\\site-packages (from pydantic!=1.8,!=1.8.1,<3.0.0,>=1.7.4->spacy<3.7.0,>=3.6.0->en_core_web_sm) (0.5.0)\n",
      "Requirement already satisfied: pydantic-core==2.6.3 in c:\\users\\santh\\virtualbox vms\\linux\\snapshots\\lib\\site-packages (from pydantic!=1.8,!=1.8.1,<3.0.0,>=1.7.4->spacy<3.7.0,>=3.6.0->en_core_web_sm) (2.6.3)\n",
      "Requirement already satisfied: typing-extensions>=4.6.1 in c:\\users\\santh\\virtualbox vms\\linux\\snapshots\\lib\\site-packages (from pydantic!=1.8,!=1.8.1,<3.0.0,>=1.7.4->spacy<3.7.0,>=3.6.0->en_core_web_sm) (4.7.1)\n",
      "Requirement already satisfied: charset-normalizer<4,>=2 in c:\\users\\santh\\virtualbox vms\\linux\\snapshots\\lib\\site-packages (from requests<3.0.0,>=2.13.0->spacy<3.7.0,>=3.6.0->en_core_web_sm) (2.0.4)\n",
      "Requirement already satisfied: idna<4,>=2.5 in c:\\users\\santh\\virtualbox vms\\linux\\snapshots\\lib\\site-packages (from requests<3.0.0,>=2.13.0->spacy<3.7.0,>=3.6.0->en_core_web_sm) (3.4)\n",
      "Requirement already satisfied: urllib3<3,>=1.21.1 in c:\\users\\santh\\virtualbox vms\\linux\\snapshots\\lib\\site-packages (from requests<3.0.0,>=2.13.0->spacy<3.7.0,>=3.6.0->en_core_web_sm) (1.26.16)\n",
      "Requirement already satisfied: certifi>=2017.4.17 in c:\\users\\santh\\virtualbox vms\\linux\\snapshots\\lib\\site-packages (from requests<3.0.0,>=2.13.0->spacy<3.7.0,>=3.6.0->en_core_web_sm) (2023.7.22)\n",
      "Requirement already satisfied: blis<0.8.0,>=0.7.8 in c:\\users\\santh\\virtualbox vms\\linux\\snapshots\\lib\\site-packages (from thinc<8.2.0,>=8.1.8->spacy<3.7.0,>=3.6.0->en_core_web_sm) (0.7.10)\n",
      "Requirement already satisfied: confection<1.0.0,>=0.0.1 in c:\\users\\santh\\virtualbox vms\\linux\\snapshots\\lib\\site-packages (from thinc<8.2.0,>=8.1.8->spacy<3.7.0,>=3.6.0->en_core_web_sm) (0.1.3)\n",
      "Requirement already satisfied: colorama in c:\\users\\santh\\virtualbox vms\\linux\\snapshots\\lib\\site-packages (from tqdm<5.0.0,>=4.38.0->spacy<3.7.0,>=3.6.0->en_core_web_sm) (0.4.6)\n",
      "Requirement already satisfied: click<9.0.0,>=7.1.1 in c:\\users\\santh\\virtualbox vms\\linux\\snapshots\\lib\\site-packages (from typer<0.10.0,>=0.3.0->spacy<3.7.0,>=3.6.0->en_core_web_sm) (8.0.4)\n",
      "Requirement already satisfied: MarkupSafe>=2.0 in c:\\users\\santh\\virtualbox vms\\linux\\snapshots\\lib\\site-packages (from jinja2->spacy<3.7.0,>=3.6.0->en_core_web_sm) (2.1.1)\n"
     ]
    }
   ],
   "source": [
    "pip install en_core_web_sm"
   ]
  },
  {
   "cell_type": "code",
   "execution_count": 126,
   "id": "2da2c77e",
   "metadata": {},
   "outputs": [],
   "source": [
    "nlp = spacy.load('en_core_web_sm')"
   ]
  },
  {
   "cell_type": "code",
   "execution_count": 127,
   "id": "1640ba9a",
   "metadata": {},
   "outputs": [
    {
     "name": "stdout",
     "output_type": "stream",
     "text": [
      "Requirement already satisfied: pip in c:\\users\\santh\\virtualbox vms\\linux\\snapshots\\lib\\site-packages (23.2.1)\n",
      "Requirement already satisfied: setuptools in c:\\users\\santh\\virtualbox vms\\linux\\snapshots\\lib\\site-packages (68.2.2)\n",
      "Requirement already satisfied: wheel in c:\\users\\santh\\virtualbox vms\\linux\\snapshots\\lib\\site-packages (0.41.2)\n",
      "Requirement already satisfied: spacy in c:\\users\\santh\\virtualbox vms\\linux\\snapshots\\lib\\site-packages (3.6.1)\n",
      "Requirement already satisfied: spacy-legacy<3.1.0,>=3.0.11 in c:\\users\\santh\\virtualbox vms\\linux\\snapshots\\lib\\site-packages (from spacy) (3.0.12)\n",
      "Requirement already satisfied: spacy-loggers<2.0.0,>=1.0.0 in c:\\users\\santh\\virtualbox vms\\linux\\snapshots\\lib\\site-packages (from spacy) (1.0.5)\n",
      "Requirement already satisfied: murmurhash<1.1.0,>=0.28.0 in c:\\users\\santh\\virtualbox vms\\linux\\snapshots\\lib\\site-packages (from spacy) (1.0.10)\n",
      "Requirement already satisfied: cymem<2.1.0,>=2.0.2 in c:\\users\\santh\\virtualbox vms\\linux\\snapshots\\lib\\site-packages (from spacy) (2.0.8)\n",
      "Requirement already satisfied: preshed<3.1.0,>=3.0.2 in c:\\users\\santh\\virtualbox vms\\linux\\snapshots\\lib\\site-packages (from spacy) (3.0.9)\n",
      "Requirement already satisfied: thinc<8.2.0,>=8.1.8 in c:\\users\\santh\\virtualbox vms\\linux\\snapshots\\lib\\site-packages (from spacy) (8.1.12)\n",
      "Requirement already satisfied: wasabi<1.2.0,>=0.9.1 in c:\\users\\santh\\virtualbox vms\\linux\\snapshots\\lib\\site-packages (from spacy) (1.1.2)\n",
      "Requirement already satisfied: srsly<3.0.0,>=2.4.3 in c:\\users\\santh\\virtualbox vms\\linux\\snapshots\\lib\\site-packages (from spacy) (2.4.7)\n",
      "Requirement already satisfied: catalogue<2.1.0,>=2.0.6 in c:\\users\\santh\\virtualbox vms\\linux\\snapshots\\lib\\site-packages (from spacy) (2.0.9)\n",
      "Requirement already satisfied: typer<0.10.0,>=0.3.0 in c:\\users\\santh\\virtualbox vms\\linux\\snapshots\\lib\\site-packages (from spacy) (0.9.0)\n",
      "Requirement already satisfied: pathy>=0.10.0 in c:\\users\\santh\\virtualbox vms\\linux\\snapshots\\lib\\site-packages (from spacy) (0.10.2)\n",
      "Requirement already satisfied: smart-open<7.0.0,>=5.2.1 in c:\\users\\santh\\virtualbox vms\\linux\\snapshots\\lib\\site-packages (from spacy) (5.2.1)\n",
      "Requirement already satisfied: tqdm<5.0.0,>=4.38.0 in c:\\users\\santh\\virtualbox vms\\linux\\snapshots\\lib\\site-packages (from spacy) (4.65.0)\n",
      "Requirement already satisfied: numpy>=1.15.0 in c:\\users\\santh\\virtualbox vms\\linux\\snapshots\\lib\\site-packages (from spacy) (1.24.3)\n",
      "Requirement already satisfied: requests<3.0.0,>=2.13.0 in c:\\users\\santh\\virtualbox vms\\linux\\snapshots\\lib\\site-packages (from spacy) (2.31.0)\n",
      "Requirement already satisfied: pydantic!=1.8,!=1.8.1,<3.0.0,>=1.7.4 in c:\\users\\santh\\virtualbox vms\\linux\\snapshots\\lib\\site-packages (from spacy) (2.3.0)\n",
      "Requirement already satisfied: jinja2 in c:\\users\\santh\\virtualbox vms\\linux\\snapshots\\lib\\site-packages (from spacy) (3.1.2)\n",
      "Requirement already satisfied: setuptools in c:\\users\\santh\\virtualbox vms\\linux\\snapshots\\lib\\site-packages (from spacy) (68.2.2)\n",
      "Requirement already satisfied: packaging>=20.0 in c:\\users\\santh\\virtualbox vms\\linux\\snapshots\\lib\\site-packages (from spacy) (23.1)\n",
      "Requirement already satisfied: langcodes<4.0.0,>=3.2.0 in c:\\users\\santh\\virtualbox vms\\linux\\snapshots\\lib\\site-packages (from spacy) (3.3.0)\n",
      "Requirement already satisfied: annotated-types>=0.4.0 in c:\\users\\santh\\virtualbox vms\\linux\\snapshots\\lib\\site-packages (from pydantic!=1.8,!=1.8.1,<3.0.0,>=1.7.4->spacy) (0.5.0)\n",
      "Requirement already satisfied: pydantic-core==2.6.3 in c:\\users\\santh\\virtualbox vms\\linux\\snapshots\\lib\\site-packages (from pydantic!=1.8,!=1.8.1,<3.0.0,>=1.7.4->spacy) (2.6.3)\n",
      "Requirement already satisfied: typing-extensions>=4.6.1 in c:\\users\\santh\\virtualbox vms\\linux\\snapshots\\lib\\site-packages (from pydantic!=1.8,!=1.8.1,<3.0.0,>=1.7.4->spacy) (4.7.1)\n",
      "Requirement already satisfied: charset-normalizer<4,>=2 in c:\\users\\santh\\virtualbox vms\\linux\\snapshots\\lib\\site-packages (from requests<3.0.0,>=2.13.0->spacy) (2.0.4)\n",
      "Requirement already satisfied: idna<4,>=2.5 in c:\\users\\santh\\virtualbox vms\\linux\\snapshots\\lib\\site-packages (from requests<3.0.0,>=2.13.0->spacy) (3.4)\n",
      "Requirement already satisfied: urllib3<3,>=1.21.1 in c:\\users\\santh\\virtualbox vms\\linux\\snapshots\\lib\\site-packages (from requests<3.0.0,>=2.13.0->spacy) (1.26.16)\n",
      "Requirement already satisfied: certifi>=2017.4.17 in c:\\users\\santh\\virtualbox vms\\linux\\snapshots\\lib\\site-packages (from requests<3.0.0,>=2.13.0->spacy) (2023.7.22)\n",
      "Requirement already satisfied: blis<0.8.0,>=0.7.8 in c:\\users\\santh\\virtualbox vms\\linux\\snapshots\\lib\\site-packages (from thinc<8.2.0,>=8.1.8->spacy) (0.7.10)\n",
      "Requirement already satisfied: confection<1.0.0,>=0.0.1 in c:\\users\\santh\\virtualbox vms\\linux\\snapshots\\lib\\site-packages (from thinc<8.2.0,>=8.1.8->spacy) (0.1.3)\n",
      "Requirement already satisfied: colorama in c:\\users\\santh\\virtualbox vms\\linux\\snapshots\\lib\\site-packages (from tqdm<5.0.0,>=4.38.0->spacy) (0.4.6)\n",
      "Requirement already satisfied: click<9.0.0,>=7.1.1 in c:\\users\\santh\\virtualbox vms\\linux\\snapshots\\lib\\site-packages (from typer<0.10.0,>=0.3.0->spacy) (8.0.4)\n",
      "Requirement already satisfied: MarkupSafe>=2.0 in c:\\users\\santh\\virtualbox vms\\linux\\snapshots\\lib\\site-packages (from jinja2->spacy) (2.1.1)\n",
      "Collecting en-core-web-sm==3.6.0\n",
      "  Downloading https://github.com/explosion/spacy-models/releases/download/en_core_web_sm-3.6.0/en_core_web_sm-3.6.0-py3-none-any.whl (12.8 MB)\n",
      "     ---------------------------------------- 0.0/12.8 MB ? eta -:--:--\n",
      "     ---------------------------------------- 0.0/12.8 MB ? eta -:--:--\n",
      "     ---------------------------------------- 0.0/12.8 MB ? eta -:--:--\n",
      "     ---------------------------------------- 0.0/12.8 MB ? eta -:--:--\n",
      "     --------------------------------------- 0.1/12.8 MB 363.1 kB/s eta 0:00:36\n",
      "     --------------------------------------- 0.1/12.8 MB 381.3 kB/s eta 0:00:34\n",
      "     --------------------------------------- 0.1/12.8 MB 381.3 kB/s eta 0:00:34\n",
      "     --------------------------------------- 0.1/12.8 MB 368.6 kB/s eta 0:00:35\n",
      "     --------------------------------------- 0.1/12.8 MB 368.6 kB/s eta 0:00:35\n",
      "     --------------------------------------- 0.1/12.8 MB 368.6 kB/s eta 0:00:35\n",
      "     --------------------------------------- 0.1/12.8 MB 368.6 kB/s eta 0:00:35\n",
      "     --------------------------------------- 0.1/12.8 MB 242.7 kB/s eta 0:00:53\n",
      "     --------------------------------------- 0.1/12.8 MB 283.8 kB/s eta 0:00:45\n",
      "     --------------------------------------- 0.1/12.8 MB 283.8 kB/s eta 0:00:45\n",
      "     --------------------------------------- 0.1/12.8 MB 283.8 kB/s eta 0:00:45\n",
      "     --------------------------------------- 0.1/12.8 MB 283.8 kB/s eta 0:00:45\n",
      "      -------------------------------------- 0.2/12.8 MB 294.9 kB/s eta 0:00:43\n",
      "      -------------------------------------- 0.2/12.8 MB 276.8 kB/s eta 0:00:46\n",
      "      -------------------------------------- 0.2/12.8 MB 299.1 kB/s eta 0:00:43\n",
      "      -------------------------------------- 0.3/12.8 MB 308.4 kB/s eta 0:00:41\n",
      "      -------------------------------------- 0.3/12.8 MB 334.1 kB/s eta 0:00:38\n",
      "      -------------------------------------- 0.3/12.8 MB 345.7 kB/s eta 0:00:37\n",
      "      -------------------------------------- 0.3/12.8 MB 344.3 kB/s eta 0:00:37\n",
      "     - ------------------------------------- 0.4/12.8 MB 365.3 kB/s eta 0:00:35\n",
      "     - ------------------------------------- 0.4/12.8 MB 385.0 kB/s eta 0:00:33\n",
      "     - ------------------------------------- 0.4/12.8 MB 410.8 kB/s eta 0:00:31\n",
      "     - ------------------------------------- 0.5/12.8 MB 420.6 kB/s eta 0:00:30\n",
      "     - ------------------------------------- 0.5/12.8 MB 436.9 kB/s eta 0:00:29\n",
      "     - ------------------------------------- 0.5/12.8 MB 451.8 kB/s eta 0:00:28\n",
      "     - ------------------------------------- 0.5/12.8 MB 451.8 kB/s eta 0:00:28\n",
      "     - ------------------------------------- 0.5/12.8 MB 451.8 kB/s eta 0:00:28\n",
      "     - ------------------------------------- 0.6/12.8 MB 418.4 kB/s eta 0:00:30\n",
      "     - ------------------------------------- 0.6/12.8 MB 442.1 kB/s eta 0:00:28\n",
      "     - ------------------------------------- 0.6/12.8 MB 444.6 kB/s eta 0:00:28\n",
      "     - ------------------------------------- 0.6/12.8 MB 449.1 kB/s eta 0:00:28\n",
      "     -- ------------------------------------ 0.7/12.8 MB 467.0 kB/s eta 0:00:26\n",
      "     -- ------------------------------------ 0.7/12.8 MB 467.0 kB/s eta 0:00:26\n",
      "     -- ------------------------------------ 0.7/12.8 MB 476.6 kB/s eta 0:00:26\n",
      "     -- ------------------------------------ 0.8/12.8 MB 480.2 kB/s eta 0:00:26\n",
      "     -- ------------------------------------ 0.8/12.8 MB 480.2 kB/s eta 0:00:26\n",
      "     -- ------------------------------------ 0.8/12.8 MB 488.5 kB/s eta 0:00:25\n",
      "     -- ------------------------------------ 0.8/12.8 MB 488.5 kB/s eta 0:00:25\n",
      "     -- ------------------------------------ 0.8/12.8 MB 468.1 kB/s eta 0:00:26\n",
      "     -- ------------------------------------ 0.8/12.8 MB 468.1 kB/s eta 0:00:26\n",
      "     -- ------------------------------------ 0.9/12.8 MB 472.0 kB/s eta 0:00:26\n",
      "     -- ------------------------------------ 0.9/12.8 MB 475.1 kB/s eta 0:00:26\n",
      "     -- ------------------------------------ 0.9/12.8 MB 472.8 kB/s eta 0:00:26\n",
      "     -- ------------------------------------ 0.9/12.8 MB 472.8 kB/s eta 0:00:26\n",
      "     -- ------------------------------------ 0.9/12.8 MB 472.8 kB/s eta 0:00:26\n",
      "     -- ------------------------------------ 0.9/12.8 MB 448.4 kB/s eta 0:00:27\n",
      "     -- ------------------------------------ 0.9/12.8 MB 448.4 kB/s eta 0:00:27\n",
      "     --- ----------------------------------- 1.0/12.8 MB 452.6 kB/s eta 0:00:27\n",
      "     --- ----------------------------------- 1.0/12.8 MB 452.6 kB/s eta 0:00:27\n",
      "     --- ----------------------------------- 1.0/12.8 MB 452.6 kB/s eta 0:00:27\n",
      "     --- ----------------------------------- 1.0/12.8 MB 452.6 kB/s eta 0:00:27\n",
      "     --- ----------------------------------- 1.0/12.8 MB 438.4 kB/s eta 0:00:27\n",
      "     --- ----------------------------------- 1.1/12.8 MB 444.1 kB/s eta 0:00:27\n",
      "     --- ----------------------------------- 1.1/12.8 MB 444.1 kB/s eta 0:00:27\n",
      "     --- ----------------------------------- 1.1/12.8 MB 444.1 kB/s eta 0:00:27\n",
      "     --- ----------------------------------- 1.1/12.8 MB 435.5 kB/s eta 0:00:27\n",
      "     --- ----------------------------------- 1.1/12.8 MB 435.5 kB/s eta 0:00:27\n",
      "     --- ----------------------------------- 1.1/12.8 MB 435.7 kB/s eta 0:00:27\n",
      "     --- ----------------------------------- 1.2/12.8 MB 440.7 kB/s eta 0:00:27\n",
      "     --- ----------------------------------- 1.2/12.8 MB 449.5 kB/s eta 0:00:26\n",
      "     --- ----------------------------------- 1.3/12.8 MB 460.3 kB/s eta 0:00:26\n",
      "     --- ----------------------------------- 1.3/12.8 MB 465.0 kB/s eta 0:00:25\n",
      "     --- ----------------------------------- 1.3/12.8 MB 465.0 kB/s eta 0:00:25\n",
      "     ---- ---------------------------------- 1.4/12.8 MB 461.6 kB/s eta 0:00:25\n",
      "     ---- ---------------------------------- 1.4/12.8 MB 456.4 kB/s eta 0:00:26\n",
      "     ---- ---------------------------------- 1.4/12.8 MB 468.5 kB/s eta 0:00:25\n",
      "     ---- ---------------------------------- 1.4/12.8 MB 467.1 kB/s eta 0:00:25\n",
      "     ---- ---------------------------------- 1.5/12.8 MB 480.9 kB/s eta 0:00:24\n",
      "     ---- ---------------------------------- 1.6/12.8 MB 487.5 kB/s eta 0:00:24\n",
      "     ---- ---------------------------------- 1.6/12.8 MB 493.1 kB/s eta 0:00:23\n",
      "     ---- ---------------------------------- 1.6/12.8 MB 493.1 kB/s eta 0:00:23\n",
      "     ----- --------------------------------- 1.6/12.8 MB 499.4 kB/s eta 0:00:23\n",
      "     ----- --------------------------------- 1.7/12.8 MB 503.0 kB/s eta 0:00:23\n",
      "     ----- --------------------------------- 1.8/12.8 MB 514.1 kB/s eta 0:00:22\n",
      "     ----- --------------------------------- 1.8/12.8 MB 521.2 kB/s eta 0:00:22\n",
      "     ----- --------------------------------- 1.8/12.8 MB 528.4 kB/s eta 0:00:21\n",
      "     ----- --------------------------------- 1.9/12.8 MB 533.6 kB/s eta 0:00:21\n",
      "     ----- --------------------------------- 2.0/12.8 MB 544.2 kB/s eta 0:00:20\n",
      "     ------ -------------------------------- 2.0/12.8 MB 554.0 kB/s eta 0:00:20\n",
      "     ------ -------------------------------- 2.1/12.8 MB 560.9 kB/s eta 0:00:20\n",
      "     ------ -------------------------------- 2.1/12.8 MB 568.0 kB/s eta 0:00:19\n",
      "     ------ -------------------------------- 2.2/12.8 MB 576.9 kB/s eta 0:00:19\n",
      "     ------ -------------------------------- 2.2/12.8 MB 583.2 kB/s eta 0:00:19\n",
      "     ------- ------------------------------- 2.3/12.8 MB 591.9 kB/s eta 0:00:18\n",
      "     ------- ------------------------------- 2.4/12.8 MB 603.3 kB/s eta 0:00:18\n",
      "     ------- ------------------------------- 2.4/12.8 MB 604.0 kB/s eta 0:00:18\n",
      "     ------- ------------------------------- 2.5/12.8 MB 617.3 kB/s eta 0:00:17\n",
      "     ------- ------------------------------- 2.6/12.8 MB 630.1 kB/s eta 0:00:17\n",
      "     -------- ------------------------------ 2.7/12.8 MB 640.5 kB/s eta 0:00:16\n",
      "     -------- ------------------------------ 2.7/12.8 MB 648.0 kB/s eta 0:00:16\n",
      "     -------- ------------------------------ 2.8/12.8 MB 652.9 kB/s eta 0:00:16\n",
      "     -------- ------------------------------ 2.8/12.8 MB 660.1 kB/s eta 0:00:16\n",
      "     -------- ------------------------------ 2.9/12.8 MB 662.4 kB/s eta 0:00:16\n",
      "     -------- ------------------------------ 2.9/12.8 MB 664.8 kB/s eta 0:00:15\n",
      "     --------- ----------------------------- 3.0/12.8 MB 669.3 kB/s eta 0:00:15\n",
      "     --------- ----------------------------- 3.0/12.8 MB 669.2 kB/s eta 0:00:15\n",
      "     --------- ----------------------------- 3.1/12.8 MB 680.5 kB/s eta 0:00:15\n",
      "     --------- ----------------------------- 3.1/12.8 MB 686.7 kB/s eta 0:00:15\n",
      "     --------- ----------------------------- 3.2/12.8 MB 684.3 kB/s eta 0:00:15\n",
      "     --------- ----------------------------- 3.2/12.8 MB 684.3 kB/s eta 0:00:15\n",
      "     --------- ----------------------------- 3.3/12.8 MB 692.4 kB/s eta 0:00:14\n",
      "     ---------- ---------------------------- 3.3/12.8 MB 696.5 kB/s eta 0:00:14\n",
      "     ---------- ---------------------------- 3.4/12.8 MB 698.0 kB/s eta 0:00:14\n",
      "     ---------- ---------------------------- 3.4/12.8 MB 699.9 kB/s eta 0:00:14\n",
      "     ---------- ---------------------------- 3.5/12.8 MB 703.5 kB/s eta 0:00:14\n",
      "     ---------- ---------------------------- 3.5/12.8 MB 707.1 kB/s eta 0:00:14\n",
      "     ---------- ---------------------------- 3.6/12.8 MB 712.9 kB/s eta 0:00:13\n",
      "     ----------- --------------------------- 3.6/12.8 MB 720.5 kB/s eta 0:00:13\n",
      "     ----------- --------------------------- 3.6/12.8 MB 718.0 kB/s eta 0:00:13\n",
      "     ----------- --------------------------- 3.7/12.8 MB 717.6 kB/s eta 0:00:13\n",
      "     ----------- --------------------------- 3.7/12.8 MB 710.6 kB/s eta 0:00:13\n",
      "     ----------- --------------------------- 3.7/12.8 MB 714.1 kB/s eta 0:00:13\n",
      "     ----------- --------------------------- 3.7/12.8 MB 714.1 kB/s eta 0:00:13\n",
      "     ----------- --------------------------- 3.8/12.8 MB 709.0 kB/s eta 0:00:13\n",
      "     ----------- --------------------------- 3.9/12.8 MB 714.4 kB/s eta 0:00:13\n",
      "     ----------- --------------------------- 3.9/12.8 MB 716.0 kB/s eta 0:00:13\n",
      "     ------------ -------------------------- 4.0/12.8 MB 720.9 kB/s eta 0:00:13\n",
      "     ------------ -------------------------- 4.0/12.8 MB 720.9 kB/s eta 0:00:13\n",
      "     ------------ -------------------------- 4.0/12.8 MB 721.8 kB/s eta 0:00:13\n",
      "     ------------ -------------------------- 4.1/12.8 MB 723.0 kB/s eta 0:00:13\n",
      "     ------------ -------------------------- 4.1/12.8 MB 729.6 kB/s eta 0:00:12\n",
      "     ------------ -------------------------- 4.2/12.8 MB 730.8 kB/s eta 0:00:12\n",
      "     ------------ -------------------------- 4.2/12.8 MB 739.3 kB/s eta 0:00:12\n",
      "     ------------- ------------------------- 4.3/12.8 MB 745.4 kB/s eta 0:00:12\n",
      "     ------------- ------------------------- 4.4/12.8 MB 744.7 kB/s eta 0:00:12\n",
      "     ------------- ------------------------- 4.4/12.8 MB 749.5 kB/s eta 0:00:12\n",
      "     ------------- ------------------------- 4.4/12.8 MB 743.1 kB/s eta 0:00:12\n",
      "     ------------- ------------------------- 4.5/12.8 MB 749.5 kB/s eta 0:00:12\n",
      "     ------------- ------------------------- 4.6/12.8 MB 755.7 kB/s eta 0:00:11\n",
      "     ------------- ------------------------- 4.6/12.8 MB 757.0 kB/s eta 0:00:11\n",
      "     -------------- ------------------------ 4.7/12.8 MB 762.9 kB/s eta 0:00:11\n",
      "     -------------- ------------------------ 4.7/12.8 MB 758.7 kB/s eta 0:00:11\n",
      "     -------------- ------------------------ 4.7/12.8 MB 763.2 kB/s eta 0:00:11\n",
      "     -------------- ------------------------ 4.8/12.8 MB 768.9 kB/s eta 0:00:11\n",
      "     -------------- ------------------------ 4.9/12.8 MB 774.4 kB/s eta 0:00:11\n",
      "     -------------- ------------------------ 4.9/12.8 MB 776.0 kB/s eta 0:00:11\n",
      "     --------------- ----------------------- 5.0/12.8 MB 779.4 kB/s eta 0:00:11\n",
      "     --------------- ----------------------- 5.0/12.8 MB 779.4 kB/s eta 0:00:11\n",
      "     --------------- ----------------------- 5.0/12.8 MB 774.6 kB/s eta 0:00:11\n",
      "     --------------- ----------------------- 5.1/12.8 MB 780.2 kB/s eta 0:00:10\n",
      "     --------------- ----------------------- 5.1/12.8 MB 781.0 kB/s eta 0:00:10\n",
      "     --------------- ----------------------- 5.2/12.8 MB 786.7 kB/s eta 0:00:10\n",
      "     --------------- ----------------------- 5.2/12.8 MB 788.3 kB/s eta 0:00:10\n",
      "     ---------------- ---------------------- 5.3/12.8 MB 792.3 kB/s eta 0:00:10\n",
      "     ---------------- ---------------------- 5.3/12.8 MB 795.9 kB/s eta 0:00:10\n",
      "     ---------------- ---------------------- 5.4/12.8 MB 802.5 kB/s eta 0:00:10\n",
      "     ---------------- ---------------------- 5.5/12.8 MB 806.0 kB/s eta 0:00:10\n",
      "     ---------------- ---------------------- 5.5/12.8 MB 807.1 kB/s eta 0:00:10\n",
      "     ----------------- --------------------- 5.6/12.8 MB 811.8 kB/s eta 0:00:09\n",
      "     ----------------- --------------------- 5.6/12.8 MB 813.6 kB/s eta 0:00:09\n",
      "     ----------------- --------------------- 5.7/12.8 MB 817.0 kB/s eta 0:00:09\n",
      "     ----------------- --------------------- 5.8/12.8 MB 821.7 kB/s eta 0:00:09\n",
      "     ----------------- --------------------- 5.8/12.8 MB 826.8 kB/s eta 0:00:09\n",
      "     ----------------- --------------------- 5.9/12.8 MB 826.1 kB/s eta 0:00:09\n",
      "     ----------------- --------------------- 5.9/12.8 MB 826.4 kB/s eta 0:00:09\n",
      "     ------------------ -------------------- 5.9/12.8 MB 824.5 kB/s eta 0:00:09\n",
      "     ------------------ -------------------- 6.0/12.8 MB 825.3 kB/s eta 0:00:09\n",
      "     ------------------ -------------------- 6.0/12.8 MB 827.3 kB/s eta 0:00:09\n",
      "     ------------------ -------------------- 6.1/12.8 MB 831.4 kB/s eta 0:00:09\n",
      "     ------------------ -------------------- 6.1/12.8 MB 833.8 kB/s eta 0:00:08\n",
      "     ------------------ -------------------- 6.2/12.8 MB 837.9 kB/s eta 0:00:08\n",
      "     ------------------- ------------------- 6.2/12.8 MB 836.7 kB/s eta 0:00:08\n",
      "     ------------------- ------------------- 6.3/12.8 MB 842.4 kB/s eta 0:00:08\n",
      "     ------------------- ------------------- 6.4/12.8 MB 841.2 kB/s eta 0:00:08\n",
      "     ------------------- ------------------- 6.4/12.8 MB 846.8 kB/s eta 0:00:08\n",
      "     ------------------- ------------------- 6.5/12.8 MB 847.4 kB/s eta 0:00:08\n",
      "     ------------------- ------------------- 6.5/12.8 MB 849.8 kB/s eta 0:00:08\n",
      "     -------------------- ------------------ 6.6/12.8 MB 850.3 kB/s eta 0:00:08\n",
      "     -------------------- ------------------ 6.6/12.8 MB 851.8 kB/s eta 0:00:08\n",
      "     -------------------- ------------------ 6.7/12.8 MB 856.3 kB/s eta 0:00:08\n",
      "     -------------------- ------------------ 6.8/12.8 MB 861.6 kB/s eta 0:00:08\n",
      "     -------------------- ------------------ 6.8/12.8 MB 863.9 kB/s eta 0:00:07\n",
      "     -------------------- ------------------ 6.9/12.8 MB 864.3 kB/s eta 0:00:07\n",
      "     --------------------- ----------------- 7.0/12.8 MB 869.6 kB/s eta 0:00:07\n",
      "     --------------------- ----------------- 7.0/12.8 MB 869.1 kB/s eta 0:00:07\n",
      "     --------------------- ----------------- 7.1/12.8 MB 875.0 kB/s eta 0:00:07\n",
      "     --------------------- ----------------- 7.1/12.8 MB 877.6 kB/s eta 0:00:07\n",
      "     --------------------- ----------------- 7.2/12.8 MB 880.9 kB/s eta 0:00:07\n",
      "     ---------------------- ---------------- 7.3/12.8 MB 885.8 kB/s eta 0:00:07\n",
      "     ---------------------- ---------------- 7.4/12.8 MB 889.5 kB/s eta 0:00:07\n",
      "     ---------------------- ---------------- 7.4/12.8 MB 892.3 kB/s eta 0:00:07\n",
      "     ---------------------- ---------------- 7.5/12.8 MB 893.0 kB/s eta 0:00:06\n",
      "     ---------------------- ---------------- 7.5/12.8 MB 897.5 kB/s eta 0:00:06\n",
      "     ---------------------- ---------------- 7.5/12.8 MB 892.0 kB/s eta 0:00:06\n",
      "     ----------------------- --------------- 7.7/12.8 MB 903.2 kB/s eta 0:00:06\n",
      "     ----------------------- --------------- 7.7/12.8 MB 905.4 kB/s eta 0:00:06\n",
      "     ----------------------- --------------- 7.8/12.8 MB 907.6 kB/s eta 0:00:06\n",
      "     ----------------------- --------------- 7.8/12.8 MB 909.1 kB/s eta 0:00:06\n",
      "     ----------------------- --------------- 7.9/12.8 MB 907.7 kB/s eta 0:00:06\n",
      "     ------------------------ -------------- 7.9/12.8 MB 908.0 kB/s eta 0:00:06\n",
      "     ------------------------ -------------- 7.9/12.8 MB 907.0 kB/s eta 0:00:06\n",
      "     ------------------------ -------------- 8.0/12.8 MB 910.3 kB/s eta 0:00:06\n",
      "     ------------------------ -------------- 8.1/12.8 MB 912.4 kB/s eta 0:00:06\n",
      "     ------------------------ -------------- 8.1/12.8 MB 911.0 kB/s eta 0:00:06\n",
      "     ------------------------ -------------- 8.2/12.8 MB 910.8 kB/s eta 0:00:06\n",
      "     ------------------------ -------------- 8.2/12.8 MB 912.0 kB/s eta 0:00:06\n",
      "     ------------------------ -------------- 8.2/12.8 MB 912.0 kB/s eta 0:00:06\n",
      "     ------------------------- ------------- 8.2/12.8 MB 910.5 kB/s eta 0:00:06\n",
      "     ------------------------- ------------- 8.2/12.8 MB 906.9 kB/s eta 0:00:06\n",
      "     ------------------------- ------------- 8.3/12.8 MB 909.6 kB/s eta 0:00:05\n",
      "     ------------------------- ------------- 8.4/12.8 MB 911.3 kB/s eta 0:00:05\n",
      "     ------------------------- ------------- 8.4/12.8 MB 912.4 kB/s eta 0:00:05\n",
      "     ------------------------- ------------- 8.5/12.8 MB 913.9 kB/s eta 0:00:05\n",
      "     ------------------------- ------------- 8.5/12.8 MB 913.7 kB/s eta 0:00:05\n",
      "     -------------------------- ------------ 8.6/12.8 MB 916.9 kB/s eta 0:00:05\n",
      "     -------------------------- ------------ 8.7/12.8 MB 918.8 kB/s eta 0:00:05\n",
      "     -------------------------- ------------ 8.7/12.8 MB 923.3 kB/s eta 0:00:05\n",
      "     -------------------------- ------------ 8.8/12.8 MB 925.9 kB/s eta 0:00:05\n",
      "     --------------------------- ----------- 8.9/12.8 MB 927.8 kB/s eta 0:00:05\n",
      "     --------------------------- ----------- 8.9/12.8 MB 928.0 kB/s eta 0:00:05\n",
      "     --------------------------- ----------- 9.0/12.8 MB 930.4 kB/s eta 0:00:05\n",
      "     --------------------------- ----------- 9.0/12.8 MB 932.7 kB/s eta 0:00:05\n",
      "     --------------------------- ----------- 9.1/12.8 MB 931.4 kB/s eta 0:00:05\n",
      "     --------------------------- ----------- 9.1/12.8 MB 933.7 kB/s eta 0:00:04\n",
      "     --------------------------- ----------- 9.1/12.8 MB 930.8 kB/s eta 0:00:04\n",
      "     ---------------------------- ---------- 9.2/12.8 MB 931.7 kB/s eta 0:00:04\n",
      "     ---------------------------- ---------- 9.2/12.8 MB 933.3 kB/s eta 0:00:04\n",
      "     ---------------------------- ---------- 9.3/12.8 MB 933.2 kB/s eta 0:00:04\n",
      "     ---------------------------- ---------- 9.3/12.8 MB 932.9 kB/s eta 0:00:04\n",
      "     ---------------------------- ---------- 9.4/12.8 MB 934.1 kB/s eta 0:00:04\n",
      "     ---------------------------- ---------- 9.4/12.8 MB 935.8 kB/s eta 0:00:04\n",
      "     ---------------------------- ---------- 9.5/12.8 MB 936.0 kB/s eta 0:00:04\n",
      "     ----------------------------- --------- 9.5/12.8 MB 936.7 kB/s eta 0:00:04\n",
      "     ----------------------------- --------- 9.5/12.8 MB 936.7 kB/s eta 0:00:04\n",
      "     ----------------------------- --------- 9.6/12.8 MB 931.1 kB/s eta 0:00:04\n",
      "     ----------------------------- --------- 9.6/12.8 MB 931.8 kB/s eta 0:00:04\n",
      "     ----------------------------- --------- 9.6/12.8 MB 931.8 kB/s eta 0:00:04\n",
      "     ----------------------------- --------- 9.7/12.8 MB 929.3 kB/s eta 0:00:04\n",
      "     ----------------------------- --------- 9.7/12.8 MB 927.7 kB/s eta 0:00:04\n",
      "     ----------------------------- --------- 9.7/12.8 MB 927.3 kB/s eta 0:00:04\n",
      "     ----------------------------- --------- 9.7/12.8 MB 923.7 kB/s eta 0:00:04\n",
      "     ----------------------------- --------- 9.8/12.8 MB 927.2 kB/s eta 0:00:04\n",
      "     ----------------------------- --------- 9.8/12.8 MB 923.3 kB/s eta 0:00:04\n",
      "     ------------------------------ -------- 9.9/12.8 MB 925.4 kB/s eta 0:00:04\n",
      "     ------------------------------ -------- 9.9/12.8 MB 925.5 kB/s eta 0:00:04\n",
      "     ------------------------------ -------- 9.9/12.8 MB 925.5 kB/s eta 0:00:04\n",
      "     ------------------------------ -------- 9.9/12.8 MB 925.5 kB/s eta 0:00:04\n",
      "     ----------------------------- -------- 10.0/12.8 MB 920.5 kB/s eta 0:00:04\n",
      "     ----------------------------- -------- 10.0/12.8 MB 919.4 kB/s eta 0:00:04\n",
      "     ----------------------------- -------- 10.0/12.8 MB 920.2 kB/s eta 0:00:03\n",
      "     ----------------------------- -------- 10.1/12.8 MB 922.1 kB/s eta 0:00:03\n",
      "     ------------------------------ ------- 10.1/12.8 MB 921.6 kB/s eta 0:00:03\n",
      "     ------------------------------ ------- 10.2/12.8 MB 921.8 kB/s eta 0:00:03\n",
      "     ------------------------------ ------- 10.2/12.8 MB 921.2 kB/s eta 0:00:03\n",
      "     ------------------------------ ------- 10.3/12.8 MB 930.0 kB/s eta 0:00:03\n",
      "     ------------------------------ ------- 10.3/12.8 MB 931.3 kB/s eta 0:00:03\n",
      "     ------------------------------ ------- 10.4/12.8 MB 951.6 kB/s eta 0:00:03\n",
      "     ------------------------------ ------- 10.4/12.8 MB 960.0 kB/s eta 0:00:03\n",
      "     ------------------------------- ------ 10.5/12.8 MB 965.6 kB/s eta 0:00:03\n",
      "     ------------------------------- ------ 10.5/12.8 MB 974.3 kB/s eta 0:00:03\n",
      "     ------------------------------- ------ 10.6/12.8 MB 981.6 kB/s eta 0:00:03\n",
      "     ------------------------------- ------ 10.6/12.8 MB 984.5 kB/s eta 0:00:03\n",
      "     ------------------------------- ------ 10.7/12.8 MB 986.0 kB/s eta 0:00:03\n",
      "     ------------------------------- ------ 10.8/12.8 MB 998.0 kB/s eta 0:00:03\n",
      "     -------------------------------- ----- 10.8/12.8 MB 998.0 kB/s eta 0:00:02\n",
      "     ---------------------------------- ----- 10.9/12.8 MB 1.0 MB/s eta 0:00:02\n",
      "     ---------------------------------- ----- 11.0/12.8 MB 1.0 MB/s eta 0:00:02\n",
      "     ---------------------------------- ----- 11.0/12.8 MB 1.0 MB/s eta 0:00:02\n",
      "     ---------------------------------- ----- 11.1/12.8 MB 1.0 MB/s eta 0:00:02\n",
      "     ---------------------------------- ----- 11.1/12.8 MB 1.0 MB/s eta 0:00:02\n",
      "     ---------------------------------- ----- 11.2/12.8 MB 1.0 MB/s eta 0:00:02\n",
      "     ----------------------------------- ---- 11.2/12.8 MB 1.1 MB/s eta 0:00:02\n",
      "     ----------------------------------- ---- 11.2/12.8 MB 1.0 MB/s eta 0:00:02\n",
      "     ----------------------------------- ---- 11.3/12.8 MB 1.1 MB/s eta 0:00:02\n",
      "     ----------------------------------- ---- 11.3/12.8 MB 1.1 MB/s eta 0:00:02\n",
      "     ----------------------------------- ---- 11.3/12.8 MB 1.1 MB/s eta 0:00:02\n",
      "     ----------------------------------- ---- 11.3/12.8 MB 1.1 MB/s eta 0:00:02\n",
      "     ----------------------------------- ---- 11.4/12.8 MB 1.1 MB/s eta 0:00:02\n",
      "     ----------------------------------- ---- 11.4/12.8 MB 1.1 MB/s eta 0:00:02\n",
      "     ----------------------------------- ---- 11.4/12.8 MB 1.1 MB/s eta 0:00:02\n",
      "     ----------------------------------- ---- 11.5/12.8 MB 1.1 MB/s eta 0:00:02\n",
      "     ----------------------------------- ---- 11.5/12.8 MB 1.1 MB/s eta 0:00:02\n",
      "     ----------------------------------- ---- 11.5/12.8 MB 1.1 MB/s eta 0:00:02\n",
      "     ----------------------------------- ---- 11.5/12.8 MB 1.1 MB/s eta 0:00:02\n",
      "     ----------------------------------- ---- 11.5/12.8 MB 1.1 MB/s eta 0:00:02\n",
      "     ------------------------------------ --- 11.6/12.8 MB 1.1 MB/s eta 0:00:02\n",
      "     ------------------------------------ --- 11.6/12.8 MB 1.1 MB/s eta 0:00:02\n",
      "     ------------------------------------ --- 11.6/12.8 MB 1.1 MB/s eta 0:00:02\n",
      "     ------------------------------------ --- 11.7/12.8 MB 1.1 MB/s eta 0:00:02\n",
      "     ------------------------------------ --- 11.7/12.8 MB 1.1 MB/s eta 0:00:02\n",
      "     ------------------------------------ --- 11.7/12.8 MB 1.1 MB/s eta 0:00:02\n",
      "     ------------------------------------ --- 11.8/12.8 MB 1.1 MB/s eta 0:00:01\n",
      "     ------------------------------------ --- 11.8/12.8 MB 1.1 MB/s eta 0:00:01\n",
      "     ------------------------------------ --- 11.8/12.8 MB 1.1 MB/s eta 0:00:01\n",
      "     ------------------------------------ --- 11.8/12.8 MB 1.1 MB/s eta 0:00:01\n",
      "     ------------------------------------- -- 11.9/12.8 MB 1.1 MB/s eta 0:00:01\n",
      "     ------------------------------------- -- 11.9/12.8 MB 1.1 MB/s eta 0:00:01\n",
      "     ------------------------------------- -- 12.0/12.8 MB 1.1 MB/s eta 0:00:01\n",
      "     ------------------------------------- -- 12.0/12.8 MB 1.1 MB/s eta 0:00:01\n",
      "     ------------------------------------- -- 12.0/12.8 MB 1.1 MB/s eta 0:00:01\n",
      "     ------------------------------------- -- 12.0/12.8 MB 1.1 MB/s eta 0:00:01\n",
      "     ------------------------------------- -- 12.1/12.8 MB 1.1 MB/s eta 0:00:01\n",
      "     ------------------------------------- -- 12.1/12.8 MB 1.1 MB/s eta 0:00:01\n",
      "     ------------------------------------- -- 12.1/12.8 MB 1.1 MB/s eta 0:00:01\n",
      "     -------------------------------------- - 12.2/12.8 MB 1.1 MB/s eta 0:00:01\n",
      "     -------------------------------------- - 12.2/12.8 MB 1.1 MB/s eta 0:00:01\n",
      "     -------------------------------------- - 12.2/12.8 MB 1.0 MB/s eta 0:00:01\n",
      "     -------------------------------------- - 12.3/12.8 MB 1.0 MB/s eta 0:00:01\n",
      "     -------------------------------------- - 12.3/12.8 MB 1.0 MB/s eta 0:00:01\n",
      "     -------------------------------------- - 12.3/12.8 MB 1.0 MB/s eta 0:00:01\n",
      "     -------------------------------------- - 12.4/12.8 MB 1.0 MB/s eta 0:00:01\n",
      "     -------------------------------------- - 12.4/12.8 MB 1.0 MB/s eta 0:00:01\n",
      "     -------------------------------------- - 12.5/12.8 MB 1.0 MB/s eta 0:00:01\n",
      "     ---------------------------------------  12.5/12.8 MB 1.0 MB/s eta 0:00:01\n",
      "     ---------------------------------------  12.6/12.8 MB 1.0 MB/s eta 0:00:01\n",
      "     ---------------------------------------  12.6/12.8 MB 1.0 MB/s eta 0:00:01\n",
      "     ---------------------------------------  12.6/12.8 MB 1.0 MB/s eta 0:00:01\n",
      "     ---------------------------------------  12.6/12.8 MB 1.0 MB/s eta 0:00:01\n",
      "     ---------------------------------------  12.6/12.8 MB 1.0 MB/s eta 0:00:01\n",
      "     ---------------------------------------  12.7/12.8 MB 1.0 MB/s eta 0:00:01\n",
      "     ---------------------------------------  12.7/12.8 MB 1.0 MB/s eta 0:00:01\n",
      "     ---------------------------------------  12.8/12.8 MB 1.0 MB/s eta 0:00:01\n",
      "     ---------------------------------------  12.8/12.8 MB 1.0 MB/s eta 0:00:01\n",
      "     ---------------------------------------- 12.8/12.8 MB 1.0 MB/s eta 0:00:00\n",
      "Requirement already satisfied: spacy<3.7.0,>=3.6.0 in c:\\users\\santh\\virtualbox vms\\linux\\snapshots\\lib\\site-packages (from en-core-web-sm==3.6.0) (3.6.1)\n",
      "Requirement already satisfied: spacy-legacy<3.1.0,>=3.0.11 in c:\\users\\santh\\virtualbox vms\\linux\\snapshots\\lib\\site-packages (from spacy<3.7.0,>=3.6.0->en-core-web-sm==3.6.0) (3.0.12)\n",
      "Requirement already satisfied: spacy-loggers<2.0.0,>=1.0.0 in c:\\users\\santh\\virtualbox vms\\linux\\snapshots\\lib\\site-packages (from spacy<3.7.0,>=3.6.0->en-core-web-sm==3.6.0) (1.0.5)\n",
      "Requirement already satisfied: murmurhash<1.1.0,>=0.28.0 in c:\\users\\santh\\virtualbox vms\\linux\\snapshots\\lib\\site-packages (from spacy<3.7.0,>=3.6.0->en-core-web-sm==3.6.0) (1.0.10)\n",
      "Requirement already satisfied: cymem<2.1.0,>=2.0.2 in c:\\users\\santh\\virtualbox vms\\linux\\snapshots\\lib\\site-packages (from spacy<3.7.0,>=3.6.0->en-core-web-sm==3.6.0) (2.0.8)\n",
      "Requirement already satisfied: preshed<3.1.0,>=3.0.2 in c:\\users\\santh\\virtualbox vms\\linux\\snapshots\\lib\\site-packages (from spacy<3.7.0,>=3.6.0->en-core-web-sm==3.6.0) (3.0.9)\n",
      "Requirement already satisfied: thinc<8.2.0,>=8.1.8 in c:\\users\\santh\\virtualbox vms\\linux\\snapshots\\lib\\site-packages (from spacy<3.7.0,>=3.6.0->en-core-web-sm==3.6.0) (8.1.12)\n",
      "Requirement already satisfied: wasabi<1.2.0,>=0.9.1 in c:\\users\\santh\\virtualbox vms\\linux\\snapshots\\lib\\site-packages (from spacy<3.7.0,>=3.6.0->en-core-web-sm==3.6.0) (1.1.2)\n",
      "Requirement already satisfied: srsly<3.0.0,>=2.4.3 in c:\\users\\santh\\virtualbox vms\\linux\\snapshots\\lib\\site-packages (from spacy<3.7.0,>=3.6.0->en-core-web-sm==3.6.0) (2.4.7)\n",
      "Requirement already satisfied: catalogue<2.1.0,>=2.0.6 in c:\\users\\santh\\virtualbox vms\\linux\\snapshots\\lib\\site-packages (from spacy<3.7.0,>=3.6.0->en-core-web-sm==3.6.0) (2.0.9)\n",
      "Requirement already satisfied: typer<0.10.0,>=0.3.0 in c:\\users\\santh\\virtualbox vms\\linux\\snapshots\\lib\\site-packages (from spacy<3.7.0,>=3.6.0->en-core-web-sm==3.6.0) (0.9.0)\n",
      "Requirement already satisfied: pathy>=0.10.0 in c:\\users\\santh\\virtualbox vms\\linux\\snapshots\\lib\\site-packages (from spacy<3.7.0,>=3.6.0->en-core-web-sm==3.6.0) (0.10.2)\n",
      "Requirement already satisfied: smart-open<7.0.0,>=5.2.1 in c:\\users\\santh\\virtualbox vms\\linux\\snapshots\\lib\\site-packages (from spacy<3.7.0,>=3.6.0->en-core-web-sm==3.6.0) (5.2.1)\n",
      "Requirement already satisfied: tqdm<5.0.0,>=4.38.0 in c:\\users\\santh\\virtualbox vms\\linux\\snapshots\\lib\\site-packages (from spacy<3.7.0,>=3.6.0->en-core-web-sm==3.6.0) (4.65.0)\n",
      "Requirement already satisfied: numpy>=1.15.0 in c:\\users\\santh\\virtualbox vms\\linux\\snapshots\\lib\\site-packages (from spacy<3.7.0,>=3.6.0->en-core-web-sm==3.6.0) (1.24.3)\n",
      "Requirement already satisfied: requests<3.0.0,>=2.13.0 in c:\\users\\santh\\virtualbox vms\\linux\\snapshots\\lib\\site-packages (from spacy<3.7.0,>=3.6.0->en-core-web-sm==3.6.0) (2.31.0)\n",
      "Requirement already satisfied: pydantic!=1.8,!=1.8.1,<3.0.0,>=1.7.4 in c:\\users\\santh\\virtualbox vms\\linux\\snapshots\\lib\\site-packages (from spacy<3.7.0,>=3.6.0->en-core-web-sm==3.6.0) (2.3.0)\n",
      "Requirement already satisfied: jinja2 in c:\\users\\santh\\virtualbox vms\\linux\\snapshots\\lib\\site-packages (from spacy<3.7.0,>=3.6.0->en-core-web-sm==3.6.0) (3.1.2)\n",
      "Requirement already satisfied: setuptools in c:\\users\\santh\\virtualbox vms\\linux\\snapshots\\lib\\site-packages (from spacy<3.7.0,>=3.6.0->en-core-web-sm==3.6.0) (68.2.2)\n",
      "Requirement already satisfied: packaging>=20.0 in c:\\users\\santh\\virtualbox vms\\linux\\snapshots\\lib\\site-packages (from spacy<3.7.0,>=3.6.0->en-core-web-sm==3.6.0) (23.1)\n",
      "Requirement already satisfied: langcodes<4.0.0,>=3.2.0 in c:\\users\\santh\\virtualbox vms\\linux\\snapshots\\lib\\site-packages (from spacy<3.7.0,>=3.6.0->en-core-web-sm==3.6.0) (3.3.0)\n",
      "Requirement already satisfied: annotated-types>=0.4.0 in c:\\users\\santh\\virtualbox vms\\linux\\snapshots\\lib\\site-packages (from pydantic!=1.8,!=1.8.1,<3.0.0,>=1.7.4->spacy<3.7.0,>=3.6.0->en-core-web-sm==3.6.0) (0.5.0)\n",
      "Requirement already satisfied: pydantic-core==2.6.3 in c:\\users\\santh\\virtualbox vms\\linux\\snapshots\\lib\\site-packages (from pydantic!=1.8,!=1.8.1,<3.0.0,>=1.7.4->spacy<3.7.0,>=3.6.0->en-core-web-sm==3.6.0) (2.6.3)\n",
      "Requirement already satisfied: typing-extensions>=4.6.1 in c:\\users\\santh\\virtualbox vms\\linux\\snapshots\\lib\\site-packages (from pydantic!=1.8,!=1.8.1,<3.0.0,>=1.7.4->spacy<3.7.0,>=3.6.0->en-core-web-sm==3.6.0) (4.7.1)\n",
      "Requirement already satisfied: charset-normalizer<4,>=2 in c:\\users\\santh\\virtualbox vms\\linux\\snapshots\\lib\\site-packages (from requests<3.0.0,>=2.13.0->spacy<3.7.0,>=3.6.0->en-core-web-sm==3.6.0) (2.0.4)\n",
      "Requirement already satisfied: idna<4,>=2.5 in c:\\users\\santh\\virtualbox vms\\linux\\snapshots\\lib\\site-packages (from requests<3.0.0,>=2.13.0->spacy<3.7.0,>=3.6.0->en-core-web-sm==3.6.0) (3.4)\n",
      "Requirement already satisfied: urllib3<3,>=1.21.1 in c:\\users\\santh\\virtualbox vms\\linux\\snapshots\\lib\\site-packages (from requests<3.0.0,>=2.13.0->spacy<3.7.0,>=3.6.0->en-core-web-sm==3.6.0) (1.26.16)\n",
      "Requirement already satisfied: certifi>=2017.4.17 in c:\\users\\santh\\virtualbox vms\\linux\\snapshots\\lib\\site-packages (from requests<3.0.0,>=2.13.0->spacy<3.7.0,>=3.6.0->en-core-web-sm==3.6.0) (2023.7.22)\n",
      "Requirement already satisfied: blis<0.8.0,>=0.7.8 in c:\\users\\santh\\virtualbox vms\\linux\\snapshots\\lib\\site-packages (from thinc<8.2.0,>=8.1.8->spacy<3.7.0,>=3.6.0->en-core-web-sm==3.6.0) (0.7.10)\n",
      "Requirement already satisfied: confection<1.0.0,>=0.0.1 in c:\\users\\santh\\virtualbox vms\\linux\\snapshots\\lib\\site-packages (from thinc<8.2.0,>=8.1.8->spacy<3.7.0,>=3.6.0->en-core-web-sm==3.6.0) (0.1.3)\n",
      "Requirement already satisfied: colorama in c:\\users\\santh\\virtualbox vms\\linux\\snapshots\\lib\\site-packages (from tqdm<5.0.0,>=4.38.0->spacy<3.7.0,>=3.6.0->en-core-web-sm==3.6.0) (0.4.6)\n",
      "Requirement already satisfied: click<9.0.0,>=7.1.1 in c:\\users\\santh\\virtualbox vms\\linux\\snapshots\\lib\\site-packages (from typer<0.10.0,>=0.3.0->spacy<3.7.0,>=3.6.0->en-core-web-sm==3.6.0) (8.0.4)\n",
      "Requirement already satisfied: MarkupSafe>=2.0 in c:\\users\\santh\\virtualbox vms\\linux\\snapshots\\lib\\site-packages (from jinja2->spacy<3.7.0,>=3.6.0->en-core-web-sm==3.6.0) (2.1.1)\n",
      "\u001b[38;5;2m[+] Download and installation successful\u001b[0m\n",
      "You can now load the package via spacy.load('en_core_web_sm')\n"
     ]
    }
   ],
   "source": [
    "!pip install -U pip setuptools wheel\n",
    "!pip install -U spacy\n",
    "!python -m spacy download en_core_web_sm"
   ]
  },
  {
   "cell_type": "code",
   "execution_count": null,
   "id": "ff138bc8",
   "metadata": {},
   "outputs": [],
   "source": []
  },
  {
   "cell_type": "code",
   "execution_count": null,
   "id": "82728c3d",
   "metadata": {},
   "outputs": [],
   "source": []
  },
  {
   "cell_type": "code",
   "execution_count": null,
   "id": "8c93e502",
   "metadata": {},
   "outputs": [],
   "source": []
  },
  {
   "cell_type": "code",
   "execution_count": 128,
   "id": "02a7047c",
   "metadata": {},
   "outputs": [
    {
     "name": "stdout",
     "output_type": "stream",
     "text": [
      "Requirement already satisfied: Spacy in c:\\users\\santh\\virtualbox vms\\linux\\snapshots\\lib\\site-packages (3.6.1)\n",
      "Requirement already satisfied: spacy-legacy<3.1.0,>=3.0.11 in c:\\users\\santh\\virtualbox vms\\linux\\snapshots\\lib\\site-packages (from Spacy) (3.0.12)\n",
      "Requirement already satisfied: spacy-loggers<2.0.0,>=1.0.0 in c:\\users\\santh\\virtualbox vms\\linux\\snapshots\\lib\\site-packages (from Spacy) (1.0.5)\n",
      "Requirement already satisfied: murmurhash<1.1.0,>=0.28.0 in c:\\users\\santh\\virtualbox vms\\linux\\snapshots\\lib\\site-packages (from Spacy) (1.0.10)\n",
      "Requirement already satisfied: cymem<2.1.0,>=2.0.2 in c:\\users\\santh\\virtualbox vms\\linux\\snapshots\\lib\\site-packages (from Spacy) (2.0.8)\n",
      "Requirement already satisfied: preshed<3.1.0,>=3.0.2 in c:\\users\\santh\\virtualbox vms\\linux\\snapshots\\lib\\site-packages (from Spacy) (3.0.9)\n",
      "Requirement already satisfied: thinc<8.2.0,>=8.1.8 in c:\\users\\santh\\virtualbox vms\\linux\\snapshots\\lib\\site-packages (from Spacy) (8.1.12)\n",
      "Requirement already satisfied: wasabi<1.2.0,>=0.9.1 in c:\\users\\santh\\virtualbox vms\\linux\\snapshots\\lib\\site-packages (from Spacy) (1.1.2)\n",
      "Requirement already satisfied: srsly<3.0.0,>=2.4.3 in c:\\users\\santh\\virtualbox vms\\linux\\snapshots\\lib\\site-packages (from Spacy) (2.4.7)\n",
      "Requirement already satisfied: catalogue<2.1.0,>=2.0.6 in c:\\users\\santh\\virtualbox vms\\linux\\snapshots\\lib\\site-packages (from Spacy) (2.0.9)\n",
      "Requirement already satisfied: typer<0.10.0,>=0.3.0 in c:\\users\\santh\\virtualbox vms\\linux\\snapshots\\lib\\site-packages (from Spacy) (0.9.0)\n",
      "Requirement already satisfied: pathy>=0.10.0 in c:\\users\\santh\\virtualbox vms\\linux\\snapshots\\lib\\site-packages (from Spacy) (0.10.2)\n",
      "Requirement already satisfied: smart-open<7.0.0,>=5.2.1 in c:\\users\\santh\\virtualbox vms\\linux\\snapshots\\lib\\site-packages (from Spacy) (5.2.1)\n",
      "Requirement already satisfied: tqdm<5.0.0,>=4.38.0 in c:\\users\\santh\\virtualbox vms\\linux\\snapshots\\lib\\site-packages (from Spacy) (4.65.0)\n",
      "Requirement already satisfied: numpy>=1.15.0 in c:\\users\\santh\\virtualbox vms\\linux\\snapshots\\lib\\site-packages (from Spacy) (1.24.3)\n",
      "Requirement already satisfied: requests<3.0.0,>=2.13.0 in c:\\users\\santh\\virtualbox vms\\linux\\snapshots\\lib\\site-packages (from Spacy) (2.31.0)\n",
      "Requirement already satisfied: pydantic!=1.8,!=1.8.1,<3.0.0,>=1.7.4 in c:\\users\\santh\\virtualbox vms\\linux\\snapshots\\lib\\site-packages (from Spacy) (2.3.0)\n",
      "Requirement already satisfied: jinja2 in c:\\users\\santh\\virtualbox vms\\linux\\snapshots\\lib\\site-packages (from Spacy) (3.1.2)\n",
      "Requirement already satisfied: setuptools in c:\\users\\santh\\virtualbox vms\\linux\\snapshots\\lib\\site-packages (from Spacy) (68.2.2)\n",
      "Requirement already satisfied: packaging>=20.0 in c:\\users\\santh\\virtualbox vms\\linux\\snapshots\\lib\\site-packages (from Spacy) (23.1)\n",
      "Requirement already satisfied: langcodes<4.0.0,>=3.2.0 in c:\\users\\santh\\virtualbox vms\\linux\\snapshots\\lib\\site-packages (from Spacy) (3.3.0)\n",
      "Requirement already satisfied: annotated-types>=0.4.0 in c:\\users\\santh\\virtualbox vms\\linux\\snapshots\\lib\\site-packages (from pydantic!=1.8,!=1.8.1,<3.0.0,>=1.7.4->Spacy) (0.5.0)\n",
      "Requirement already satisfied: pydantic-core==2.6.3 in c:\\users\\santh\\virtualbox vms\\linux\\snapshots\\lib\\site-packages (from pydantic!=1.8,!=1.8.1,<3.0.0,>=1.7.4->Spacy) (2.6.3)\n",
      "Requirement already satisfied: typing-extensions>=4.6.1 in c:\\users\\santh\\virtualbox vms\\linux\\snapshots\\lib\\site-packages (from pydantic!=1.8,!=1.8.1,<3.0.0,>=1.7.4->Spacy) (4.7.1)\n",
      "Requirement already satisfied: charset-normalizer<4,>=2 in c:\\users\\santh\\virtualbox vms\\linux\\snapshots\\lib\\site-packages (from requests<3.0.0,>=2.13.0->Spacy) (2.0.4)\n",
      "Requirement already satisfied: idna<4,>=2.5 in c:\\users\\santh\\virtualbox vms\\linux\\snapshots\\lib\\site-packages (from requests<3.0.0,>=2.13.0->Spacy) (3.4)\n",
      "Requirement already satisfied: urllib3<3,>=1.21.1 in c:\\users\\santh\\virtualbox vms\\linux\\snapshots\\lib\\site-packages (from requests<3.0.0,>=2.13.0->Spacy) (1.26.16)\n",
      "Requirement already satisfied: certifi>=2017.4.17 in c:\\users\\santh\\virtualbox vms\\linux\\snapshots\\lib\\site-packages (from requests<3.0.0,>=2.13.0->Spacy) (2023.7.22)\n",
      "Requirement already satisfied: blis<0.8.0,>=0.7.8 in c:\\users\\santh\\virtualbox vms\\linux\\snapshots\\lib\\site-packages (from thinc<8.2.0,>=8.1.8->Spacy) (0.7.10)\n",
      "Requirement already satisfied: confection<1.0.0,>=0.0.1 in c:\\users\\santh\\virtualbox vms\\linux\\snapshots\\lib\\site-packages (from thinc<8.2.0,>=8.1.8->Spacy) (0.1.3)\n",
      "Requirement already satisfied: colorama in c:\\users\\santh\\virtualbox vms\\linux\\snapshots\\lib\\site-packages (from tqdm<5.0.0,>=4.38.0->Spacy) (0.4.6)\n",
      "Requirement already satisfied: click<9.0.0,>=7.1.1 in c:\\users\\santh\\virtualbox vms\\linux\\snapshots\\lib\\site-packages (from typer<0.10.0,>=0.3.0->Spacy) (8.0.4)\n",
      "Requirement already satisfied: MarkupSafe>=2.0 in c:\\users\\santh\\virtualbox vms\\linux\\snapshots\\lib\\site-packages (from jinja2->Spacy) (2.1.1)\n",
      "Note: you may need to restart the kernel to use updated packages.\n"
     ]
    }
   ],
   "source": [
    "pip install Spacy"
   ]
  },
  {
   "cell_type": "code",
   "execution_count": 129,
   "id": "3129ab6b",
   "metadata": {},
   "outputs": [
    {
     "data": {
      "text/plain": [
       "<spacy.lang.en.English at 0x16d7e856f10>"
      ]
     },
     "execution_count": 129,
     "metadata": {},
     "output_type": "execute_result"
    }
   ],
   "source": [
    "import spacy\n",
    "spacy.load(\"en_core_web_sm\")"
   ]
  },
  {
   "cell_type": "code",
   "execution_count": 130,
   "id": "4d5faf5f",
   "metadata": {},
   "outputs": [],
   "source": [
    "nlp = spacy.load('en_core_web_sm')"
   ]
  },
  {
   "cell_type": "code",
   "execution_count": 131,
   "id": "b4a2590d",
   "metadata": {},
   "outputs": [],
   "source": [
    "x = 'this is chocolates. what is times? this balls '"
   ]
  },
  {
   "cell_type": "code",
   "execution_count": 132,
   "id": "6a53fa94",
   "metadata": {},
   "outputs": [],
   "source": [
    "def make_to_base(x):\n",
    "    x = str(x)\n",
    "    x_list=[]\n",
    "    doc = nlp(x)\n",
    "    \n",
    "    for token in doc:\n",
    "        lemma = token.lemma_\n",
    "        if lemma == '-PRON-' or lemma == 'be':\n",
    "            lemma = token.text\n",
    "        x_list.append(lemma)\n",
    "    return ' '.join(x_list)"
   ]
  },
  {
   "cell_type": "code",
   "execution_count": 133,
   "id": "8726ecf7",
   "metadata": {},
   "outputs": [
    {
     "data": {
      "text/plain": [
       "'this is chocolate . what is time ? this ball'"
      ]
     },
     "execution_count": 133,
     "metadata": {},
     "output_type": "execute_result"
    }
   ],
   "source": [
    "make_to_base(x)"
   ]
  },
  {
   "cell_type": "code",
   "execution_count": 134,
   "id": "3d124ecf",
   "metadata": {},
   "outputs": [],
   "source": [
    "df['twitts'] = df['twitts'].apply(lambda x:make_to_base(x))"
   ]
  },
  {
   "cell_type": "code",
   "execution_count": 135,
   "id": "5e6de088",
   "metadata": {},
   "outputs": [
    {
     "data": {
      "text/html": [
       "<div>\n",
       "<style scoped>\n",
       "    .dataframe tbody tr th:only-of-type {\n",
       "        vertical-align: middle;\n",
       "    }\n",
       "\n",
       "    .dataframe tbody tr th {\n",
       "        vertical-align: top;\n",
       "    }\n",
       "\n",
       "    .dataframe thead th {\n",
       "        text-align: right;\n",
       "    }\n",
       "</style>\n",
       "<table border=\"1\" class=\"dataframe\">\n",
       "  <thead>\n",
       "    <tr style=\"text-align: right;\">\n",
       "      <th></th>\n",
       "      <th>twitts</th>\n",
       "      <th>sentiment</th>\n",
       "      <th>word_counts</th>\n",
       "      <th>char_counts</th>\n",
       "      <th>Average_word_length</th>\n",
       "      <th>stop_words_len</th>\n",
       "      <th>hashtags_count</th>\n",
       "      <th>numerics_count</th>\n",
       "      <th>upper_counts</th>\n",
       "      <th>emails</th>\n",
       "      <th>email_count</th>\n",
       "      <th>url_flags</th>\n",
       "      <th>chars</th>\n",
       "      <th>accented</th>\n",
       "      <th>twitts_no_stop</th>\n",
       "    </tr>\n",
       "  </thead>\n",
       "  <tbody>\n",
       "    <tr>\n",
       "      <th>1392</th>\n",
       "      <td>I want to see alice in chain in the 90 's &lt;3</td>\n",
       "      <td>0</td>\n",
       "      <td>11</td>\n",
       "      <td>37</td>\n",
       "      <td>3.363636</td>\n",
       "      <td>5</td>\n",
       "      <td>0</td>\n",
       "      <td>0</td>\n",
       "      <td>1</td>\n",
       "      <td>[]</td>\n",
       "      <td>0</td>\n",
       "      <td>80</td>\n",
       "      <td>'  &amp;;</td>\n",
       "      <td>i want to see alice in chains in the 90's &lt;3</td>\n",
       "      <td>want alice chains 90's &lt;3</td>\n",
       "    </tr>\n",
       "    <tr>\n",
       "      <th>1273</th>\n",
       "      <td>wow , really tired and unmotivate today . but ...</td>\n",
       "      <td>0</td>\n",
       "      <td>24</td>\n",
       "      <td>112</td>\n",
       "      <td>4.666667</td>\n",
       "      <td>9</td>\n",
       "      <td>0</td>\n",
       "      <td>0</td>\n",
       "      <td>1</td>\n",
       "      <td>[]</td>\n",
       "      <td>0</td>\n",
       "      <td>80</td>\n",
       "      <td>,     .         .   ,      ! ;-)</td>\n",
       "      <td>wow, really tired and unmotivated today. but t...</td>\n",
       "      <td>wow, tired unmotivated today. neurons counted ...</td>\n",
       "    </tr>\n",
       "  </tbody>\n",
       "</table>\n",
       "</div>"
      ],
      "text/plain": [
       "                                                 twitts  sentiment  \\\n",
       "1392       I want to see alice in chain in the 90 's <3          0   \n",
       "1273  wow , really tired and unmotivate today . but ...          0   \n",
       "\n",
       "      word_counts  char_counts  Average_word_length  stop_words_len  \\\n",
       "1392           11           37             3.363636               5   \n",
       "1273           24          112             4.666667               9   \n",
       "\n",
       "      hashtags_count  numerics_count  upper_counts emails  email_count  \\\n",
       "1392               0               0             1     []            0   \n",
       "1273               0               0             1     []            0   \n",
       "\n",
       "      url_flags                             chars  \\\n",
       "1392         80                             '  &;   \n",
       "1273         80  ,     .         .   ,      ! ;-)   \n",
       "\n",
       "                                               accented  \\\n",
       "1392       i want to see alice in chains in the 90's <3   \n",
       "1273  wow, really tired and unmotivated today. but t...   \n",
       "\n",
       "                                         twitts_no_stop  \n",
       "1392                          want alice chains 90's <3  \n",
       "1273  wow, tired unmotivated today. neurons counted ...  "
      ]
     },
     "execution_count": 135,
     "metadata": {},
     "output_type": "execute_result"
    }
   ],
   "source": [
    "df.sample(2)"
   ]
  },
  {
   "cell_type": "code",
   "execution_count": 136,
   "id": "f6271e90",
   "metadata": {},
   "outputs": [],
   "source": [
    "#------------------------"
   ]
  },
  {
   "cell_type": "markdown",
   "id": "92dae85e",
   "metadata": {},
   "source": [
    "# Common words removal"
   ]
  },
  {
   "cell_type": "code",
   "execution_count": 137,
   "id": "1186f46a",
   "metadata": {},
   "outputs": [],
   "source": [
    "x = 'this is this okey bye'"
   ]
  },
  {
   "cell_type": "code",
   "execution_count": 138,
   "id": "612a12c7",
   "metadata": {},
   "outputs": [],
   "source": [
    "text = ' '.join(df['twitts'])"
   ]
  },
  {
   "cell_type": "code",
   "execution_count": 139,
   "id": "7e171ea7",
   "metadata": {},
   "outputs": [
    {
     "data": {
      "text/plain": [
       "293747"
      ]
     },
     "execution_count": 139,
     "metadata": {},
     "output_type": "execute_result"
    }
   ],
   "source": [
    "len(text)"
   ]
  },
  {
   "cell_type": "code",
   "execution_count": 140,
   "id": "bd3c006b",
   "metadata": {},
   "outputs": [],
   "source": [
    "text = text.split()"
   ]
  },
  {
   "cell_type": "code",
   "execution_count": 141,
   "id": "12e9bc3a",
   "metadata": {},
   "outputs": [
    {
     "data": {
      "text/plain": [
       "63477"
      ]
     },
     "execution_count": 141,
     "metadata": {},
     "output_type": "execute_result"
    }
   ],
   "source": [
    "len(text)"
   ]
  },
  {
   "cell_type": "code",
   "execution_count": 142,
   "id": "cc15d840",
   "metadata": {},
   "outputs": [
    {
     "data": {
      "text/plain": [
       "0           is\n",
       "1        bored\n",
       "2          and\n",
       "3         want\n",
       "4           to\n",
       "         ...  \n",
       "63472      for\n",
       "63473      you\n",
       "63474        I\n",
       "63475     hope\n",
       "63476        !\n",
       "Length: 63477, dtype: object"
      ]
     },
     "execution_count": 142,
     "metadata": {},
     "output_type": "execute_result"
    }
   ],
   "source": [
    "pd.Series(text)"
   ]
  },
  {
   "cell_type": "code",
   "execution_count": 143,
   "id": "a38544b1",
   "metadata": {},
   "outputs": [],
   "source": [
    "freq_comm = pd.Series(text).value_counts()"
   ]
  },
  {
   "cell_type": "code",
   "execution_count": 144,
   "id": "4e08f156",
   "metadata": {},
   "outputs": [
    {
     "data": {
      "text/plain": [
       "I             2994\n",
       "!             2294\n",
       ".             2148\n",
       "to            1460\n",
       "the           1304\n",
       "              ... \n",
       "bennington       1\n",
       "whitener         1\n",
       "teef             1\n",
       "@torhart         1\n",
       "@omarepps        1\n",
       "Name: count, Length: 8908, dtype: int64"
      ]
     },
     "execution_count": 144,
     "metadata": {},
     "output_type": "execute_result"
    }
   ],
   "source": [
    "freq_comm"
   ]
  },
  {
   "cell_type": "code",
   "execution_count": 145,
   "id": "206c21e6",
   "metadata": {},
   "outputs": [],
   "source": [
    "f20 = freq_comm[:20]"
   ]
  },
  {
   "cell_type": "code",
   "execution_count": 146,
   "id": "16a3b307",
   "metadata": {},
   "outputs": [
    {
     "data": {
      "text/plain": [
       "I       2994\n",
       "!       2294\n",
       ".       2148\n",
       "to      1460\n",
       "the     1304\n",
       ",       1223\n",
       "a        963\n",
       "is       915\n",
       "not      897\n",
       "my       830\n",
       "you      774\n",
       "it       740\n",
       "and      719\n",
       "have     626\n",
       "do       614\n",
       "?        582\n",
       "in       581\n",
       "for      522\n",
       "...      519\n",
       "of       482\n",
       "Name: count, dtype: int64"
      ]
     },
     "execution_count": 146,
     "metadata": {},
     "output_type": "execute_result"
    }
   ],
   "source": [
    "f20"
   ]
  },
  {
   "cell_type": "code",
   "execution_count": 147,
   "id": "a257a924",
   "metadata": {},
   "outputs": [],
   "source": [
    "# df['freq_comm'] = df['twitts'].apply(lambda x:' '.join([t for t in x.split() if t not in f20]))"
   ]
  },
  {
   "cell_type": "code",
   "execution_count": 148,
   "id": "3d01b58f",
   "metadata": {},
   "outputs": [],
   "source": [
    "df['twitts'] = df['twitts'].apply(lambda x:' '.join([t for t in x.split() if t not in f20]))"
   ]
  },
  {
   "cell_type": "code",
   "execution_count": 149,
   "id": "9c50aa3d",
   "metadata": {},
   "outputs": [
    {
     "data": {
      "text/html": [
       "<div>\n",
       "<style scoped>\n",
       "    .dataframe tbody tr th:only-of-type {\n",
       "        vertical-align: middle;\n",
       "    }\n",
       "\n",
       "    .dataframe tbody tr th {\n",
       "        vertical-align: top;\n",
       "    }\n",
       "\n",
       "    .dataframe thead th {\n",
       "        text-align: right;\n",
       "    }\n",
       "</style>\n",
       "<table border=\"1\" class=\"dataframe\">\n",
       "  <thead>\n",
       "    <tr style=\"text-align: right;\">\n",
       "      <th></th>\n",
       "      <th>twitts</th>\n",
       "      <th>sentiment</th>\n",
       "      <th>word_counts</th>\n",
       "      <th>char_counts</th>\n",
       "      <th>Average_word_length</th>\n",
       "      <th>stop_words_len</th>\n",
       "      <th>hashtags_count</th>\n",
       "      <th>numerics_count</th>\n",
       "      <th>upper_counts</th>\n",
       "      <th>emails</th>\n",
       "      <th>email_count</th>\n",
       "      <th>url_flags</th>\n",
       "      <th>chars</th>\n",
       "      <th>accented</th>\n",
       "      <th>twitts_no_stop</th>\n",
       "    </tr>\n",
       "  </thead>\n",
       "  <tbody>\n",
       "    <tr>\n",
       "      <th>2973</th>\n",
       "      <td>first song make on garage band with computer k...</td>\n",
       "      <td>1</td>\n",
       "      <td>12</td>\n",
       "      <td>73</td>\n",
       "      <td>6.083333</td>\n",
       "      <td>5</td>\n",
       "      <td>0</td>\n",
       "      <td>0</td>\n",
       "      <td>0</td>\n",
       "      <td>[]</td>\n",
       "      <td>0</td>\n",
       "      <td>80</td>\n",
       "      <td></td>\n",
       "      <td>my first song made on garage band with the com...</td>\n",
       "      <td>song garage band computer keyboard</td>\n",
       "    </tr>\n",
       "    <tr>\n",
       "      <th>1813</th>\n",
       "      <td>@eve76 neither bub</td>\n",
       "      <td>0</td>\n",
       "      <td>4</td>\n",
       "      <td>19</td>\n",
       "      <td>4.750000</td>\n",
       "      <td>2</td>\n",
       "      <td>1</td>\n",
       "      <td>0</td>\n",
       "      <td>0</td>\n",
       "      <td>[]</td>\n",
       "      <td>0</td>\n",
       "      <td>80</td>\n",
       "      <td>@</td>\n",
       "      <td>@eve76 me neither bubs</td>\n",
       "      <td>@eve76 bubs</td>\n",
       "    </tr>\n",
       "  </tbody>\n",
       "</table>\n",
       "</div>"
      ],
      "text/plain": [
       "                                                 twitts  sentiment  \\\n",
       "2973  first song make on garage band with computer k...          1   \n",
       "1813                                 @eve76 neither bub          0   \n",
       "\n",
       "      word_counts  char_counts  Average_word_length  stop_words_len  \\\n",
       "2973           12           73             6.083333               5   \n",
       "1813            4           19             4.750000               2   \n",
       "\n",
       "      hashtags_count  numerics_count  upper_counts emails  email_count  \\\n",
       "2973               0               0             0     []            0   \n",
       "1813               1               0             0     []            0   \n",
       "\n",
       "      url_flags       chars  \\\n",
       "2973         80               \n",
       "1813         80        @      \n",
       "\n",
       "                                               accented  \\\n",
       "2973  my first song made on garage band with the com...   \n",
       "1813                             @eve76 me neither bubs   \n",
       "\n",
       "                          twitts_no_stop  \n",
       "2973  song garage band computer keyboard  \n",
       "1813                         @eve76 bubs  "
      ]
     },
     "execution_count": 149,
     "metadata": {},
     "output_type": "execute_result"
    }
   ],
   "source": [
    "df.sample(2)"
   ]
  },
  {
   "cell_type": "markdown",
   "id": "48510244",
   "metadata": {},
   "source": [
    "# Rare words removal"
   ]
  },
  {
   "cell_type": "code",
   "execution_count": 150,
   "id": "0cbfead0",
   "metadata": {},
   "outputs": [
    {
     "data": {
      "text/plain": [
       "I             2994\n",
       "!             2294\n",
       ".             2148\n",
       "to            1460\n",
       "the           1304\n",
       "              ... \n",
       "bennington       1\n",
       "whitener         1\n",
       "teef             1\n",
       "@torhart         1\n",
       "@omarepps        1\n",
       "Name: count, Length: 8908, dtype: int64"
      ]
     },
     "execution_count": 150,
     "metadata": {},
     "output_type": "execute_result"
    }
   ],
   "source": [
    "freq_comm"
   ]
  },
  {
   "cell_type": "code",
   "execution_count": 151,
   "id": "b5c25c23",
   "metadata": {},
   "outputs": [
    {
     "data": {
      "text/plain": [
       "michelle            1\n",
       "rvrse               1\n",
       "fastfwd             1\n",
       "silverlight         1\n",
       "@asktechnetuk       1\n",
       "nnnnnnoooooooooo    1\n",
       "openoffice          1\n",
       "i?c.b+t.h||         1\n",
       "delivery            1\n",
       "signature           1\n",
       "technology          1\n",
       "griffin             1\n",
       "@nabu_dew           1\n",
       "@razorianfly        1\n",
       "daze                1\n",
       "bennington          1\n",
       "whitener            1\n",
       "teef                1\n",
       "@torhart            1\n",
       "@omarepps           1\n",
       "Name: count, dtype: int64"
      ]
     },
     "execution_count": 151,
     "metadata": {},
     "output_type": "execute_result"
    }
   ],
   "source": [
    "freq_comm.tail(20)"
   ]
  },
  {
   "cell_type": "code",
   "execution_count": 152,
   "id": "f0625d0b",
   "metadata": {},
   "outputs": [],
   "source": [
    "rare20 = freq_comm.tail(20)"
   ]
  },
  {
   "cell_type": "code",
   "execution_count": 153,
   "id": "5ecee9fc",
   "metadata": {},
   "outputs": [],
   "source": [
    "df['twitts'] = df['twitts'].apply(lambda x:' '.join([t for t in x.split() if t not in rare20]))"
   ]
  },
  {
   "cell_type": "code",
   "execution_count": 154,
   "id": "a0ef6d10",
   "metadata": {},
   "outputs": [
    {
     "data": {
      "text/html": [
       "<div>\n",
       "<style scoped>\n",
       "    .dataframe tbody tr th:only-of-type {\n",
       "        vertical-align: middle;\n",
       "    }\n",
       "\n",
       "    .dataframe tbody tr th {\n",
       "        vertical-align: top;\n",
       "    }\n",
       "\n",
       "    .dataframe thead th {\n",
       "        text-align: right;\n",
       "    }\n",
       "</style>\n",
       "<table border=\"1\" class=\"dataframe\">\n",
       "  <thead>\n",
       "    <tr style=\"text-align: right;\">\n",
       "      <th></th>\n",
       "      <th>twitts</th>\n",
       "      <th>sentiment</th>\n",
       "      <th>word_counts</th>\n",
       "      <th>char_counts</th>\n",
       "      <th>Average_word_length</th>\n",
       "      <th>stop_words_len</th>\n",
       "      <th>hashtags_count</th>\n",
       "      <th>numerics_count</th>\n",
       "      <th>upper_counts</th>\n",
       "      <th>emails</th>\n",
       "      <th>email_count</th>\n",
       "      <th>url_flags</th>\n",
       "      <th>chars</th>\n",
       "      <th>accented</th>\n",
       "      <th>twitts_no_stop</th>\n",
       "    </tr>\n",
       "  </thead>\n",
       "  <tbody>\n",
       "    <tr>\n",
       "      <th>3171</th>\n",
       "      <td>just get so blessed attend mass</td>\n",
       "      <td>1</td>\n",
       "      <td>8</td>\n",
       "      <td>33</td>\n",
       "      <td>4.125000</td>\n",
       "      <td>2</td>\n",
       "      <td>0</td>\n",
       "      <td>0</td>\n",
       "      <td>0</td>\n",
       "      <td>[]</td>\n",
       "      <td>0</td>\n",
       "      <td>80</td>\n",
       "      <td>!</td>\n",
       "      <td>just got so blessed attending the mass !</td>\n",
       "      <td>got blessed attending mass !</td>\n",
       "    </tr>\n",
       "    <tr>\n",
       "      <th>2821</th>\n",
       "      <td>@marisaswart that make 2 we ..</td>\n",
       "      <td>1</td>\n",
       "      <td>6</td>\n",
       "      <td>28</td>\n",
       "      <td>4.666667</td>\n",
       "      <td>2</td>\n",
       "      <td>1</td>\n",
       "      <td>1</td>\n",
       "      <td>0</td>\n",
       "      <td>[]</td>\n",
       "      <td>0</td>\n",
       "      <td>80</td>\n",
       "      <td>@     ..</td>\n",
       "      <td>@marisaswart that makes 2 of us..</td>\n",
       "      <td>@marisaswart makes 2 us..</td>\n",
       "    </tr>\n",
       "  </tbody>\n",
       "</table>\n",
       "</div>"
      ],
      "text/plain": [
       "                               twitts  sentiment  word_counts  char_counts  \\\n",
       "3171  just get so blessed attend mass          1            8           33   \n",
       "2821   @marisaswart that make 2 we ..          1            6           28   \n",
       "\n",
       "      Average_word_length  stop_words_len  hashtags_count  numerics_count  \\\n",
       "3171             4.125000               2               0               0   \n",
       "2821             4.666667               2               1               1   \n",
       "\n",
       "      upper_counts emails  email_count  url_flags     chars  \\\n",
       "3171             0     []            0         80         !   \n",
       "2821             0     []            0         80  @     ..   \n",
       "\n",
       "                                      accented                twitts_no_stop  \n",
       "3171  just got so blessed attending the mass !  got blessed attending mass !  \n",
       "2821         @marisaswart that makes 2 of us..     @marisaswart makes 2 us..  "
      ]
     },
     "execution_count": 154,
     "metadata": {},
     "output_type": "execute_result"
    }
   ],
   "source": [
    "df.sample(2)"
   ]
  },
  {
   "cell_type": "markdown",
   "id": "da75e9aa",
   "metadata": {},
   "source": [
    "# word cloud visualization"
   ]
  },
  {
   "cell_type": "code",
   "execution_count": 155,
   "id": "0dcc7664",
   "metadata": {},
   "outputs": [
    {
     "name": "stdout",
     "output_type": "stream",
     "text": [
      "Requirement already satisfied: wordcloud in c:\\users\\santh\\virtualbox vms\\linux\\snapshots\\lib\\site-packages (1.9.2)\n",
      "Requirement already satisfied: numpy>=1.6.1 in c:\\users\\santh\\virtualbox vms\\linux\\snapshots\\lib\\site-packages (from wordcloud) (1.24.3)\n",
      "Requirement already satisfied: pillow in c:\\users\\santh\\virtualbox vms\\linux\\snapshots\\lib\\site-packages (from wordcloud) (9.4.0)\n",
      "Requirement already satisfied: matplotlib in c:\\users\\santh\\virtualbox vms\\linux\\snapshots\\lib\\site-packages (from wordcloud) (3.7.2)\n",
      "Requirement already satisfied: contourpy>=1.0.1 in c:\\users\\santh\\virtualbox vms\\linux\\snapshots\\lib\\site-packages (from matplotlib->wordcloud) (1.0.5)\n",
      "Requirement already satisfied: cycler>=0.10 in c:\\users\\santh\\virtualbox vms\\linux\\snapshots\\lib\\site-packages (from matplotlib->wordcloud) (0.11.0)\n",
      "Requirement already satisfied: fonttools>=4.22.0 in c:\\users\\santh\\virtualbox vms\\linux\\snapshots\\lib\\site-packages (from matplotlib->wordcloud) (4.25.0)\n",
      "Requirement already satisfied: kiwisolver>=1.0.1 in c:\\users\\santh\\virtualbox vms\\linux\\snapshots\\lib\\site-packages (from matplotlib->wordcloud) (1.4.4)\n",
      "Requirement already satisfied: packaging>=20.0 in c:\\users\\santh\\virtualbox vms\\linux\\snapshots\\lib\\site-packages (from matplotlib->wordcloud) (23.1)\n",
      "Requirement already satisfied: pyparsing<3.1,>=2.3.1 in c:\\users\\santh\\virtualbox vms\\linux\\snapshots\\lib\\site-packages (from matplotlib->wordcloud) (3.0.9)\n",
      "Requirement already satisfied: python-dateutil>=2.7 in c:\\users\\santh\\virtualbox vms\\linux\\snapshots\\lib\\site-packages (from matplotlib->wordcloud) (2.8.2)\n",
      "Requirement already satisfied: six>=1.5 in c:\\users\\santh\\virtualbox vms\\linux\\snapshots\\lib\\site-packages (from python-dateutil>=2.7->matplotlib->wordcloud) (1.16.0)\n"
     ]
    }
   ],
   "source": [
    "!pip install wordcloud"
   ]
  },
  {
   "cell_type": "code",
   "execution_count": 156,
   "id": "96caa1a8",
   "metadata": {},
   "outputs": [],
   "source": [
    "from wordcloud import WordCloud\n",
    "import matplotlib.pyplot as plt\n",
    "%matplotlib inline"
   ]
  },
  {
   "cell_type": "code",
   "execution_count": 157,
   "id": "385185df",
   "metadata": {},
   "outputs": [],
   "source": [
    "text = ' '.join(df['twitts'])"
   ]
  },
  {
   "cell_type": "code",
   "execution_count": 158,
   "id": "b51338ff",
   "metadata": {},
   "outputs": [
    {
     "data": {
      "text/plain": [
       "234204"
      ]
     },
     "execution_count": 158,
     "metadata": {},
     "output_type": "execute_result"
    }
   ],
   "source": [
    "len(text)"
   ]
  },
  {
   "cell_type": "code",
   "execution_count": 159,
   "id": "022837b1",
   "metadata": {},
   "outputs": [
    {
     "data": {
      "image/png": "[encoded data removed]",
      "text/plain": [
       "<Figure size 640x480 with 1 Axes>"
      ]
     },
     "metadata": {},
     "output_type": "display_data"
    }
   ],
   "source": [
    "wc = WordCloud(width = 800,height = 400).generate(text)\n",
    "plt.imshow(wc)\n",
    "plt.axis('off')\n",
    "plt.show()"
   ]
  },
  {
   "cell_type": "markdown",
   "id": "753ecf81",
   "metadata": {},
   "source": [
    "# Spelling Correction"
   ]
  },
  {
   "cell_type": "code",
   "execution_count": 160,
   "id": "0fcd5cb7",
   "metadata": {},
   "outputs": [
    {
     "name": "stdout",
     "output_type": "stream",
     "text": [
      "Requirement already satisfied: textblob in c:\\users\\santh\\virtualbox vms\\linux\\snapshots\\lib\\site-packages (0.17.1)\n",
      "Requirement already satisfied: nltk>=3.1 in c:\\users\\santh\\virtualbox vms\\linux\\snapshots\\lib\\site-packages (from textblob) (3.8.1)\n",
      "Requirement already satisfied: click in c:\\users\\santh\\virtualbox vms\\linux\\snapshots\\lib\\site-packages (from nltk>=3.1->textblob) (8.0.4)\n",
      "Requirement already satisfied: joblib in c:\\users\\santh\\virtualbox vms\\linux\\snapshots\\lib\\site-packages (from nltk>=3.1->textblob) (1.2.0)\n",
      "Requirement already satisfied: regex>=2021.8.3 in c:\\users\\santh\\virtualbox vms\\linux\\snapshots\\lib\\site-packages (from nltk>=3.1->textblob) (2022.7.9)\n",
      "Requirement already satisfied: tqdm in c:\\users\\santh\\virtualbox vms\\linux\\snapshots\\lib\\site-packages (from nltk>=3.1->textblob) (4.65.0)\n",
      "Requirement already satisfied: colorama in c:\\users\\santh\\virtualbox vms\\linux\\snapshots\\lib\\site-packages (from click->nltk>=3.1->textblob) (0.4.6)\n"
     ]
    }
   ],
   "source": [
    "!pip install -U textblob"
   ]
  },
  {
   "cell_type": "code",
   "execution_count": 161,
   "id": "1c28ebcf",
   "metadata": {},
   "outputs": [
    {
     "name": "stdout",
     "output_type": "stream",
     "text": [
      "Finished.\n"
     ]
    },
    {
     "name": "stderr",
     "output_type": "stream",
     "text": [
      "[nltk_data] Downloading package brown to\n",
      "[nltk_data]     C:\\Users\\santh\\AppData\\Roaming\\nltk_data...\n",
      "[nltk_data]   Package brown is already up-to-date!\n",
      "[nltk_data] Downloading package punkt to\n",
      "[nltk_data]     C:\\Users\\santh\\AppData\\Roaming\\nltk_data...\n",
      "[nltk_data]   Package punkt is already up-to-date!\n",
      "[nltk_data] Downloading package wordnet to\n",
      "[nltk_data]     C:\\Users\\santh\\AppData\\Roaming\\nltk_data...\n",
      "[nltk_data]   Package wordnet is already up-to-date!\n",
      "[nltk_data] Downloading package averaged_perceptron_tagger to\n",
      "[nltk_data]     C:\\Users\\santh\\AppData\\Roaming\\nltk_data...\n",
      "[nltk_data]   Package averaged_perceptron_tagger is already up-to-\n",
      "[nltk_data]       date!\n",
      "[nltk_data] Downloading package conll2000 to\n",
      "[nltk_data]     C:\\Users\\santh\\AppData\\Roaming\\nltk_data...\n",
      "[nltk_data]   Package conll2000 is already up-to-date!\n",
      "[nltk_data] Downloading package movie_reviews to\n",
      "[nltk_data]     C:\\Users\\santh\\AppData\\Roaming\\nltk_data...\n",
      "[nltk_data]   Package movie_reviews is already up-to-date!\n"
     ]
    }
   ],
   "source": [
    "!python -m textblob.download_corpora"
   ]
  },
  {
   "cell_type": "code",
   "execution_count": 162,
   "id": "5d22304c",
   "metadata": {},
   "outputs": [],
   "source": [
    "from textblob import TextBlob"
   ]
  },
  {
   "cell_type": "code",
   "execution_count": 163,
   "id": "b59d0079",
   "metadata": {},
   "outputs": [],
   "source": [
    "x = 'thanks for visitsng here'"
   ]
  },
  {
   "cell_type": "code",
   "execution_count": 164,
   "id": "019347be",
   "metadata": {},
   "outputs": [],
   "source": [
    "x = TextBlob(x).correct()"
   ]
  },
  {
   "cell_type": "code",
   "execution_count": 165,
   "id": "af62a33c",
   "metadata": {},
   "outputs": [
    {
     "data": {
      "text/plain": [
       "TextBlob(\"thanks for visiting here\")"
      ]
     },
     "execution_count": 165,
     "metadata": {},
     "output_type": "execute_result"
    }
   ],
   "source": [
    "x"
   ]
  },
  {
   "cell_type": "markdown",
   "id": "606d79c6",
   "metadata": {},
   "source": [
    "# Tokenization using TextBlob"
   ]
  },
  {
   "cell_type": "code",
   "execution_count": 166,
   "id": "51521bdd",
   "metadata": {},
   "outputs": [],
   "source": [
    "x = 'thanks#watching this notebook. lets learn more on NLP'"
   ]
  },
  {
   "cell_type": "code",
   "execution_count": 167,
   "id": "7ec8d98e",
   "metadata": {},
   "outputs": [
    {
     "data": {
      "text/plain": [
       "WordList(['thanks', 'watching', 'this', 'notebook', 'lets', 'learn', 'more', 'on', 'NLP'])"
      ]
     },
     "execution_count": 167,
     "metadata": {},
     "output_type": "execute_result"
    }
   ],
   "source": [
    "TextBlob(x).words"
   ]
  },
  {
   "cell_type": "code",
   "execution_count": 168,
   "id": "30da1d7a",
   "metadata": {},
   "outputs": [],
   "source": [
    "# comparing with spacy tokenization"
   ]
  },
  {
   "cell_type": "code",
   "execution_count": 169,
   "id": "1d739488",
   "metadata": {},
   "outputs": [
    {
     "name": "stdout",
     "output_type": "stream",
     "text": [
      "thanks#watching\n",
      "this\n",
      "notebook\n",
      ".\n",
      "lets\n",
      "learn\n",
      "more\n",
      "on\n",
      "NLP\n"
     ]
    }
   ],
   "source": [
    "doc = nlp(x)\n",
    "for token in doc:\n",
    "    print(token)"
   ]
  },
  {
   "cell_type": "markdown",
   "id": "13b99225",
   "metadata": {},
   "source": [
    "# Detecting Nouns"
   ]
  },
  {
   "cell_type": "code",
   "execution_count": 170,
   "id": "137fe1dd",
   "metadata": {},
   "outputs": [],
   "source": [
    "x = \"Breaking news: Donal Trump, the president of the USA is looking to sign a deal to mine the moon\""
   ]
  },
  {
   "cell_type": "code",
   "execution_count": 171,
   "id": "58a7bf43",
   "metadata": {},
   "outputs": [],
   "source": [
    "doc = nlp(x)"
   ]
  },
  {
   "cell_type": "code",
   "execution_count": 172,
   "id": "3367f8e1",
   "metadata": {},
   "outputs": [
    {
     "name": "stdout",
     "output_type": "stream",
     "text": [
      "Breaking news\n",
      "Donal Trump\n",
      "the president\n",
      "the USA\n",
      "a deal\n",
      "the moon\n"
     ]
    }
   ],
   "source": [
    "for noun in doc.noun_chunks:\n",
    "    print(noun)"
   ]
  },
  {
   "cell_type": "markdown",
   "id": "3ca8767b",
   "metadata": {},
   "source": [
    "# Language Translation and Detection"
   ]
  },
  {
   "cell_type": "code",
   "execution_count": 173,
   "id": "7e33a64b",
   "metadata": {},
   "outputs": [
    {
     "name": "stdout",
     "output_type": "stream",
     "text": [
      "Requirement already satisfied: requests in c:\\users\\santh\\virtualbox vms\\linux\\snapshots\\lib\\site-packages (2.31.0)\n",
      "Requirement already satisfied: charset-normalizer<4,>=2 in c:\\users\\santh\\virtualbox vms\\linux\\snapshots\\lib\\site-packages (from requests) (2.0.4)\n",
      "Requirement already satisfied: idna<4,>=2.5 in c:\\users\\santh\\virtualbox vms\\linux\\snapshots\\lib\\site-packages (from requests) (3.4)\n",
      "Requirement already satisfied: urllib3<3,>=1.21.1 in c:\\users\\santh\\virtualbox vms\\linux\\snapshots\\lib\\site-packages (from requests) (1.26.16)\n",
      "Requirement already satisfied: certifi>=2017.4.17 in c:\\users\\santh\\virtualbox vms\\linux\\snapshots\\lib\\site-packages (from requests) (2023.7.22)\n"
     ]
    }
   ],
   "source": [
    "!pip install requests\n"
   ]
  },
  {
   "cell_type": "code",
   "execution_count": 174,
   "id": "fb1ef82d",
   "metadata": {},
   "outputs": [
    {
     "name": "stdout",
     "output_type": "stream",
     "text": [
      "Response content:\n",
      "HTTP request failed: Expecting value: line 1 column 1 (char 0)\n"
     ]
    }
   ],
   "source": [
    "import requests\n",
    "\n",
    "# URL to make the GET request to\n",
    "url = \"https://www.loc.gov/standards/iso639-2/php/code_list.php\"\n",
    "\n",
    "try:\n",
    "    # Send a GET request\n",
    "    response = requests.get(url)\n",
    "\n",
    "    # Check if the request was successful (HTTP status code 200)\n",
    "    if response.status_code == 200:\n",
    "        # Print the response content (assuming it's JSON)\n",
    "        print(\"Response content:\")\n",
    "        print(response.json())\n",
    "    else:\n",
    "        print(\"HTTP request failed with status code:\", response.status_code)\n",
    "\n",
    "except requests.exceptions.RequestException as e:\n",
    "    print(\"HTTP request failed:\", e)\n"
   ]
  },
  {
   "cell_type": "code",
   "execution_count": 175,
   "id": "a608755d",
   "metadata": {},
   "outputs": [
    {
     "data": {
      "text/plain": [
       "'Breaking news: Donal Trump, the president of the USA is looking to sign a deal to mine the moon'"
      ]
     },
     "execution_count": 175,
     "metadata": {},
     "output_type": "execute_result"
    }
   ],
   "source": [
    "x"
   ]
  },
  {
   "cell_type": "code",
   "execution_count": 176,
   "id": "0db4eac5",
   "metadata": {},
   "outputs": [],
   "source": [
    "tb = TextBlob(x)"
   ]
  },
  {
   "cell_type": "code",
   "execution_count": 181,
   "id": "b65c00ff",
   "metadata": {},
   "outputs": [],
   "source": [
    "# tb.detect_language()"
   ]
  },
  {
   "cell_type": "code",
   "execution_count": 178,
   "id": "2acbc821",
   "metadata": {},
   "outputs": [
    {
     "data": {
      "text/plain": [
       "'Breaking news: Donal Trump, the president of the USA is looking to sign a deal to mine the moon'"
      ]
     },
     "execution_count": 178,
     "metadata": {},
     "output_type": "execute_result"
    }
   ],
   "source": [
    "x"
   ]
  },
  {
   "cell_type": "code",
   "execution_count": 180,
   "id": "c92f7829",
   "metadata": {},
   "outputs": [],
   "source": [
    "# tb.translate(to = 'fr')"
   ]
  },
  {
   "cell_type": "code",
   "execution_count": 183,
   "id": "a6922164",
   "metadata": {},
   "outputs": [],
   "source": [
    "# def detect_language(text):\n",
    "#     blob = TextBlob(text)\n",
    "#     language = blob.detect_language()\n",
    "#     return language\n",
    "\n",
    "# # Example text for language detection\n",
    "# text_for_detection = \"Bonjour tout le monde\"\n",
    "\n",
    "# # Detect the language of the text\n",
    "# detected_language = detect_language(text_for_detection)\n",
    "# print(\"Detected Language:\", detected_language)\n"
   ]
  },
  {
   "cell_type": "code",
   "execution_count": 185,
   "id": "ca7708a4",
   "metadata": {},
   "outputs": [],
   "source": [
    "from textblob.sentiments import NaiveBayesAnalyzer"
   ]
  },
  {
   "cell_type": "code",
   "execution_count": 186,
   "id": "23fbbe30",
   "metadata": {},
   "outputs": [],
   "source": [
    "x = 'we all stands together. we are gonna win this fight'"
   ]
  },
  {
   "cell_type": "code",
   "execution_count": 187,
   "id": "19998197",
   "metadata": {},
   "outputs": [],
   "source": [
    "tb = TextBlob(x,analyzer = NaiveBayesAnalyzer())"
   ]
  },
  {
   "cell_type": "code",
   "execution_count": 188,
   "id": "dc0866ab",
   "metadata": {},
   "outputs": [
    {
     "data": {
      "text/plain": [
       "Sentiment(classification='pos', p_pos=0.9180581552428241, p_neg=0.0819418447571765)"
      ]
     },
     "execution_count": 188,
     "metadata": {},
     "output_type": "execute_result"
    }
   ],
   "source": [
    "tb.sentiment"
   ]
  },
  {
   "cell_type": "code",
   "execution_count": null,
   "id": "3e2bbec0",
   "metadata": {},
   "outputs": [],
   "source": []
  },
  {
   "cell_type": "code",
   "execution_count": null,
   "id": "01ce1ea1",
   "metadata": {},
   "outputs": [],
   "source": []
  }
 ],
 "metadata": {
  "kernelspec": {
   "display_name": "Python 3 (ipykernel)",
   "language": "python",
   "name": "python3"
  },
  "language_info": {
   "codemirror_mode": {
    "name": "ipython",
    "version": 3
   },
   "file_extension": ".py",
   "mimetype": "text/x-python",
   "name": "python",
   "nbconvert_exporter": "python",
   "pygments_lexer": "ipython3",
   "version": "3.11.4"
  }
 },
 "nbformat": 4,
 "nbformat_minor": 5
}
